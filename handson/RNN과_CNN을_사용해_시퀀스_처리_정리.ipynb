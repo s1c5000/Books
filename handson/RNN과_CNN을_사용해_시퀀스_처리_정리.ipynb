{
  "nbformat": 4,
  "nbformat_minor": 0,
  "metadata": {
    "colab": {
      "name": "RNN과 CNN을 사용해 시퀀스 처리_정리.ipynb",
      "provenance": [],
      "collapsed_sections": [],
      "toc_visible": true,
      "authorship_tag": "ABX9TyOYvk9pD8FJ+qaLiiagZlPn",
      "include_colab_link": true
    },
    "kernelspec": {
      "name": "python3",
      "display_name": "Python 3"
    },
    "language_info": {
      "name": "python"
    }
  },
  "cells": [
    {
      "cell_type": "markdown",
      "metadata": {
        "id": "view-in-github",
        "colab_type": "text"
      },
      "source": [
        "<a href=\"https://colab.research.google.com/github/s1c5000/Books/blob/main/handson/RNN%EA%B3%BC_CNN%EC%9D%84_%EC%82%AC%EC%9A%A9%ED%95%B4_%EC%8B%9C%ED%80%80%EC%8A%A4_%EC%B2%98%EB%A6%AC_%EC%A0%95%EB%A6%AC.ipynb\" target=\"_parent\"><img src=\"https://colab.research.google.com/assets/colab-badge.svg\" alt=\"Open In Colab\"/></a>"
      ]
    },
    {
      "cell_type": "markdown",
      "metadata": {
        "id": "3Mot9qZYyE87"
      },
      "source": [
        "RNN의 동작방식과 구조를 설명한다  \n",
        "입력의 shape부터 모델들의 weights, 출력의 shape를 모두 출력하며 보는것이 흐름을 이해하는데 도움이 된다.  "
      ]
    },
    {
      "cell_type": "code",
      "metadata": {
        "id": "4PqMjocN8rJl"
      },
      "source": [
        "import sys\n",
        "import sklearn\n",
        "import tensorflow as tf\n",
        "from tensorflow import keras\n",
        "import numpy as np\n",
        "import os\n",
        "from pathlib import Path\n",
        "%matplotlib inline\n",
        "import matplotlib as mpl\n",
        "import matplotlib.pyplot as plt"
      ],
      "execution_count": null,
      "outputs": []
    },
    {
      "cell_type": "markdown",
      "metadata": {
        "id": "qjFBTDmB_V1H"
      },
      "source": [
        "\n",
        "Recurrent Neural Network  \n",
        "RNN(순환신경망) 은 미래를 예측할 수 있는 신경망이다  \n",
        "시계열 데이터 분석  \n",
        "\n",
        "\n"
      ]
    },
    {
      "cell_type": "markdown",
      "metadata": {
        "id": "BDsSs2LHAG5Q"
      },
      "source": [
        "# 순환뉴런과 순환 층\n",
        "\n",
        "순환 신경망은 피드포워드 신경망과 비슷하지만 뒤쪽으로 순환하는 연결도 있다.  \n",
        "\n",
        "입력을 받아 출력을 만들고 자신에게도 출력을 내보낸다.  \n",
        "\n",
        "각 타임스텝(프레임)마다 $X_(i)$를 입력으로 받고 이전 스텝의 출력인 $y_(i-1)$도 입력으로 받는다.   \n",
        "첫번째 타임스텝은 이전입력이 없으므로 0으로 설정한다.  \n",
        "\n",
        "이 작은 네트워크를 시간을 축으로하여 표현할 수 있다."
      ]
    },
    {
      "cell_type": "markdown",
      "metadata": {
        "id": "duXzo8LbCLnV"
      },
      "source": [
        "각 뉴런은 두벌의 가중치를 가진다. 하나는 입력 $X_{(i)}$를 위한 것이고 다른 하나는 이전 타임스텝의 출력 $y_{(i-1)}$을 위한 것이다.  \n",
        "이 가중치 벡터를 $W_x$ 와 $W_y$라고 하겠다.  \n",
        "하나의 순환 뉴런이 아니라 순환층 전체를 생각하면 가중치 벡터를 가중치 행렬 $W_x$ 와 $W_y$로 바꿀 수 있다.  \n",
        "그러면 순환층 전체의 출력 벡터는 익숙한 형태인  \n",
        "\n",
        "$ y_(i) = \\phi( W_x ^TX_{(t)} +  W_y ^Ty_{(t-1)} + b) $  \n",
        "\n",
        "로 계산된다.  \n",
        "b는 편향, $\\phi$는 활성화함수"
      ]
    },
    {
      "cell_type": "markdown",
      "metadata": {
        "id": "jB3IRU2yELf7"
      },
      "source": [
        "## 메모리 셀\n",
        "타임스텝 t에서 순환 뉴런의 출력은 이전 타임 스텝의 모든 입력에 대한 함수이므로 이를 일종의 메모리 형태라고 할 수 있다.  \n",
        "타임 스텝에 걸쳐서 어떤 상태를 보존하는 신경망의 구성요소를 메모리 셀 이라고 한다.  \n",
        "하나의 순환뉴런 또는 순환뉴런의 층은 짧은 패턴(보통 10스텝 길이)만 학습할 수 있는 매우 기본적인 셀이다.\n",
        "\n",
        "일반적으로 타임 스텝 t에서의 셀 상태 $h_t$는 그 타임 스텝의 입력과 이전 타임 스텝의 상태에 대한 함수이다  \n",
        "$h_t = f (h_{(t-1)}, x_{(t)})$이다  \n",
        "출력 $y_t$도 이전 상태와 현재 입력에 대한 함수이다"
      ]
    },
    {
      "cell_type": "markdown",
      "metadata": {
        "id": "haP7g5C1SE6Q"
      },
      "source": [
        "## RNN훈련하기  \n",
        "타임스텝으로 네트워크를 펼치고(펼친다고생각, 실제로 펼치거나 그런건 아님) 역전파를 사용하는 것이다.   \n",
        "BPTT(backpropagation through time)이라고 한다  \n",
        "\n",
        "첫번째 정방향 패스가 펼처진 네트워크를 통과한다  \n",
        "그 후 비용함수 C(y(0), y(1),... y(t))를 사용하여 출력 시퀀스가 평가된다.  \n",
        "비용함수의 그레이디언트는 네트워크를 따라 역방향으로 전파된다.\n",
        "\n"
      ]
    },
    {
      "cell_type": "markdown",
      "metadata": {
        "id": "S31_x8fVTvUQ"
      },
      "source": [
        "# 시계열 예측"
      ]
    },
    {
      "cell_type": "code",
      "metadata": {
        "id": "No2_9a7fVH4Y"
      },
      "source": [
        "# 시계열 데이터 생성\n",
        "# \n",
        "def generate_time_series(batch_size, n_steps):\n",
        "    freq1, freq2, offsets1, offsets2 = np.random.rand(4, batch_size, 1) # 각각 10000개의 랜덤변수를 갖는다.\n",
        "    #print(freq1.shape, freq1) # (10000,1) \n",
        "    #print(freq2.shape,freq2) # (10000,1)\n",
        "  \n",
        "    time = np.linspace(0, 1, n_steps) # 0~1 까지 n_steps개수가 되도록 나눔, (51,)\n",
        "    series = 0.5 * np.sin((time - offsets1) * (freq1 * 10 + 10))  #   wave 1, sin함수 모양으로 요동친다. 큰 트랜드\n",
        "    series += 0.2 * np.sin((time - offsets2) * (freq2 * 20 + 20)) # + wave 2, 랜덤성 부여\n",
        "    series += 0.1 * (np.random.rand(batch_size, n_steps) - 0.5)   # + noise, 랜덤성부여\n",
        "    return series[..., np.newaxis].astype(np.float32)"
      ],
      "execution_count": null,
      "outputs": []
    },
    {
      "cell_type": "code",
      "metadata": {
        "id": "RV46QoX7cDFP"
      },
      "source": [
        "np.random.seed(42)\n",
        "\n",
        "n_steps = 50\n",
        "series = generate_time_series(10000, n_steps + 1) #(10000,50,1)\n",
        "X_train, y_train = series[:7000, :n_steps], series[:7000, -1]\n",
        "X_valid, y_valid = series[7000:9000, :n_steps], series[7000:9000, -1]\n",
        "X_test, y_test = series[9000:, :n_steps], series[9000:, -1]"
      ],
      "execution_count": null,
      "outputs": []
    },
    {
      "cell_type": "code",
      "metadata": {
        "colab": {
          "base_uri": "https://localhost:8080/"
        },
        "id": "7r3012C-HfcA",
        "outputId": "09127259-842d-4678-ba9f-5e6485015d89"
      },
      "source": [
        "for i in series:\n",
        "  print(i.shape)\n",
        "  print(i)\n",
        "  break"
      ],
      "execution_count": null,
      "outputs": [
        {
          "output_type": "stream",
          "text": [
            "(51, 1)\n",
            "[[ 0.4596948 ]\n",
            " [ 0.31486678]\n",
            " [ 0.12497123]\n",
            " [-0.1039134 ]\n",
            " [-0.33817387]\n",
            " [-0.53167135]\n",
            " [-0.65472883]\n",
            " [-0.6680997 ]\n",
            " [-0.6068115 ]\n",
            " [-0.50168324]\n",
            " [-0.27951923]\n",
            " [-0.15070675]\n",
            " [ 0.01001816]\n",
            " [ 0.11860766]\n",
            " [ 0.09566415]\n",
            " [ 0.1479297 ]\n",
            " [ 0.16850619]\n",
            " [ 0.19524719]\n",
            " [ 0.22094081]\n",
            " [ 0.38448656]\n",
            " [ 0.4021102 ]\n",
            " [ 0.5566975 ]\n",
            " [ 0.55000687]\n",
            " [ 0.47437248]\n",
            " [ 0.29733396]\n",
            " [ 0.13306592]\n",
            " [-0.1292547 ]\n",
            " [-0.36367297]\n",
            " [-0.49515054]\n",
            " [-0.65279794]\n",
            " [-0.6665792 ]\n",
            " [-0.5604573 ]\n",
            " [-0.50344354]\n",
            " [-0.28775147]\n",
            " [-0.12684062]\n",
            " [-0.0095053 ]\n",
            " [ 0.12024356]\n",
            " [ 0.18013756]\n",
            " [ 0.1559989 ]\n",
            " [ 0.1756968 ]\n",
            " [ 0.217454  ]\n",
            " [ 0.30272725]\n",
            " [ 0.38143268]\n",
            " [ 0.42323437]\n",
            " [ 0.46800318]\n",
            " [ 0.5632784 ]\n",
            " [ 0.42762673]\n",
            " [ 0.32104868]\n",
            " [ 0.13293117]\n",
            " [-0.15862931]\n",
            " [-0.35489398]]\n"
          ],
          "name": "stdout"
        }
      ]
    },
    {
      "cell_type": "markdown",
      "metadata": {
        "id": "yDiPEXTpq1Z1"
      },
      "source": [
        "[배치크기, 타임스텝수, 1]크기의 넘파이 배열을 반환"
      ]
    },
    {
      "cell_type": "code",
      "metadata": {
        "colab": {
          "base_uri": "https://localhost:8080/"
        },
        "id": "SCo0HvJkcFe8",
        "outputId": "86c7d15b-0127-49e4-af46-9a6b90d119dd"
      },
      "source": [
        "X_train.shape, y_train.shape"
      ],
      "execution_count": null,
      "outputs": [
        {
          "output_type": "execute_result",
          "data": {
            "text/plain": [
              "((7000, 50, 1), (7000, 1))"
            ]
          },
          "metadata": {
            "tags": []
          },
          "execution_count": 4
        }
      ]
    },
    {
      "cell_type": "code",
      "metadata": {
        "colab": {
          "base_uri": "https://localhost:8080/",
          "height": 289
        },
        "id": "JtXuyyk3cZBB",
        "outputId": "427c163f-5fe0-4b38-e6bb-fd7a9666b787"
      },
      "source": [
        "def plot_series(series, y=None, y_pred=None, x_label=\"$t$\", y_label=\"$x(t)$\"):\n",
        "    plt.plot(series, \".-\")\n",
        "    if y is not None:\n",
        "        plt.plot(n_steps, y, \"bx\", markersize=10)\n",
        "    if y_pred is not None:\n",
        "        plt.plot(n_steps, y_pred, \"ro\")\n",
        "    plt.grid(True)\n",
        "    if x_label:\n",
        "        plt.xlabel(x_label, fontsize=16)\n",
        "    if y_label:\n",
        "        plt.ylabel(y_label, fontsize=16, rotation=0)\n",
        "    plt.hlines(0, 0, 100, linewidth=1)\n",
        "    plt.axis([0, n_steps + 1, -1, 1])\n",
        "\n",
        "fig, axes = plt.subplots(nrows=1, ncols=3, sharey=True, figsize=(12, 4))\n",
        "for col in range(3):\n",
        "    plt.sca(axes[col])\n",
        "    plot_series(X_valid[col, :, 0], y_valid[col, 0],\n",
        "                y_label=(\"$x(t)$\" if col==0 else None))\n",
        "\n",
        "plt.show()"
      ],
      "execution_count": null,
      "outputs": [
        {
          "output_type": "display_data",
          "data": {
            "image/png": "[encoded data removed]",
            "text/plain": [
              "<Figure size 864x288 with 3 Axes>"
            ]
          },
          "metadata": {
            "tags": [],
            "needs_background": "light"
          }
        }
      ]
    },
    {
      "cell_type": "code",
      "metadata": {
        "colab": {
          "base_uri": "https://localhost:8080/",
          "height": 288
        },
        "id": "DN_xNX_mkqX5",
        "outputId": "4be23886-5a76-4034-d783-7690cfdcf75b"
      },
      "source": [
        "plot_series(X_train[0])"
      ],
      "execution_count": null,
      "outputs": [
        {
          "output_type": "display_data",
          "data": {
            "image/png": "[encoded data removed]",
            "text/plain": [
              "<Figure size 432x288 with 1 Axes>"
            ]
          },
          "metadata": {
            "tags": [],
            "needs_background": "light"
          }
        }
      ]
    },
    {
      "cell_type": "code",
      "metadata": {
        "colab": {
          "base_uri": "https://localhost:8080/"
        },
        "id": "L5EFS5K2lmaD",
        "outputId": "75423ec3-1778-45e8-a267-4c4cd56b8197"
      },
      "source": [
        "# 완전연결층으로 학습\n",
        "model = keras.models.Sequential([\n",
        "    keras.layers.Flatten(input_shape=[50, 1]), #  특정한 입력의 크기를 기대하기때문에 Flatten층을 추가\n",
        "    keras.layers.Dense(1)\n",
        "])\n",
        "\n",
        "model.compile(loss=\"mse\", optimizer=\"adam\", metrics=['accuracy'])\n",
        "history = model.fit(X_train, y_train, epochs=20,\n",
        "                    validation_data=(X_valid, y_valid))"
      ],
      "execution_count": null,
      "outputs": [
        {
          "output_type": "stream",
          "text": [
            "Epoch 1/20\n",
            "219/219 [==============================] - 1s 2ms/step - loss: 0.1865 - accuracy: 0.0000e+00 - val_loss: 0.0400 - val_accuracy: 0.0000e+00\n",
            "Epoch 2/20\n",
            "219/219 [==============================] - 0s 1ms/step - loss: 0.0331 - accuracy: 0.0000e+00 - val_loss: 0.0186 - val_accuracy: 0.0000e+00\n",
            "Epoch 3/20\n",
            "219/219 [==============================] - 0s 1ms/step - loss: 0.0169 - accuracy: 0.0000e+00 - val_loss: 0.0119 - val_accuracy: 0.0000e+00\n",
            "Epoch 4/20\n",
            "219/219 [==============================] - 0s 2ms/step - loss: 0.0111 - accuracy: 0.0000e+00 - val_loss: 0.0093 - val_accuracy: 0.0000e+00\n",
            "Epoch 5/20\n",
            "219/219 [==============================] - 0s 2ms/step - loss: 0.0089 - accuracy: 0.0000e+00 - val_loss: 0.0082 - val_accuracy: 0.0000e+00\n",
            "Epoch 6/20\n",
            "219/219 [==============================] - 0s 1ms/step - loss: 0.0079 - accuracy: 0.0000e+00 - val_loss: 0.0075 - val_accuracy: 0.0000e+00\n",
            "Epoch 7/20\n",
            "219/219 [==============================] - 0s 2ms/step - loss: 0.0072 - accuracy: 0.0000e+00 - val_loss: 0.0069 - val_accuracy: 0.0000e+00\n",
            "Epoch 8/20\n",
            "219/219 [==============================] - 0s 2ms/step - loss: 0.0065 - accuracy: 0.0000e+00 - val_loss: 0.0064 - val_accuracy: 0.0000e+00\n",
            "Epoch 9/20\n",
            "219/219 [==============================] - 0s 2ms/step - loss: 0.0060 - accuracy: 0.0000e+00 - val_loss: 0.0061 - val_accuracy: 0.0000e+00\n",
            "Epoch 10/20\n",
            "219/219 [==============================] - 0s 2ms/step - loss: 0.0059 - accuracy: 0.0000e+00 - val_loss: 0.0057 - val_accuracy: 0.0000e+00\n",
            "Epoch 11/20\n",
            "219/219 [==============================] - 0s 2ms/step - loss: 0.0056 - accuracy: 0.0000e+00 - val_loss: 0.0054 - val_accuracy: 0.0000e+00\n",
            "Epoch 12/20\n",
            "219/219 [==============================] - 0s 2ms/step - loss: 0.0052 - accuracy: 0.0000e+00 - val_loss: 0.0053 - val_accuracy: 0.0000e+00\n",
            "Epoch 13/20\n",
            "219/219 [==============================] - 0s 2ms/step - loss: 0.0048 - accuracy: 0.0000e+00 - val_loss: 0.0049 - val_accuracy: 0.0000e+00\n",
            "Epoch 14/20\n",
            "219/219 [==============================] - 0s 2ms/step - loss: 0.0048 - accuracy: 0.0000e+00 - val_loss: 0.0048 - val_accuracy: 0.0000e+00\n",
            "Epoch 15/20\n",
            "219/219 [==============================] - 0s 2ms/step - loss: 0.0046 - accuracy: 0.0000e+00 - val_loss: 0.0046 - val_accuracy: 0.0000e+00\n",
            "Epoch 16/20\n",
            "219/219 [==============================] - 0s 2ms/step - loss: 0.0044 - accuracy: 0.0000e+00 - val_loss: 0.0047 - val_accuracy: 0.0000e+00\n",
            "Epoch 17/20\n",
            "219/219 [==============================] - 0s 2ms/step - loss: 0.0045 - accuracy: 0.0000e+00 - val_loss: 0.0044 - val_accuracy: 0.0000e+00\n",
            "Epoch 18/20\n",
            "219/219 [==============================] - 0s 2ms/step - loss: 0.0042 - accuracy: 0.0000e+00 - val_loss: 0.0043 - val_accuracy: 0.0000e+00\n",
            "Epoch 19/20\n",
            "219/219 [==============================] - 0s 2ms/step - loss: 0.0042 - accuracy: 0.0000e+00 - val_loss: 0.0043 - val_accuracy: 0.0000e+00\n",
            "Epoch 20/20\n",
            "219/219 [==============================] - 0s 2ms/step - loss: 0.0042 - accuracy: 0.0000e+00 - val_loss: 0.0042 - val_accuracy: 0.0000e+00\n"
          ],
          "name": "stdout"
        }
      ]
    },
    {
      "cell_type": "code",
      "metadata": {
        "colab": {
          "base_uri": "https://localhost:8080/"
        },
        "id": "N91FFTjQWApb",
        "outputId": "936df0fd-35d9-4bfe-b394-ed7c2b4f1598"
      },
      "source": [
        "model.summary()"
      ],
      "execution_count": null,
      "outputs": [
        {
          "output_type": "stream",
          "text": [
            "Model: \"sequential_4\"\n",
            "_________________________________________________________________\n",
            "Layer (type)                 Output Shape              Param #   \n",
            "=================================================================\n",
            "flatten (Flatten)            (None, 50)                0         \n",
            "_________________________________________________________________\n",
            "dense_4 (Dense)              (None, 1)                 51        \n",
            "=================================================================\n",
            "Total params: 51\n",
            "Trainable params: 51\n",
            "Non-trainable params: 0\n",
            "_________________________________________________________________\n"
          ],
          "name": "stdout"
        }
      ]
    },
    {
      "cell_type": "code",
      "metadata": {
        "colab": {
          "base_uri": "https://localhost:8080/",
          "height": 283
        },
        "id": "E19zb78bs3ou",
        "outputId": "e32cd1e2-b6fd-48ed-b7d5-55cede48c234"
      },
      "source": [
        "def plot_learning_curves(loss, val_loss):\n",
        "    plt.plot(np.arange(len(loss)) + 0.5, loss, \"b.-\", label=\"Training loss\")\n",
        "    plt.plot(np.arange(len(val_loss)) + 1, val_loss, \"r.-\", label=\"Validation loss\")\n",
        "    plt.gca().xaxis.set_major_locator(mpl.ticker.MaxNLocator(integer=True))\n",
        "    plt.axis([1, 20, 0, 0.05])\n",
        "    plt.legend(fontsize=14)\n",
        "    plt.xlabel(\"Epochs\")\n",
        "    plt.ylabel(\"Loss\")\n",
        "    plt.grid(True)\n",
        "\n",
        "plot_learning_curves(history.history[\"loss\"], history.history[\"val_loss\"])\n",
        "plt.show()"
      ],
      "execution_count": null,
      "outputs": [
        {
          "output_type": "display_data",
          "data": {
            "image/png": "[encoded data removed]",
            "text/plain": [
              "<Figure size 432x288 with 1 Axes>"
            ]
          },
          "metadata": {
            "tags": [],
            "needs_background": "light"
          }
        }
      ]
    },
    {
      "cell_type": "code",
      "metadata": {
        "colab": {
          "base_uri": "https://localhost:8080/",
          "height": 288
        },
        "id": "CydKF0Gjs6oe",
        "outputId": "7b0793fe-6fcb-460f-d206-d19dbc232e9f"
      },
      "source": [
        "y_pred = model.predict(X_valid)\n",
        "plot_series(X_valid[0, :, 0], y_valid[0, 0], y_pred[0, 0]) # 학습데이터, 정답, 예측값(빨강)\n",
        "plt.show()"
      ],
      "execution_count": null,
      "outputs": [
        {
          "output_type": "display_data",
          "data": {
            "image/png": "[encoded data removed]",
            "text/plain": [
              "<Figure size 432x288 with 1 Axes>"
            ]
          },
          "metadata": {
            "tags": [],
            "needs_background": "light"
          }
        }
      ]
    },
    {
      "cell_type": "code",
      "metadata": {
        "colab": {
          "base_uri": "https://localhost:8080/"
        },
        "id": "kzDR3bU8lnkI",
        "outputId": "201ae122-b028-479b-a11e-72f8da0f2cbe"
      },
      "source": [
        "model.evaluate(X_valid, y_valid)"
      ],
      "execution_count": null,
      "outputs": [
        {
          "output_type": "stream",
          "text": [
            "63/63 [==============================] - 0s 992us/step - loss: 0.0040 - accuracy: 0.0000e+00\n"
          ],
          "name": "stdout"
        },
        {
          "output_type": "execute_result",
          "data": {
            "text/plain": [
              "[0.004031261894851923, 0.0]"
            ]
          },
          "metadata": {
            "tags": []
          },
          "execution_count": 57
        }
      ]
    },
    {
      "cell_type": "markdown",
      "metadata": {
        "id": "8Ff_QXJ0soqh"
      },
      "source": [
        "## 간단한 RNN구현"
      ]
    },
    {
      "cell_type": "markdown",
      "metadata": {
        "id": "sodBXcMotgh7"
      },
      "source": [
        "순환 신경망은 어떤 길이의 타임 스텝스도 처리할 수 있기에 입력 시퀀스의 길이를 지정할 필요가 없다.  \n",
        "기본적으로 SimpleRNN층은 하이퍼볼릭 탄젠트 활성화 함수를 사용한다.  \n",
        "\n",
        "\n"
      ]
    },
    {
      "cell_type": "code",
      "metadata": {
        "colab": {
          "base_uri": "https://localhost:8080/"
        },
        "id": "eYl5sMd9suKC",
        "outputId": "2a92fb5d-0b14-4707-911b-109b5ca5f0c1"
      },
      "source": [
        "model = keras.models.Sequential([\n",
        "    keras.layers.SimpleRNN(2, input_shape=[None, 1]) # (1,50,1) 들어감\n",
        "])\n",
        "\n",
        "optimizer = keras.optimizers.Adam(lr=0.005)\n",
        "model.compile(loss=\"mse\", optimizer=optimizer, metrics=['accuracy'])\n",
        "# X_train.shape = (7000,50,1),    y_train.shape= (7000,1)\n",
        "history = model.fit(X_train, y_train, epochs=20,\n",
        "                    validation_data=(X_valid, y_valid))"
      ],
      "execution_count": null,
      "outputs": [
        {
          "output_type": "stream",
          "text": [
            "Epoch 1/20\n",
            "219/219 [==============================] - 3s 10ms/step - loss: 0.2749 - accuracy: 0.0000e+00 - val_loss: 0.0523 - val_accuracy: 0.0000e+00\n",
            "Epoch 2/20\n",
            "219/219 [==============================] - 2s 7ms/step - loss: 0.0432 - accuracy: 0.0000e+00 - val_loss: 0.0281 - val_accuracy: 0.0000e+00\n",
            "Epoch 3/20\n",
            "219/219 [==============================] - 2s 7ms/step - loss: 0.0248 - accuracy: 0.0000e+00 - val_loss: 0.0203 - val_accuracy: 0.0000e+00\n",
            "Epoch 4/20\n",
            "219/219 [==============================] - 2s 7ms/step - loss: 0.0187 - accuracy: 0.0000e+00 - val_loss: 0.0162 - val_accuracy: 0.0000e+00\n",
            "Epoch 5/20\n",
            "219/219 [==============================] - 2s 7ms/step - loss: 0.0156 - accuracy: 0.0000e+00 - val_loss: 0.0138 - val_accuracy: 0.0000e+00\n",
            "Epoch 6/20\n",
            "219/219 [==============================] - 2s 7ms/step - loss: 0.0137 - accuracy: 0.0000e+00 - val_loss: 0.0124 - val_accuracy: 0.0000e+00\n",
            "Epoch 7/20\n",
            "219/219 [==============================] - 2s 7ms/step - loss: 0.0121 - accuracy: 0.0000e+00 - val_loss: 0.0114 - val_accuracy: 0.0000e+00\n",
            "Epoch 8/20\n",
            "219/219 [==============================] - 2s 7ms/step - loss: 0.0114 - accuracy: 0.0000e+00 - val_loss: 0.0108 - val_accuracy: 0.0000e+00\n",
            "Epoch 9/20\n",
            "219/219 [==============================] - 2s 7ms/step - loss: 0.0109 - accuracy: 0.0000e+00 - val_loss: 0.0103 - val_accuracy: 0.0000e+00\n",
            "Epoch 10/20\n",
            "219/219 [==============================] - 2s 7ms/step - loss: 0.0105 - accuracy: 0.0000e+00 - val_loss: 0.0100 - val_accuracy: 0.0000e+00\n",
            "Epoch 11/20\n",
            "219/219 [==============================] - 2s 8ms/step - loss: 0.0103 - accuracy: 0.0000e+00 - val_loss: 0.0097 - val_accuracy: 0.0000e+00\n",
            "Epoch 12/20\n",
            "219/219 [==============================] - 2s 7ms/step - loss: 0.0100 - accuracy: 0.0000e+00 - val_loss: 0.0094 - val_accuracy: 0.0000e+00\n",
            "Epoch 13/20\n",
            "219/219 [==============================] - 2s 7ms/step - loss: 0.0099 - accuracy: 0.0000e+00 - val_loss: 0.0092 - val_accuracy: 0.0000e+00\n",
            "Epoch 14/20\n",
            "219/219 [==============================] - 1s 7ms/step - loss: 0.0094 - accuracy: 0.0000e+00 - val_loss: 0.0090 - val_accuracy: 0.0000e+00\n",
            "Epoch 15/20\n",
            "219/219 [==============================] - 2s 7ms/step - loss: 0.0094 - accuracy: 0.0000e+00 - val_loss: 0.0087 - val_accuracy: 0.0000e+00\n",
            "Epoch 16/20\n",
            "219/219 [==============================] - 2s 7ms/step - loss: 0.0092 - accuracy: 0.0000e+00 - val_loss: 0.0085 - val_accuracy: 0.0000e+00\n",
            "Epoch 17/20\n",
            "219/219 [==============================] - 2s 7ms/step - loss: 0.0089 - accuracy: 0.0000e+00 - val_loss: 0.0082 - val_accuracy: 0.0000e+00\n",
            "Epoch 18/20\n",
            "219/219 [==============================] - 2s 7ms/step - loss: 0.0084 - accuracy: 0.0000e+00 - val_loss: 0.0079 - val_accuracy: 0.0000e+00\n",
            "Epoch 19/20\n",
            "219/219 [==============================] - 2s 7ms/step - loss: 0.0081 - accuracy: 0.0000e+00 - val_loss: 0.0077 - val_accuracy: 0.0000e+00\n",
            "Epoch 20/20\n",
            "219/219 [==============================] - 2s 7ms/step - loss: 0.0080 - accuracy: 0.0000e+00 - val_loss: 0.0075 - val_accuracy: 0.0000e+00\n"
          ],
          "name": "stdout"
        }
      ]
    },
    {
      "cell_type": "code",
      "metadata": {
        "colab": {
          "base_uri": "https://localhost:8080/"
        },
        "id": "ill6GuLQWJX5",
        "outputId": "6695d807-16f7-4f6a-de37-5c781656e1d6"
      },
      "source": [
        "model.summary()"
      ],
      "execution_count": null,
      "outputs": [
        {
          "output_type": "stream",
          "text": [
            "Model: \"sequential\"\n",
            "_________________________________________________________________\n",
            "Layer (type)                 Output Shape              Param #   \n",
            "=================================================================\n",
            "simple_rnn (SimpleRNN)       (None, 2)                 8         \n",
            "=================================================================\n",
            "Total params: 8\n",
            "Trainable params: 8\n",
            "Non-trainable params: 0\n",
            "_________________________________________________________________\n"
          ],
          "name": "stdout"
        }
      ]
    },
    {
      "cell_type": "code",
      "metadata": {
        "colab": {
          "base_uri": "https://localhost:8080/"
        },
        "id": "Tw1Fg9PFWOBU",
        "outputId": "527dbe52-43c7-4564-c7cd-7aa005838c6c"
      },
      "source": [
        "model.weights # 입력을 받는 가중치, 그 전 출력을 받는 가중치, 편향"
      ],
      "execution_count": null,
      "outputs": [
        {
          "output_type": "execute_result",
          "data": {
            "text/plain": [
              "[<tf.Variable 'simple_rnn/simple_rnn_cell/kernel:0' shape=(1, 2) dtype=float32, numpy=array([[2.0529237, 1.4363492]], dtype=float32)>,\n",
              " <tf.Variable 'simple_rnn/simple_rnn_cell/recurrent_kernel:0' shape=(2, 2) dtype=float32, numpy=\n",
              " array([[ 0.65863305,  0.5615157 ],\n",
              "        [-1.7721263 , -0.97494423]], dtype=float32)>,\n",
              " <tf.Variable 'simple_rnn/simple_rnn_cell/bias:0' shape=(2,) dtype=float32, numpy=array([0.00277479, 0.00406017], dtype=float32)>]"
            ]
          },
          "metadata": {
            "tags": []
          },
          "execution_count": 15
        }
      ]
    },
    {
      "cell_type": "code",
      "metadata": {
        "colab": {
          "base_uri": "https://localhost:8080/"
        },
        "id": "oS15J_dkJ0Py",
        "outputId": "d62cefbb-c1ce-45e0-e4da-aa7415088a18"
      },
      "source": [
        "print(X_train[1].shape) # (7000,50,1) 의 1번째 행이니 (50,1)\n",
        "X_train[1]"
      ],
      "execution_count": null,
      "outputs": [
        {
          "output_type": "stream",
          "text": [
            "(50, 1)\n"
          ],
          "name": "stdout"
        },
        {
          "output_type": "execute_result",
          "data": {
            "text/plain": [
              "array([[ 0.24511378],\n",
              "       [ 0.23174433],\n",
              "       [-0.00599396],\n",
              "       [-0.14533305],\n",
              "       [-0.31580353],\n",
              "       [-0.4388943 ],\n",
              "       [-0.5878479 ],\n",
              "       [-0.5458042 ],\n",
              "       [-0.44855034],\n",
              "       [-0.24629089],\n",
              "       [ 0.05897167],\n",
              "       [ 0.25053233],\n",
              "       [ 0.55114156],\n",
              "       [ 0.6936512 ],\n",
              "       [ 0.7185335 ],\n",
              "       [ 0.5795115 ],\n",
              "       [ 0.33066   ],\n",
              "       [ 0.05455513],\n",
              "       [-0.18695112],\n",
              "       [-0.44431937],\n",
              "       [-0.6402944 ],\n",
              "       [-0.62540805],\n",
              "       [-0.5477814 ],\n",
              "       [-0.35062551],\n",
              "       [-0.12485091],\n",
              "       [ 0.14836453],\n",
              "       [ 0.36808363],\n",
              "       [ 0.42955294],\n",
              "       [ 0.56634104],\n",
              "       [ 0.4632922 ],\n",
              "       [ 0.36384302],\n",
              "       [ 0.2479538 ],\n",
              "       [ 0.0744473 ],\n",
              "       [-0.04693193],\n",
              "       [-0.2069649 ],\n",
              "       [-0.2809638 ],\n",
              "       [-0.3494651 ],\n",
              "       [-0.310967  ],\n",
              "       [-0.26699314],\n",
              "       [-0.2730748 ],\n",
              "       [-0.20220686],\n",
              "       [-0.15053852],\n",
              "       [ 0.0040438 ],\n",
              "       [ 0.05242047],\n",
              "       [ 0.246249  ],\n",
              "       [ 0.33387238],\n",
              "       [ 0.3869871 ],\n",
              "       [ 0.49712527],\n",
              "       [ 0.41383964],\n",
              "       [ 0.2979726 ]], dtype=float32)"
            ]
          },
          "metadata": {
            "tags": []
          },
          "execution_count": 14
        }
      ]
    },
    {
      "cell_type": "code",
      "metadata": {
        "colab": {
          "base_uri": "https://localhost:8080/"
        },
        "id": "53ZyLBXOXOAs",
        "outputId": "15fb044a-dfb5-443f-cf01-de59227b99aa"
      },
      "source": [
        "print(X_train[None,1].shape) # None을 붙인 자리만큼 고차원이 늘어난다.\n",
        "print(X_train[None,None,1].shape)\n",
        "print(X_train[None,1,None].shape)\n",
        "print(X_train[1,None,None].shape)\n",
        "X_train[None,1]"
      ],
      "execution_count": null,
      "outputs": [
        {
          "output_type": "stream",
          "text": [
            "(1, 50, 1)\n",
            "(1, 1, 50, 1)\n",
            "(1, 1, 50, 1)\n",
            "(1, 1, 50, 1)\n"
          ],
          "name": "stdout"
        },
        {
          "output_type": "execute_result",
          "data": {
            "text/plain": [
              "array([[[ 0.24511378],\n",
              "        [ 0.23174433],\n",
              "        [-0.00599396],\n",
              "        [-0.14533305],\n",
              "        [-0.31580353],\n",
              "        [-0.4388943 ],\n",
              "        [-0.5878479 ],\n",
              "        [-0.5458042 ],\n",
              "        [-0.44855034],\n",
              "        [-0.24629089],\n",
              "        [ 0.05897167],\n",
              "        [ 0.25053233],\n",
              "        [ 0.55114156],\n",
              "        [ 0.6936512 ],\n",
              "        [ 0.7185335 ],\n",
              "        [ 0.5795115 ],\n",
              "        [ 0.33066   ],\n",
              "        [ 0.05455513],\n",
              "        [-0.18695112],\n",
              "        [-0.44431937],\n",
              "        [-0.6402944 ],\n",
              "        [-0.62540805],\n",
              "        [-0.5477814 ],\n",
              "        [-0.35062551],\n",
              "        [-0.12485091],\n",
              "        [ 0.14836453],\n",
              "        [ 0.36808363],\n",
              "        [ 0.42955294],\n",
              "        [ 0.56634104],\n",
              "        [ 0.4632922 ],\n",
              "        [ 0.36384302],\n",
              "        [ 0.2479538 ],\n",
              "        [ 0.0744473 ],\n",
              "        [-0.04693193],\n",
              "        [-0.2069649 ],\n",
              "        [-0.2809638 ],\n",
              "        [-0.3494651 ],\n",
              "        [-0.310967  ],\n",
              "        [-0.26699314],\n",
              "        [-0.2730748 ],\n",
              "        [-0.20220686],\n",
              "        [-0.15053852],\n",
              "        [ 0.0040438 ],\n",
              "        [ 0.05242047],\n",
              "        [ 0.246249  ],\n",
              "        [ 0.33387238],\n",
              "        [ 0.3869871 ],\n",
              "        [ 0.49712527],\n",
              "        [ 0.41383964],\n",
              "        [ 0.2979726 ]]], dtype=float32)"
            ]
          },
          "metadata": {
            "tags": []
          },
          "execution_count": 19
        }
      ]
    },
    {
      "cell_type": "code",
      "metadata": {
        "colab": {
          "base_uri": "https://localhost:8080/"
        },
        "id": "0Apo7lxDJReU",
        "outputId": "54af3e58-fdc3-4810-e0ca-ac1251461cee"
      },
      "source": [
        "print(y_train[None,1].shape)\n",
        "y_train[None,1]"
      ],
      "execution_count": null,
      "outputs": [
        {
          "output_type": "stream",
          "text": [
            "(1, 1)\n"
          ],
          "name": "stdout"
        },
        {
          "output_type": "execute_result",
          "data": {
            "text/plain": [
              "array([[0.11629631]], dtype=float32)"
            ]
          },
          "metadata": {
            "tags": []
          },
          "execution_count": 11
        }
      ]
    },
    {
      "cell_type": "code",
      "metadata": {
        "colab": {
          "base_uri": "https://localhost:8080/"
        },
        "id": "DUhYMXi6fxwE",
        "outputId": "4ee85c3b-52a7-4083-c532-916b02846042"
      },
      "source": [
        "history.history['loss']"
      ],
      "execution_count": null,
      "outputs": [
        {
          "output_type": "execute_result",
          "data": {
            "text/plain": [
              "[0.17867891490459442,\n",
              " 0.07399467378854752,\n",
              " 0.02306477725505829,\n",
              " 0.013697303831577301,\n",
              " 0.011897996068000793,\n",
              " 0.010927482508122921,\n",
              " 0.010244580917060375,\n",
              " 0.009727335534989834,\n",
              " 0.009302397258579731,\n",
              " 0.008940772153437138,\n",
              " 0.008644028566777706,\n",
              " 0.008387144654989243,\n",
              " 0.008182699792087078,\n",
              " 0.008004103787243366,\n",
              " 0.007866944186389446,\n",
              " 0.007740669418126345,\n",
              " 0.00762157654389739,\n",
              " 0.007510158699005842,\n",
              " 0.007423812989145517,\n",
              " 0.007339468691498041]"
            ]
          },
          "metadata": {
            "tags": []
          },
          "execution_count": 16
        }
      ]
    },
    {
      "cell_type": "code",
      "metadata": {
        "colab": {
          "base_uri": "https://localhost:8080/",
          "height": 610
        },
        "id": "8zMOiNBnS81a",
        "outputId": "a51c5ae0-a7b4-4541-c0d1-5ce913f2f4c5"
      },
      "source": [
        "def plot_learning_curves(loss, val_loss):\n",
        "    plt.plot(np.arange(len(loss)) + 0.5, loss, \"b.-\", label=\"Training loss\")\n",
        "    plt.plot(np.arange(len(val_loss)) + 1, val_loss, \"r.-\", label=\"Validation loss\")\n",
        "    plt.gca().xaxis.set_major_locator(mpl.ticker.MaxNLocator(integer=True))\n",
        "    plt.axis([1, 20, 0, 0.1])\n",
        "    plt.legend(fontsize=14)\n",
        "    plt.xlabel(\"Epochs\")\n",
        "    plt.ylabel(\"Loss\")\n",
        "    plt.grid(True)\n",
        "\n",
        "plt.figure(figsize=(15,10))\n",
        "plot_learning_curves(history.history[\"loss\"], history.history[\"val_loss\"])\n",
        "plt.show()"
      ],
      "execution_count": null,
      "outputs": [
        {
          "output_type": "display_data",
          "data": {
            "image/png": "[encoded data removed]",
            "text/plain": [
              "<Figure size 1080x720 with 1 Axes>"
            ]
          },
          "metadata": {
            "tags": [],
            "needs_background": "light"
          }
        }
      ]
    },
    {
      "cell_type": "code",
      "metadata": {
        "colab": {
          "base_uri": "https://localhost:8080/",
          "height": 289
        },
        "id": "56thqVJqS-4t",
        "outputId": "1a933b5b-90c5-404d-fd09-33442d644a39"
      },
      "source": [
        "y_pred = model.predict(X_valid)\n",
        "plot_series(X_valid[0, :, 0], y_valid[0, 0], y_pred[0, 0])\n",
        "plt.show()"
      ],
      "execution_count": null,
      "outputs": [
        {
          "output_type": "display_data",
          "data": {
            "image/png": "[encoded data removed]",
            "text/plain": [
              "<Figure size 432x288 with 1 Axes>"
            ]
          },
          "metadata": {
            "tags": [],
            "needs_background": "light"
          }
        }
      ]
    },
    {
      "cell_type": "code",
      "metadata": {
        "colab": {
          "base_uri": "https://localhost:8080/"
        },
        "id": "WSkbdgsTbrFO",
        "outputId": "18962aa3-50bf-4870-e5cf-2e0361039726"
      },
      "source": [
        "y_pred.shape, y_valid.shape"
      ],
      "execution_count": null,
      "outputs": [
        {
          "output_type": "execute_result",
          "data": {
            "text/plain": [
              "((2000, 2), (2000, 1))"
            ]
          },
          "metadata": {
            "tags": []
          },
          "execution_count": 25
        }
      ]
    },
    {
      "cell_type": "code",
      "metadata": {
        "colab": {
          "base_uri": "https://localhost:8080/"
        },
        "id": "_YTCPSd0bQPv",
        "outputId": "d497d8d0-8603-4793-c762-22e5d6ad7a39"
      },
      "source": [
        "y_pred"
      ],
      "execution_count": null,
      "outputs": [
        {
          "output_type": "execute_result",
          "data": {
            "text/plain": [
              "array([[ 0.47868747,  0.5129261 ],\n",
              "       [-0.58268845, -0.60443974],\n",
              "       [ 0.66849643,  0.6359782 ],\n",
              "       ...,\n",
              "       [-0.28462896, -0.26400357],\n",
              "       [-0.24036819, -0.2445268 ],\n",
              "       [ 0.5236235 ,  0.48264164]], dtype=float32)"
            ]
          },
          "metadata": {
            "tags": []
          },
          "execution_count": 23
        }
      ]
    },
    {
      "cell_type": "code",
      "metadata": {
        "colab": {
          "base_uri": "https://localhost:8080/"
        },
        "id": "gJT3WLZibcHP",
        "outputId": "e200a603-41da-44d3-f929-7d1addbdbe5d"
      },
      "source": [
        "y_valid"
      ],
      "execution_count": null,
      "outputs": [
        {
          "output_type": "execute_result",
          "data": {
            "text/plain": [
              "array([[ 0.4000832 ],\n",
              "       [-0.50259125],\n",
              "       [ 0.69304645],\n",
              "       ...,\n",
              "       [-0.25712416],\n",
              "       [-0.2791788 ],\n",
              "       [ 0.6290542 ]], dtype=float32)"
            ]
          },
          "metadata": {
            "tags": []
          },
          "execution_count": 24
        }
      ]
    },
    {
      "cell_type": "code",
      "metadata": {
        "colab": {
          "base_uri": "https://localhost:8080/"
        },
        "id": "UWs9d8cXU0-t",
        "outputId": "1f3a9cba-8e34-45d7-a577-32a6ec19459c"
      },
      "source": [
        "model.evaluate(X_valid, y_valid)"
      ],
      "execution_count": null,
      "outputs": [
        {
          "output_type": "stream",
          "text": [
            "63/63 [==============================] - 0s 2ms/step - loss: 0.0109 - accuracy: 0.0000e+00\n"
          ],
          "name": "stdout"
        },
        {
          "output_type": "execute_result",
          "data": {
            "text/plain": [
              "[0.010884956456720829, 0.0]"
            ]
          },
          "metadata": {
            "tags": []
          },
          "execution_count": 12
        }
      ]
    },
    {
      "cell_type": "markdown",
      "metadata": {
        "id": "V-bIjZqjZVxy"
      },
      "source": [
        "선형모델은 각 입력 뉴런에 대해 (타임스텝)마다 하나의 파라미터를 가지고 편향이있다.(총 51개의 파라미터가있다)\n",
        "\n",
        "반면 기본 RNN의 순환뉴런은 입력과 은닉 상태차원 마다 하나의 파라미터를 가지고 편향이있다.  \n",
        "기본 RNN에는 총 3개의 파라미터가 있다"
      ]
    },
    {
      "cell_type": "markdown",
      "metadata": {
        "id": "YJ4hgdiaZxGx"
      },
      "source": [
        "### 심층 RNN\n",
        "\n",
        "RNN셀을 여러층으로 쌓는 것"
      ]
    },
    {
      "cell_type": "code",
      "metadata": {
        "colab": {
          "base_uri": "https://localhost:8080/"
        },
        "id": "xjg9yQiccAeY",
        "outputId": "364dd6b4-e958-4607-af6a-30e0dfe2e068"
      },
      "source": [
        "model = keras.models.Sequential([\n",
        "    keras.layers.SimpleRNN(20, return_sequences=True, input_shape=[None, 1]),\n",
        "    keras.layers.SimpleRNN(20, return_sequences=True),\n",
        "    keras.layers.SimpleRNN(1)\n",
        "])\n",
        "\n",
        "model.compile(loss=\"mse\", optimizer=\"adam\")\n",
        "history = model.fit(X_train, y_train, epochs=20,\n",
        "                    validation_data=(X_valid, y_valid))"
      ],
      "execution_count": null,
      "outputs": [
        {
          "output_type": "stream",
          "text": [
            "Epoch 1/20\n",
            "219/219 [==============================] - 7s 25ms/step - loss: 0.0591 - val_loss: 0.0042\n",
            "Epoch 2/20\n",
            "219/219 [==============================] - 5s 23ms/step - loss: 0.0040 - val_loss: 0.0031\n",
            "Epoch 3/20\n",
            "219/219 [==============================] - 5s 23ms/step - loss: 0.0033 - val_loss: 0.0030\n",
            "Epoch 4/20\n",
            "219/219 [==============================] - 5s 24ms/step - loss: 0.0031 - val_loss: 0.0029\n",
            "Epoch 5/20\n",
            "219/219 [==============================] - 5s 23ms/step - loss: 0.0030 - val_loss: 0.0030\n",
            "Epoch 6/20\n",
            "219/219 [==============================] - 5s 23ms/step - loss: 0.0031 - val_loss: 0.0028\n",
            "Epoch 7/20\n",
            "219/219 [==============================] - 5s 23ms/step - loss: 0.0030 - val_loss: 0.0028\n",
            "Epoch 8/20\n",
            "219/219 [==============================] - 5s 23ms/step - loss: 0.0029 - val_loss: 0.0028\n",
            "Epoch 9/20\n",
            "219/219 [==============================] - 5s 23ms/step - loss: 0.0028 - val_loss: 0.0026\n",
            "Epoch 10/20\n",
            "219/219 [==============================] - 5s 23ms/step - loss: 0.0028 - val_loss: 0.0033\n",
            "Epoch 11/20\n",
            "219/219 [==============================] - 5s 23ms/step - loss: 0.0030 - val_loss: 0.0026\n",
            "Epoch 12/20\n",
            "219/219 [==============================] - 5s 23ms/step - loss: 0.0028 - val_loss: 0.0026\n",
            "Epoch 13/20\n",
            "219/219 [==============================] - 5s 23ms/step - loss: 0.0028 - val_loss: 0.0026\n",
            "Epoch 14/20\n",
            "219/219 [==============================] - 5s 23ms/step - loss: 0.0028 - val_loss: 0.0026\n",
            "Epoch 15/20\n",
            "219/219 [==============================] - 5s 23ms/step - loss: 0.0027 - val_loss: 0.0027\n",
            "Epoch 16/20\n",
            "219/219 [==============================] - 5s 23ms/step - loss: 0.0026 - val_loss: 0.0027\n",
            "Epoch 17/20\n",
            "219/219 [==============================] - 5s 23ms/step - loss: 0.0028 - val_loss: 0.0025\n",
            "Epoch 18/20\n",
            "219/219 [==============================] - 5s 23ms/step - loss: 0.0028 - val_loss: 0.0026\n",
            "Epoch 19/20\n",
            "219/219 [==============================] - 5s 23ms/step - loss: 0.0027 - val_loss: 0.0025\n",
            "Epoch 20/20\n",
            "219/219 [==============================] - 5s 23ms/step - loss: 0.0027 - val_loss: 0.0026\n"
          ],
          "name": "stdout"
        }
      ]
    },
    {
      "cell_type": "code",
      "metadata": {
        "colab": {
          "base_uri": "https://localhost:8080/"
        },
        "id": "yH6xMI-_dNrj",
        "outputId": "d428cae3-caf2-4017-88cb-e6fd2e0c3119"
      },
      "source": [
        "model.summary()"
      ],
      "execution_count": null,
      "outputs": [
        {
          "output_type": "stream",
          "text": [
            "Model: \"sequential_6\"\n",
            "_________________________________________________________________\n",
            "Layer (type)                 Output Shape              Param #   \n",
            "=================================================================\n",
            "simple_rnn_1 (SimpleRNN)     (None, None, 20)          440       \n",
            "_________________________________________________________________\n",
            "simple_rnn_2 (SimpleRNN)     (None, None, 20)          820       \n",
            "_________________________________________________________________\n",
            "simple_rnn_3 (SimpleRNN)     (None, 1)                 22        \n",
            "=================================================================\n",
            "Total params: 1,282\n",
            "Trainable params: 1,282\n",
            "Non-trainable params: 0\n",
            "_________________________________________________________________\n"
          ],
          "name": "stdout"
        }
      ]
    },
    {
      "cell_type": "code",
      "metadata": {
        "colab": {
          "base_uri": "https://localhost:8080/"
        },
        "id": "SCOPVsBqjsJ3",
        "outputId": "f7a68f2f-77ec-4334-dddf-3e7d4221b928"
      },
      "source": [
        "model.weights"
      ],
      "execution_count": null,
      "outputs": [
        {
          "output_type": "execute_result",
          "data": {
            "text/plain": [
              "[<tf.Variable 'simple_rnn_1/simple_rnn_cell_1/kernel:0' shape=(1, 20) dtype=float32, numpy=\n",
              " array([[ 0.25653824,  0.01989137, -0.3651554 ,  0.30176768,  0.0752741 ,\n",
              "          0.48334143,  0.18193448, -0.50196004,  0.17500472,  0.30373198,\n",
              "          0.25094688,  0.08626145,  0.23005965,  0.06615601, -0.09542719,\n",
              "         -0.16553685,  0.43529248,  0.04887949,  0.33090577, -0.3137034 ]],\n",
              "       dtype=float32)>,\n",
              " <tf.Variable 'simple_rnn_1/simple_rnn_cell_1/recurrent_kernel:0' shape=(20, 20) dtype=float32, numpy=\n",
              " array([[-0.01524329, -0.2723905 , -0.3045539 ,  0.33658445,  0.01160054,\n",
              "         -0.45261183, -0.1827098 ,  0.18904224,  0.08754157,  0.01377211,\n",
              "         -0.08560791, -0.3861814 , -0.20837294,  0.22494392, -0.04884638,\n",
              "          0.0722484 ,  0.14388314, -0.16576427, -0.05640207,  0.01217586],\n",
              "        [ 0.05427882, -0.09507022,  0.11896149, -0.31477815,  0.01433821,\n",
              "         -0.08901422,  0.1699594 ,  0.06226345,  0.21715932,  0.25457314,\n",
              "         -0.20814358, -0.11198992,  0.04130207,  0.09361361, -0.03723443,\n",
              "          0.02818913, -0.58528894, -0.28190842, -0.4184808 ,  0.12718883],\n",
              "        [ 0.40139684, -0.11610021,  0.09879059, -0.12878688, -0.06911976,\n",
              "         -0.06771414, -0.12605508, -0.14083743, -0.139634  , -0.2264757 ,\n",
              "          0.07965378, -0.3803092 ,  0.37295887, -0.02094813, -0.00780183,\n",
              "         -0.36900735,  0.00693667,  0.09136274, -0.2880964 ,  0.01938921],\n",
              "        [-0.3597819 ,  0.20181516,  0.10964067,  0.06805242, -0.14584683,\n",
              "         -0.02060084, -0.5177943 ,  0.05987948, -0.01691792, -0.14964022,\n",
              "         -0.05828173,  0.01054741,  0.04472809,  0.14367749,  0.1421074 ,\n",
              "         -0.02720554, -0.11042047,  0.3741169 , -0.24237742,  0.28472   ],\n",
              "        [-0.12905775,  0.0370002 ,  0.06909399, -0.20150454, -0.10894698,\n",
              "          0.17468143,  0.18949991, -0.25560337, -0.17848912, -0.3337465 ,\n",
              "         -0.19341181, -0.0627616 , -0.18526766,  0.07282934,  0.06216998,\n",
              "          0.33592683,  0.41181892, -0.29612264, -0.4301587 , -0.02607032],\n",
              "        [-0.0012092 ,  0.18060954, -0.36112323, -0.08458097,  0.04363598,\n",
              "         -0.15528482, -0.06174125, -0.4056074 ,  0.16486599,  0.4408598 ,\n",
              "          0.30531195,  0.02257046,  0.21929026, -0.21931757, -0.00900398,\n",
              "          0.2555495 ,  0.20870438,  0.03554603, -0.1943659 ,  0.25158897],\n",
              "        [ 0.02944257,  0.1030234 ,  0.20404315,  0.06393965,  0.24269134,\n",
              "         -0.06534472, -0.06832208, -0.20752344,  0.1798648 , -0.36002165,\n",
              "          0.1694108 , -0.2955145 , -0.17418104, -0.32787877,  0.21677855,\n",
              "          0.29259506, -0.23616454, -0.06100884,  0.20313253,  0.25093246],\n",
              "        [ 0.07354021,  0.22069506,  0.338436  ,  0.03800845, -0.26569095,\n",
              "         -0.60688394,  0.03833086, -0.04328484,  0.12787959, -0.09196772,\n",
              "         -0.02955341,  0.35711834, -0.15439066, -0.1489127 ,  0.0564547 ,\n",
              "         -0.18490423,  0.07058972, -0.07327808, -0.13141598, -0.04798806],\n",
              "        [ 0.00477072, -0.06684106, -0.05174619,  0.09663913,  0.12888105,\n",
              "         -0.0080432 , -0.16813056, -0.56345487, -0.13040566,  0.12370986,\n",
              "         -0.3654657 ,  0.17023964, -0.09611651, -0.07471352, -0.26234275,\n",
              "          0.09673596, -0.3120445 ,  0.18699493, -0.00428651, -0.30081907],\n",
              "        [-0.4673279 , -0.02571026,  0.34833434,  0.00371011,  0.26183495,\n",
              "         -0.18145289,  0.26160553, -0.05696147, -0.03683833,  0.23935455,\n",
              "          0.01761104, -0.3584597 ,  0.05423822, -0.14531709,  0.03798939,\n",
              "         -0.24698226,  0.15341996,  0.18747063, -0.03755493, -0.17383762],\n",
              "        [ 0.03888692,  0.28687406, -0.2224218 ,  0.02875562,  0.33937204,\n",
              "          0.0295482 , -0.20892352,  0.1604375 ,  0.26721752, -0.18559732,\n",
              "         -0.25932094,  0.08202334,  0.26631218, -0.14441417,  0.2446234 ,\n",
              "         -0.22591299,  0.09671464, -0.28500634, -0.10173279, -0.35335395],\n",
              "        [-0.13322763, -0.29239693,  0.04675673,  0.30731842, -0.1548117 ,\n",
              "         -0.05146145,  0.19917089,  0.01332174,  0.27697825, -0.2571873 ,\n",
              "          0.13498957,  0.1519643 ,  0.5428224 ,  0.15956856, -0.09485374,\n",
              "          0.31893727,  0.00922952,  0.19796175, -0.08009248, -0.15429679],\n",
              "        [-0.31819358,  0.09225248, -0.04054483, -0.2702663 , -0.09016581,\n",
              "         -0.2571224 , -0.16446453, -0.13677336, -0.15090077, -0.19752361,\n",
              "          0.20235153, -0.04562312,  0.23210777,  0.20012607, -0.36690375,\n",
              "         -0.08937669, -0.05026142, -0.40887314,  0.31083894,  0.03969979],\n",
              "        [-0.08168627, -0.43138838, -0.00587991, -0.48448056, -0.14697039,\n",
              "          0.07566535, -0.310233  , -0.06124551,  0.31244478, -0.03956319,\n",
              "          0.0734744 ,  0.09678639, -0.12928273, -0.12182929,  0.18138897,\n",
              "         -0.0411336 ,  0.18028061,  0.04297918,  0.1571773 , -0.24646083],\n",
              "        [ 0.09331483, -0.25680044,  0.1634625 ,  0.04651063,  0.6311181 ,\n",
              "         -0.04031646, -0.10656817, -0.04423488, -0.09498294, -0.0642569 ,\n",
              "          0.28699678,  0.4367417 , -0.00577124,  0.30224344,  0.01432873,\n",
              "         -0.05091493,  0.13867274, -0.1329297 , -0.1363605 ,  0.15677257],\n",
              "        [ 0.14284417, -0.0889786 , -0.12813644, -0.23614486,  0.06623431,\n",
              "         -0.22464891,  0.25651088, -0.19242366, -0.06587517, -0.05036876,\n",
              "         -0.34873354,  0.00610848,  0.1512925 ,  0.35162175,  0.40246406,\n",
              "         -0.0100538 ,  0.08054   ,  0.16388342,  0.38895556,  0.20995931],\n",
              "        [ 0.27551597,  0.11725104,  0.30244666,  0.20580363, -0.18211888,\n",
              "          0.10087763, -0.19485308, -0.14855789, -0.06940413,  0.26054138,\n",
              "          0.1564579 , -0.01992532,  0.14325514,  0.18958241,  0.42569613,\n",
              "          0.17163365,  0.04342389, -0.31946376,  0.20448159, -0.14986648],\n",
              "        [ 0.25490737,  0.00975135,  0.3164842 , -0.14634283,  0.0145389 ,\n",
              "         -0.11564159, -0.18082525,  0.28754598, -0.16025132,  0.1228741 ,\n",
              "         -0.36294883,  0.02478131,  0.27630064, -0.25092146, -0.32000646,\n",
              "          0.19811043,  0.25670993,  0.13120636,  0.1293449 ,  0.23587325],\n",
              "        [ 0.03733701, -0.36444983, -0.15625079,  0.04453847, -0.09835582,\n",
              "         -0.2361522 ,  0.00131393,  0.15807499, -0.5809306 ,  0.01191921,\n",
              "          0.09584031,  0.17567307,  0.04982315, -0.32477164,  0.3387687 ,\n",
              "          0.07839419, -0.12700683, -0.05426057, -0.10766321, -0.03032877],\n",
              "        [ 0.1124625 ,  0.1952174 ,  0.01614918, -0.3175521 ,  0.19359004,\n",
              "         -0.22119328, -0.09184004,  0.19746017, -0.17604044, -0.13469319,\n",
              "          0.19905825, -0.136643  ,  0.00452292,  0.20789382,  0.00471441,\n",
              "          0.37533632, -0.06570684,  0.17140646, -0.0202958 , -0.47493148]],\n",
              "       dtype=float32)>,\n",
              " <tf.Variable 'simple_rnn_1/simple_rnn_cell_1/bias:0' shape=(20,) dtype=float32, numpy=\n",
              " array([ 0.00253916,  0.00363235,  0.00015941, -0.00188815,  0.00073687,\n",
              "        -0.00267686, -0.00414065, -0.00049087, -0.00528571, -0.00443866,\n",
              "        -0.00894718,  0.00181854, -0.00535156,  0.00087859,  0.00253274,\n",
              "         0.00449057,  0.00269773,  0.00212374,  0.00191873, -0.00740918],\n",
              "       dtype=float32)>,\n",
              " <tf.Variable 'simple_rnn_2/simple_rnn_cell_2/kernel:0' shape=(20, 20) dtype=float32, numpy=\n",
              " array([[-1.29941717e-01, -2.29312897e-01, -2.03481346e-01,\n",
              "         -1.64410338e-01, -2.55149394e-01, -3.23710263e-01,\n",
              "          3.19740474e-01,  5.38430661e-02,  6.70658052e-02,\n",
              "          5.78491762e-02,  1.57645002e-01,  2.48757243e-01,\n",
              "          2.35710800e-01, -1.41601190e-01, -1.19721726e-01,\n",
              "         -4.91971746e-02, -1.13905974e-01,  2.27382556e-01,\n",
              "         -3.79272431e-01,  1.64739281e-01],\n",
              "        [-1.72670975e-01,  2.82693475e-01, -3.08236122e-01,\n",
              "         -1.58705592e-01,  3.49560469e-01, -1.01847596e-01,\n",
              "         -3.72969061e-01, -3.28796029e-01, -1.77533045e-01,\n",
              "         -1.47567526e-01,  3.10273349e-01, -1.29447564e-01,\n",
              "          1.07042082e-01, -1.59318537e-01, -1.85661152e-01,\n",
              "         -3.07368875e-01,  1.73188284e-01,  2.69345433e-01,\n",
              "          1.55069873e-01,  3.45477611e-01],\n",
              "        [ 1.58907607e-01, -9.40128323e-03,  3.64700139e-01,\n",
              "          1.23596087e-01,  2.96795160e-01,  1.26632050e-01,\n",
              "         -6.03740439e-02,  3.45164478e-01, -8.70992765e-02,\n",
              "         -3.49122822e-01,  1.28033072e-01,  5.24608567e-02,\n",
              "          2.40681529e-01, -1.44822702e-01, -4.90184486e-01,\n",
              "          3.02007347e-01, -1.18893191e-01, -7.92988315e-02,\n",
              "          1.19718365e-01, -3.64809513e-01],\n",
              "        [ 2.62036383e-01,  2.28776306e-01, -2.85562545e-01,\n",
              "         -1.99095324e-01, -1.49347246e-01, -1.42547311e-02,\n",
              "          6.31456301e-02, -3.52178395e-01,  3.07734907e-01,\n",
              "          4.20278072e-01,  3.08578223e-01,  3.99495810e-01,\n",
              "         -2.69712478e-01,  1.28811756e-02,  2.26780679e-02,\n",
              "          3.42832088e-01,  2.10430786e-01,  3.04926157e-01,\n",
              "          2.72775263e-01, -3.45569104e-01],\n",
              "        [-1.64257750e-01, -7.09191114e-02,  3.40515554e-01,\n",
              "         -3.12995426e-02, -3.83962691e-02,  3.66260931e-02,\n",
              "          2.14795321e-01,  2.58581370e-01,  3.15512717e-01,\n",
              "          2.40854964e-01,  1.10111594e-01, -1.99659154e-01,\n",
              "          4.04719383e-01, -1.70150265e-01,  1.22900233e-01,\n",
              "          3.85015190e-01,  5.67557737e-02,  2.21702993e-01,\n",
              "         -2.70025790e-01, -2.74372250e-01],\n",
              "        [ 2.59365976e-01,  2.38477573e-01, -2.66361888e-02,\n",
              "         -2.86039442e-01,  1.91819966e-01, -1.42912865e-01,\n",
              "         -2.54818767e-01, -3.46304268e-01, -2.09107026e-01,\n",
              "         -1.23391449e-01, -1.11969180e-01,  1.81223795e-01,\n",
              "          3.34053576e-01, -7.28790760e-02,  7.34276548e-02,\n",
              "         -2.13054895e-01,  2.34130919e-02,  2.68208146e-01,\n",
              "          1.48930013e-01, -6.08570091e-02],\n",
              "        [-8.58078822e-02,  1.82264179e-01,  4.48024273e-02,\n",
              "          1.32713154e-01, -1.71312153e-01, -2.17255726e-01,\n",
              "          3.52654189e-01,  1.74083635e-01, -2.56801814e-01,\n",
              "          1.04930982e-01, -3.18364054e-01,  5.47887348e-02,\n",
              "          3.55610102e-01, -3.56464595e-01, -2.89816439e-01,\n",
              "          7.18379160e-03, -5.25012787e-04,  1.99315920e-01,\n",
              "          2.45799851e-02,  1.86244220e-01],\n",
              "        [ 2.41164446e-01, -1.29970148e-01,  2.01865986e-01,\n",
              "          3.49635363e-01, -1.07377924e-01, -6.12293594e-02,\n",
              "         -2.98156381e-01, -1.75879002e-02,  1.45444602e-01,\n",
              "         -4.12789524e-01,  2.02033758e-01, -1.19970001e-01,\n",
              "         -2.57168204e-01,  1.90852314e-01,  9.22140256e-02,\n",
              "          1.79098591e-01, -1.74512193e-01, -1.74492881e-01,\n",
              "          3.54710907e-01,  3.53886671e-02],\n",
              "        [-1.90073222e-01,  2.24044062e-02, -3.66028488e-01,\n",
              "         -2.26785421e-01, -2.14020059e-01,  2.19845548e-01,\n",
              "         -1.20591387e-01,  1.21834584e-01,  1.75628103e-02,\n",
              "          5.97036853e-02, -2.88182765e-01, -3.75511318e-01,\n",
              "         -3.17509361e-02,  2.31779158e-01, -2.55707741e-01,\n",
              "          2.84817070e-01,  8.56333375e-02,  2.54368424e-01,\n",
              "          2.10200742e-01, -1.12394288e-01],\n",
              "        [ 5.39592914e-02, -6.61013350e-02,  2.99937814e-01,\n",
              "          1.05876975e-01,  3.09878618e-01, -1.90097377e-01,\n",
              "          6.74174428e-02,  1.36046022e-01, -3.70247900e-01,\n",
              "          3.89190942e-01,  9.13629215e-03, -3.89921275e-04,\n",
              "         -3.66029203e-01,  2.98285991e-01,  4.38906074e-01,\n",
              "          4.56060618e-01, -1.93483382e-01, -2.93221503e-01,\n",
              "          3.53644431e-01, -1.12915695e-01],\n",
              "        [-4.72087637e-02,  7.51073956e-02, -6.84113055e-02,\n",
              "         -1.92169279e-01,  3.69915724e-01,  3.40508699e-01,\n",
              "          2.58442044e-01, -1.06135763e-01,  1.63280547e-01,\n",
              "          2.66757756e-01,  3.95325683e-02,  3.55273873e-01,\n",
              "          3.42150092e-01,  3.20308805e-01,  3.16053927e-01,\n",
              "          1.68135777e-01,  6.18431624e-03,  3.10909688e-01,\n",
              "         -3.58855873e-01,  5.97228482e-02],\n",
              "        [-1.77260116e-01,  2.92199403e-01,  3.91254514e-01,\n",
              "          2.13337541e-01, -3.29190671e-01, -3.50575782e-02,\n",
              "         -3.44465524e-01, -2.45232195e-01, -3.06435436e-01,\n",
              "          1.27889961e-01, -1.74110159e-01, -3.03501606e-01,\n",
              "          3.74888986e-01, -3.31963778e-01, -2.46882975e-01,\n",
              "          3.44423056e-01,  9.27801505e-02,  1.39694825e-01,\n",
              "          2.22395003e-01, -3.45927209e-01],\n",
              "        [ 1.60025060e-01, -1.00254841e-01, -2.74805781e-02,\n",
              "         -3.32147181e-01, -2.13818289e-02,  2.17084095e-01,\n",
              "         -2.91039352e-03,  1.60716608e-01, -2.76819080e-01,\n",
              "         -3.20608675e-01,  2.49056637e-01, -1.13933139e-01,\n",
              "         -1.12993568e-01,  3.42742682e-01,  9.92326364e-02,\n",
              "          2.50636071e-01, -2.63775647e-01, -3.16558808e-01,\n",
              "         -2.62032002e-01, -3.52986678e-02],\n",
              "        [ 8.74232575e-02,  2.79246509e-01, -2.32934162e-01,\n",
              "         -5.38327871e-03, -3.97978485e-01,  3.11170131e-01,\n",
              "         -1.13444641e-01, -2.67671704e-01,  1.57225534e-01,\n",
              "         -3.43308717e-01,  2.51689672e-01,  2.49874279e-01,\n",
              "         -5.71365692e-02, -1.19104847e-01,  3.03221166e-01,\n",
              "          2.45215982e-01, -3.02522123e-01, -2.29796007e-01,\n",
              "         -2.07697794e-01,  3.17902565e-01],\n",
              "        [ 1.28031075e-01, -1.35276392e-01, -2.00162604e-01,\n",
              "         -2.15974659e-01, -3.13591450e-01,  1.06906503e-01,\n",
              "         -3.47619116e-01, -1.61815971e-01, -2.83313483e-01,\n",
              "         -3.38566601e-01,  9.75621715e-02, -1.21516645e-01,\n",
              "          1.73660830e-01, -5.59326354e-03, -2.34065488e-01,\n",
              "          2.69578934e-01,  1.40393332e-01, -1.01383381e-01,\n",
              "          1.17813855e-01, -2.38782078e-01],\n",
              "        [-6.95244819e-02,  2.19481140e-01, -9.62461159e-02,\n",
              "          2.38313094e-01,  3.71113926e-01,  2.24492654e-01,\n",
              "         -1.36948854e-01,  2.36994654e-01,  1.09036185e-01,\n",
              "         -1.47080213e-01,  2.85204262e-01,  1.25963837e-01,\n",
              "          8.16289410e-02, -5.63377440e-02, -1.51524857e-01,\n",
              "         -3.63734029e-02, -3.61582756e-01,  1.82033092e-01,\n",
              "         -2.09933773e-01,  9.18975770e-02],\n",
              "        [ 2.18373805e-01,  3.01640749e-01, -4.57276590e-02,\n",
              "         -8.21755528e-02, -3.05858422e-02, -3.41683067e-02,\n",
              "         -3.22284609e-01, -3.97409588e-01,  8.89330134e-02,\n",
              "          1.23117998e-01, -8.97971764e-02, -3.70785147e-01,\n",
              "         -2.83348620e-01,  2.22078860e-01,  3.20407301e-01,\n",
              "          4.85018253e-01, -8.95705298e-02,  3.94075140e-02,\n",
              "         -2.17862859e-01, -3.54279995e-01],\n",
              "        [-1.60806049e-02, -1.77434191e-01, -3.97045255e-01,\n",
              "          3.84644419e-02,  1.40461653e-01,  1.65383089e-02,\n",
              "          3.33734840e-01,  6.01627044e-02, -9.67314616e-02,\n",
              "          3.56257528e-01,  1.98500916e-01, -2.78300904e-02,\n",
              "         -2.74062723e-01, -3.29168081e-01, -4.10577625e-01,\n",
              "          2.27115020e-01,  1.35674313e-01, -1.59903392e-01,\n",
              "         -2.94388056e-01, -2.56813943e-01],\n",
              "        [-3.19682151e-01,  1.22426182e-01,  1.43314347e-01,\n",
              "         -1.25388280e-01,  2.05781624e-01, -2.47124992e-02,\n",
              "          8.88938531e-02,  2.65171558e-01, -2.97854394e-01,\n",
              "         -5.17999232e-02,  1.85231686e-01,  4.30193603e-01,\n",
              "         -1.37371406e-01, -1.56325087e-01, -1.82736695e-01,\n",
              "          6.92962557e-02, -4.03913073e-02,  2.74456263e-01,\n",
              "          1.72387138e-01, -1.96819305e-01],\n",
              "        [ 1.38934329e-01, -3.32317948e-01, -3.09578329e-01,\n",
              "         -1.95648953e-01, -7.54452646e-02, -1.75874203e-01,\n",
              "         -4.67296727e-02, -2.03321531e-01,  1.66668698e-01,\n",
              "          2.19985262e-01, -2.80852821e-02, -1.68868467e-01,\n",
              "         -4.50322479e-02,  2.06820637e-01, -1.09398142e-01,\n",
              "          5.21733947e-02, -4.43459451e-02,  3.23305100e-01,\n",
              "         -2.94498235e-01, -3.16406548e-01]], dtype=float32)>,\n",
              " <tf.Variable 'simple_rnn_2/simple_rnn_cell_2/recurrent_kernel:0' shape=(20, 20) dtype=float32, numpy=\n",
              " array([[ 3.06450874e-01,  1.91897511e-01,  2.98645973e-01,\n",
              "         -3.92078668e-01,  2.83866283e-02,  3.12669545e-01,\n",
              "          2.50861514e-02, -2.90144887e-02, -2.18797803e-01,\n",
              "         -8.73963758e-02,  7.95381591e-02,  3.22252214e-01,\n",
              "          2.25132987e-01,  9.97845456e-02, -1.60861984e-02,\n",
              "         -2.86204875e-01, -2.31635168e-01,  2.58407533e-01,\n",
              "         -6.77128062e-02, -4.74318504e-01],\n",
              "        [ 9.42928568e-02,  2.52186935e-02,  1.07765816e-01,\n",
              "          1.34585008e-01, -5.06207906e-03,  2.32579216e-01,\n",
              "         -3.77189517e-02, -1.38041377e-03, -3.75135332e-01,\n",
              "          5.23009114e-02, -1.36436224e-01, -4.78666835e-02,\n",
              "          3.47004563e-01, -3.54474604e-01,  4.37856689e-02,\n",
              "          3.15029770e-01,  5.57835102e-01,  1.48933887e-01,\n",
              "          1.64708629e-01, -4.89418767e-02],\n",
              "        [ 2.97515452e-01,  5.25831357e-02,  4.02940989e-01,\n",
              "          2.62028962e-01, -1.29191250e-01, -9.98283848e-02,\n",
              "         -6.82995766e-02, -4.20588367e-02,  1.75731573e-02,\n",
              "          3.18320274e-01, -1.15301184e-01,  3.01795453e-01,\n",
              "         -1.33875996e-01, -2.86986142e-01, -1.38463676e-01,\n",
              "         -2.93937564e-01, -2.79854357e-01,  2.07289219e-01,\n",
              "          3.60447079e-01,  3.00053060e-01],\n",
              "        [ 1.04698248e-01, -4.03960459e-02,  1.18366741e-01,\n",
              "         -1.12115853e-01, -3.50438058e-02,  4.21112150e-01,\n",
              "          6.77383551e-03,  6.42530620e-02,  1.55508876e-01,\n",
              "          1.64162796e-02,  8.88439547e-03,  3.98518369e-02,\n",
              "         -4.74002033e-01,  8.13308582e-02, -3.45748425e-01,\n",
              "         -3.04046899e-01,  3.37104142e-01, -3.43877882e-01,\n",
              "         -7.81587511e-02,  9.22099873e-02],\n",
              "        [-3.88482846e-02, -5.19019485e-01,  2.59707659e-01,\n",
              "         -2.09062502e-01,  1.00122251e-01,  3.85840625e-01,\n",
              "         -1.57892719e-01,  1.79249361e-01, -2.37562042e-03,\n",
              "          3.19485396e-01, -1.90889034e-02, -3.73070359e-01,\n",
              "         -4.28829491e-02,  1.05381995e-01,  1.60777912e-01,\n",
              "          9.98532698e-02, -2.04228327e-01,  1.02927908e-02,\n",
              "         -9.26726032e-03,  8.81023183e-02],\n",
              "        [ 2.41947979e-01, -2.62798876e-01, -3.58769804e-01,\n",
              "         -3.50517258e-02,  5.44267334e-02, -1.97397135e-02,\n",
              "          7.55722672e-02, -2.90872931e-01, -5.49164303e-02,\n",
              "         -2.14222193e-04,  4.31985468e-01,  5.00329398e-02,\n",
              "         -1.18183717e-01, -8.47691596e-02,  3.52917701e-01,\n",
              "         -1.15489505e-01,  1.14222199e-01, -1.90919921e-01,\n",
              "          3.13508272e-01, -1.50155082e-01],\n",
              "        [-2.78795332e-01,  3.19203101e-02, -3.23783815e-01,\n",
              "         -2.19845042e-01, -2.54980505e-01,  1.30029753e-01,\n",
              "          4.69656557e-01, -2.74985522e-01, -8.77466500e-02,\n",
              "         -6.90351054e-03, -2.33287528e-01, -3.63628209e-01,\n",
              "         -4.22165543e-02, -3.34962994e-01,  1.08316494e-02,\n",
              "         -2.58438826e-01, -9.44265723e-02,  1.48117438e-01,\n",
              "          7.64124794e-03,  6.57902807e-02],\n",
              "        [ 2.16680869e-01, -1.45152122e-01, -2.15079948e-01,\n",
              "          1.34057298e-01,  3.28142524e-01,  3.14338803e-01,\n",
              "         -6.94549531e-02,  9.33141187e-02,  2.61272877e-01,\n",
              "         -3.52479190e-01,  2.18250066e-01, -1.48366457e-02,\n",
              "          8.33597779e-02, -1.74156800e-01, -2.80130565e-01,\n",
              "          1.59237608e-01, -2.54738688e-01,  1.61318853e-01,\n",
              "         -3.61726247e-02,  2.10237786e-01],\n",
              "        [ 3.32550704e-02, -1.97511492e-03, -4.55504477e-01,\n",
              "          1.95324630e-01,  1.97024241e-01,  1.07641779e-01,\n",
              "          6.04540780e-02,  2.86855310e-01,  7.89677352e-02,\n",
              "          5.57225466e-01, -1.53322577e-01,  7.44851604e-02,\n",
              "          4.37701158e-02,  2.03255489e-02, -1.27047390e-01,\n",
              "         -8.31831917e-02, -4.34186272e-02,  4.71292138e-02,\n",
              "         -6.72936579e-03, -2.24072516e-01],\n",
              "        [-4.14295681e-02,  3.04316014e-01, -5.80021068e-02,\n",
              "         -4.35588919e-02,  6.02207303e-01, -9.90687609e-02,\n",
              "          1.21578410e-01,  8.33183825e-02, -5.86010635e-01,\n",
              "         -1.27703875e-01, -1.45871818e-01, -7.85314739e-02,\n",
              "         -2.25582108e-01,  3.67567465e-02, -5.86644970e-02,\n",
              "          2.74765156e-02, -1.67360306e-01, -4.32630554e-02,\n",
              "          1.82046611e-02,  3.82984318e-02],\n",
              "        [ 1.06711965e-02,  3.52597199e-02, -2.16584906e-01,\n",
              "         -5.30486465e-01, -3.68846953e-02, -2.00181842e-01,\n",
              "         -3.48088384e-01,  2.39881799e-01, -6.26289770e-02,\n",
              "          2.60465257e-02, -3.31041706e-03,  1.65739909e-01,\n",
              "          1.46674022e-01, -6.29884228e-02, -4.60567437e-02,\n",
              "         -1.30295336e-01,  1.37433454e-01,  2.38496676e-01,\n",
              "          4.65471223e-02,  3.99231493e-01],\n",
              "        [ 7.16089979e-02, -4.77279454e-01, -1.36252925e-01,\n",
              "          6.55121580e-02, -1.24565125e-01, -1.61393285e-02,\n",
              "         -1.01030119e-01, -2.41515636e-01, -3.97198111e-01,\n",
              "         -1.33835763e-01, -2.95075029e-01,  3.47224206e-01,\n",
              "          6.29133061e-02, -7.23868310e-02, -1.01291977e-01,\n",
              "         -9.24504027e-02, -1.46805868e-01, -2.91328967e-01,\n",
              "         -2.97311664e-01,  2.29926258e-02],\n",
              "        [-1.61139861e-01,  5.33132218e-02, -8.24080557e-02,\n",
              "         -9.57842097e-02, -2.07388192e-01,  2.53161788e-02,\n",
              "         -1.19075611e-01,  3.51969898e-01, -1.91427350e-01,\n",
              "          1.44984052e-01,  3.13496441e-01, -7.66592333e-03,\n",
              "          1.86451644e-01, -2.24167287e-01, -1.78914979e-01,\n",
              "         -4.61554155e-02, -3.04436088e-01, -4.02347624e-01,\n",
              "          1.96955934e-01, -1.57234550e-01],\n",
              "        [-3.90358835e-01,  6.04148842e-02,  1.14558391e-01,\n",
              "          1.50810227e-01,  3.18276167e-01, -2.01631840e-02,\n",
              "         -2.28975579e-01, -1.94113061e-01,  9.35434923e-03,\n",
              "          1.05543877e-03,  2.43396789e-01, -8.78320932e-02,\n",
              "          3.30734611e-01, -1.87917978e-01, -2.05413140e-02,\n",
              "         -4.49575275e-01,  2.24088281e-01,  4.40914445e-02,\n",
              "         -1.02848276e-01,  8.19817781e-02],\n",
              "        [ 2.21498743e-01,  7.17919022e-02, -2.85231620e-02,\n",
              "          1.28737375e-01,  3.76025252e-02,  1.56961769e-01,\n",
              "          1.67491555e-01,  2.86181360e-01,  8.36101100e-02,\n",
              "         -2.04412207e-01, -2.66700089e-01, -1.95531547e-02,\n",
              "          2.57563204e-01,  1.41236529e-01,  4.13942426e-01,\n",
              "         -3.76703680e-01,  1.66351989e-01, -4.34040517e-01,\n",
              "          1.18646428e-01,  1.13377042e-01],\n",
              "        [ 2.38104001e-01, -1.37875780e-01,  5.22230938e-02,\n",
              "          1.57243475e-01, -1.66633502e-01, -2.20552146e-01,\n",
              "          2.44638711e-01,  1.43275663e-01, -3.49614978e-01,\n",
              "          5.64760640e-02,  3.93886000e-01, -2.24433750e-01,\n",
              "          1.82986543e-01,  3.65201026e-01, -2.06956625e-01,\n",
              "         -1.66648909e-01,  1.50870487e-01,  2.67362267e-01,\n",
              "         -7.68528655e-02,  1.58310682e-01],\n",
              "        [-4.46500450e-01, -2.67961711e-01, -1.44847147e-02,\n",
              "          2.48817265e-01, -8.10663700e-02, -7.08381236e-02,\n",
              "         -2.27655903e-01,  3.47694516e-01,  2.49158777e-02,\n",
              "         -3.25713038e-01, -1.06203794e-01, -5.15039191e-02,\n",
              "         -3.92457217e-01,  1.11999270e-02,  7.53044784e-02,\n",
              "         -2.26086706e-01,  2.48666555e-01,  2.00998530e-01,\n",
              "          3.06610435e-01, -2.82125562e-01],\n",
              "        [ 1.86697915e-01, -1.61736563e-01,  7.12170377e-02,\n",
              "         -2.89958537e-01,  3.13934654e-01, -3.71388435e-01,\n",
              "         -1.06760070e-01, -1.60004139e-01,  1.42842233e-01,\n",
              "          1.26124233e-01, -1.49011865e-01, -2.25906581e-01,\n",
              "          1.27448305e-01, -3.93035151e-02, -2.15089560e-01,\n",
              "          3.02021485e-02,  2.35088319e-01, -1.46743059e-01,\n",
              "          2.19428003e-01, -1.84641749e-01],\n",
              "        [ 4.07285541e-01,  1.74554497e-01, -1.73201725e-01,\n",
              "          1.27138287e-01, -1.27409682e-01, -6.38193041e-02,\n",
              "         -4.66241091e-01,  7.42386356e-02, -5.43512888e-02,\n",
              "          5.45978658e-02, -6.37042001e-02, -3.81421030e-01,\n",
              "         -2.37972096e-01, -1.22774728e-01,  1.05335630e-01,\n",
              "         -1.39770061e-01,  1.72388535e-02,  1.83891691e-03,\n",
              "         -3.53004158e-01, -1.19665228e-01],\n",
              "        [ 1.08817056e-01, -2.37115145e-01,  1.65829301e-01,\n",
              "         -3.59693132e-02,  1.43862933e-01, -2.03166440e-01,\n",
              "          3.14906359e-01,  3.48230094e-01,  6.66401535e-02,\n",
              "          1.04274832e-01,  1.70744166e-01,  1.47656232e-01,\n",
              "         -1.64556623e-01, -4.51757193e-01, -1.39017748e-02,\n",
              "         -5.27782068e-02,  1.11733735e-01, -3.68409082e-02,\n",
              "         -2.77132303e-01, -1.08269282e-01]], dtype=float32)>,\n",
              " <tf.Variable 'simple_rnn_2/simple_rnn_cell_2/bias:0' shape=(20,) dtype=float32, numpy=\n",
              " array([-0.00500119,  0.03477322,  0.00149827,  0.00375764,  0.00556428,\n",
              "        -0.00440268, -0.008676  ,  0.00449097,  0.00960153,  0.00329608,\n",
              "         0.00201   ,  0.00618572, -0.0041979 , -0.00226094, -0.00408883,\n",
              "        -0.00573244,  0.00450141, -0.00657957,  0.00907541,  0.01787567],\n",
              "       dtype=float32)>,\n",
              " <tf.Variable 'simple_rnn_3/simple_rnn_cell_3/kernel:0' shape=(20, 1) dtype=float32, numpy=\n",
              " array([[-0.23737162],\n",
              "        [ 0.15582804],\n",
              "        [-0.32058805],\n",
              "        [-0.12510493],\n",
              "        [ 0.4600767 ],\n",
              "        [-0.10679183],\n",
              "        [ 0.09086812],\n",
              "        [-0.25156134],\n",
              "        [-0.47725344],\n",
              "        [ 0.49593696],\n",
              "        [-0.05490727],\n",
              "        [ 0.3546287 ],\n",
              "        [-0.40289676],\n",
              "        [ 0.35572153],\n",
              "        [ 0.49593663],\n",
              "        [ 0.34950718],\n",
              "        [ 0.32604778],\n",
              "        [ 0.18421815],\n",
              "        [ 0.08554529],\n",
              "        [ 0.22322804]], dtype=float32)>,\n",
              " <tf.Variable 'simple_rnn_3/simple_rnn_cell_3/recurrent_kernel:0' shape=(1, 1) dtype=float32, numpy=array([[-0.9238214]], dtype=float32)>,\n",
              " <tf.Variable 'simple_rnn_3/simple_rnn_cell_3/bias:0' shape=(1,) dtype=float32, numpy=array([0.00343359], dtype=float32)>]"
            ]
          },
          "metadata": {
            "tags": []
          },
          "execution_count": 27
        }
      ]
    },
    {
      "cell_type": "code",
      "metadata": {
        "colab": {
          "base_uri": "https://localhost:8080/",
          "height": 283
        },
        "id": "zmLPGTSjc1Gq",
        "outputId": "c5fc6cf7-00b5-45aa-a4ca-f3eaa96094cb"
      },
      "source": [
        "plot_learning_curves(history.history[\"loss\"], history.history[\"val_loss\"])\n",
        "plt.show()"
      ],
      "execution_count": null,
      "outputs": [
        {
          "output_type": "display_data",
          "data": {
            "image/png": "[encoded data removed]",
            "text/plain": [
              "<Figure size 432x288 with 1 Axes>"
            ]
          },
          "metadata": {
            "tags": [],
            "needs_background": "light"
          }
        }
      ]
    },
    {
      "cell_type": "code",
      "metadata": {
        "colab": {
          "base_uri": "https://localhost:8080/"
        },
        "id": "j2M6uAaDc5EZ",
        "outputId": "482275de-441d-4902-8e40-f1eb79c0c357"
      },
      "source": [
        "model.evaluate(X_valid, y_valid)"
      ],
      "execution_count": null,
      "outputs": [
        {
          "output_type": "stream",
          "text": [
            "63/63 [==============================] - 0s 5ms/step - loss: 0.0025\n"
          ],
          "name": "stdout"
        },
        {
          "output_type": "execute_result",
          "data": {
            "text/plain": [
              "0.002450787927955389"
            ]
          },
          "metadata": {
            "tags": []
          },
          "execution_count": 15
        }
      ]
    },
    {
      "cell_type": "markdown",
      "metadata": {
        "id": "Wh7h2rOIcjFh"
      },
      "source": [
        "다른 활성화  함수를 사용하려면 출력층을 Dense층으로 바꾼다.  \n",
        "더 빠르면서 정확도는 비슷하다.  \n",
        "원하는 활성화 함수도 사용 가능하다.  \n",
        "\n",
        "이렇게 바꾸려면 마지막이 된 두번째 순환 층에서 return_sequences=True를 제거해야한다.\n",
        "\n",
        "return_sequences 설명\n",
        "https://m.blog.naver.com/PostView.nhn?blogId=chunjein&logNo=221589624838&proxyReferer=https:%2F%2Fwww.google.com%2F\n"
      ]
    },
    {
      "cell_type": "code",
      "metadata": {
        "colab": {
          "base_uri": "https://localhost:8080/"
        },
        "id": "BtaxFrzPdwT3",
        "outputId": "57d43030-d5f4-41f1-cb21-4f00c57000cd"
      },
      "source": [
        "model = keras.models.Sequential([\n",
        "    keras.layers.SimpleRNN(20, return_sequences=True, input_shape=[None, 1]),\n",
        "    keras.layers.SimpleRNN(20),\n",
        "    keras.layers.Dense(1)\n",
        "])\n",
        "\n",
        "model.compile(loss=\"mse\", optimizer=\"adam\")\n",
        "history = model.fit(X_train, y_train, epochs=20,\n",
        "                    validation_data=(X_valid, y_valid))"
      ],
      "execution_count": null,
      "outputs": [
        {
          "output_type": "stream",
          "text": [
            "Epoch 1/20\n",
            "219/219 [==============================] - 5s 16ms/step - loss: 0.0126 - val_loss: 0.0037\n",
            "Epoch 2/20\n",
            "219/219 [==============================] - 3s 14ms/step - loss: 0.0035 - val_loss: 0.0029\n",
            "Epoch 3/20\n",
            "219/219 [==============================] - 3s 15ms/step - loss: 0.0030 - val_loss: 0.0030\n",
            "Epoch 4/20\n",
            "219/219 [==============================] - 3s 14ms/step - loss: 0.0030 - val_loss: 0.0030\n",
            "Epoch 5/20\n",
            "219/219 [==============================] - 3s 14ms/step - loss: 0.0029 - val_loss: 0.0034\n",
            "Epoch 6/20\n",
            "219/219 [==============================] - 3s 14ms/step - loss: 0.0029 - val_loss: 0.0027\n",
            "Epoch 7/20\n",
            "219/219 [==============================] - 3s 14ms/step - loss: 0.0028 - val_loss: 0.0029\n",
            "Epoch 8/20\n",
            "219/219 [==============================] - 3s 14ms/step - loss: 0.0028 - val_loss: 0.0028\n",
            "Epoch 9/20\n",
            "219/219 [==============================] - 3s 14ms/step - loss: 0.0028 - val_loss: 0.0029\n",
            "Epoch 10/20\n",
            "219/219 [==============================] - 3s 14ms/step - loss: 0.0028 - val_loss: 0.0029\n",
            "Epoch 11/20\n",
            "219/219 [==============================] - 3s 14ms/step - loss: 0.0028 - val_loss: 0.0026\n",
            "Epoch 12/20\n",
            "219/219 [==============================] - 3s 14ms/step - loss: 0.0027 - val_loss: 0.0026\n",
            "Epoch 13/20\n",
            "219/219 [==============================] - 3s 14ms/step - loss: 0.0028 - val_loss: 0.0029\n",
            "Epoch 14/20\n",
            "219/219 [==============================] - 3s 14ms/step - loss: 0.0027 - val_loss: 0.0029\n",
            "Epoch 15/20\n",
            "219/219 [==============================] - 3s 15ms/step - loss: 0.0027 - val_loss: 0.0026\n",
            "Epoch 16/20\n",
            "219/219 [==============================] - 3s 14ms/step - loss: 0.0028 - val_loss: 0.0029\n",
            "Epoch 17/20\n",
            "219/219 [==============================] - 3s 14ms/step - loss: 0.0027 - val_loss: 0.0026\n",
            "Epoch 18/20\n",
            "219/219 [==============================] - 3s 14ms/step - loss: 0.0027 - val_loss: 0.0024\n",
            "Epoch 19/20\n",
            "219/219 [==============================] - 3s 14ms/step - loss: 0.0027 - val_loss: 0.0026\n",
            "Epoch 20/20\n",
            "219/219 [==============================] - 3s 14ms/step - loss: 0.0027 - val_loss: 0.0025\n"
          ],
          "name": "stdout"
        }
      ]
    },
    {
      "cell_type": "code",
      "metadata": {
        "colab": {
          "base_uri": "https://localhost:8080/"
        },
        "id": "CSPK6HwwgrZR",
        "outputId": "a086a22f-d2db-4f9a-e5c5-92217580bb5b"
      },
      "source": [
        "model.summary()"
      ],
      "execution_count": null,
      "outputs": [
        {
          "output_type": "stream",
          "text": [
            "Model: \"sequential_9\"\n",
            "_________________________________________________________________\n",
            "Layer (type)                 Output Shape              Param #   \n",
            "=================================================================\n",
            "simple_rnn_9 (SimpleRNN)     (None, None, 20)          440       \n",
            "_________________________________________________________________\n",
            "simple_rnn_10 (SimpleRNN)    (None, 20)                820       \n",
            "_________________________________________________________________\n",
            "dense_6 (Dense)              (None, 1)                 21        \n",
            "=================================================================\n",
            "Total params: 1,281\n",
            "Trainable params: 1,281\n",
            "Non-trainable params: 0\n",
            "_________________________________________________________________\n"
          ],
          "name": "stdout"
        }
      ]
    },
    {
      "cell_type": "code",
      "metadata": {
        "colab": {
          "base_uri": "https://localhost:8080/"
        },
        "id": "qgSbmDmDe1pj",
        "outputId": "578f1b40-75da-42ce-dccd-0e67331bf799"
      },
      "source": [
        "model.evaluate(X_valid, y_valid)"
      ],
      "execution_count": null,
      "outputs": [
        {
          "output_type": "stream",
          "text": [
            "63/63 [==============================] - 0s 4ms/step - loss: 0.0025\n"
          ],
          "name": "stdout"
        },
        {
          "output_type": "execute_result",
          "data": {
            "text/plain": [
              "0.0025114286690950394"
            ]
          },
          "metadata": {
            "tags": []
          },
          "execution_count": 17
        }
      ]
    },
    {
      "cell_type": "markdown",
      "metadata": {
        "id": "WolpzE8Rd3pK"
      },
      "source": [
        "### 여러 타임스텝 앞을 예측하기\n",
        "1스텝이 아니라 10스텝 앞의 값으로 타깃을 바꾸머 10스텝 앞을 예측하는 방법이다.  \n"
      ]
    },
    {
      "cell_type": "markdown",
      "metadata": {
        "id": "TklpDvi2o0TF"
      },
      "source": [
        "RNN을 훈련하여 다음 값 10개를 한번에 예측  \n",
        "시퀀스-투-벡터 모델을 사용하지만 1개가 아니라 10개를 출력한다.   "
      ]
    },
    {
      "cell_type": "code",
      "metadata": {
        "colab": {
          "base_uri": "https://localhost:8080/"
        },
        "id": "INYs1o_5pL1J",
        "outputId": "3413ff8c-3154-45f9-c8df-eadafc5d2e3e"
      },
      "source": [
        "n_steps = 50\n",
        "series = generate_time_series(10000, n_steps + 10)\n",
        "print(series.shape)\n",
        "X_train, Y_train = series[:7000, :n_steps], series[:7000, -10:, 0]\n",
        "X_valid, Y_valid = series[7000:9000, :n_steps], series[7000:9000, -10:, 0]\n",
        "X_test, Y_test = series[9000:, :n_steps], series[9000:, -10:, 0]\n",
        "print(X_train.shape, Y_train.shape)"
      ],
      "execution_count": null,
      "outputs": [
        {
          "output_type": "stream",
          "text": [
            "(10000, 60, 1)\n",
            "(7000, 50, 1) (7000, 10)\n"
          ],
          "name": "stdout"
        }
      ]
    },
    {
      "cell_type": "code",
      "metadata": {
        "id": "-W5BG7NJqTcR",
        "colab": {
          "base_uri": "https://localhost:8080/"
        },
        "outputId": "ba2943f7-1825-456c-f52b-264abf12a7f4"
      },
      "source": [
        "# RNN과 10개의 출력층으로 학습\n",
        "model = keras.models.Sequential([\n",
        "    keras.layers.SimpleRNN(20, return_sequences=True, input_shape=[None, 1]),\n",
        "    keras.layers.SimpleRNN(20),\n",
        "    keras.layers.Dense(10)\n",
        "])\n",
        "\n",
        "model.compile(loss=\"mse\", optimizer=\"adam\")\n",
        "history = model.fit(X_train, Y_train, epochs=20,\n",
        "                    validation_data=(X_valid, Y_valid))"
      ],
      "execution_count": null,
      "outputs": [
        {
          "output_type": "stream",
          "text": [
            "Epoch 1/20\n",
            "219/219 [==============================] - 5s 18ms/step - loss: 0.1128 - val_loss: 0.0270\n",
            "Epoch 2/20\n",
            "219/219 [==============================] - 4s 16ms/step - loss: 0.0240 - val_loss: 0.0176\n",
            "Epoch 3/20\n",
            "219/219 [==============================] - 4s 16ms/step - loss: 0.0173 - val_loss: 0.0151\n",
            "Epoch 4/20\n",
            "219/219 [==============================] - 4s 16ms/step - loss: 0.0145 - val_loss: 0.0139\n",
            "Epoch 5/20\n",
            "219/219 [==============================] - 4s 16ms/step - loss: 0.0139 - val_loss: 0.0126\n",
            "Epoch 6/20\n",
            "219/219 [==============================] - 3s 16ms/step - loss: 0.0132 - val_loss: 0.0125\n",
            "Epoch 7/20\n",
            "219/219 [==============================] - 4s 16ms/step - loss: 0.0123 - val_loss: 0.0113\n",
            "Epoch 8/20\n",
            "219/219 [==============================] - 4s 16ms/step - loss: 0.0113 - val_loss: 0.0106\n",
            "Epoch 9/20\n",
            "219/219 [==============================] - 3s 16ms/step - loss: 0.0107 - val_loss: 0.0120\n",
            "Epoch 10/20\n",
            "219/219 [==============================] - 3s 16ms/step - loss: 0.0108 - val_loss: 0.0109\n",
            "Epoch 11/20\n",
            "219/219 [==============================] - 3s 16ms/step - loss: 0.0106 - val_loss: 0.0100\n",
            "Epoch 12/20\n",
            "219/219 [==============================] - 4s 16ms/step - loss: 0.0100 - val_loss: 0.0092\n",
            "Epoch 13/20\n",
            "219/219 [==============================] - 4s 16ms/step - loss: 0.0097 - val_loss: 0.0099\n",
            "Epoch 14/20\n",
            "219/219 [==============================] - 4s 16ms/step - loss: 0.0098 - val_loss: 0.0090\n",
            "Epoch 15/20\n",
            "219/219 [==============================] - 4s 16ms/step - loss: 0.0089 - val_loss: 0.0107\n",
            "Epoch 16/20\n",
            "219/219 [==============================] - 4s 16ms/step - loss: 0.0092 - val_loss: 0.0089\n",
            "Epoch 17/20\n",
            "219/219 [==============================] - 3s 16ms/step - loss: 0.0092 - val_loss: 0.0092\n",
            "Epoch 18/20\n",
            "219/219 [==============================] - 3s 16ms/step - loss: 0.0091 - val_loss: 0.0088\n",
            "Epoch 19/20\n",
            "219/219 [==============================] - 3s 16ms/step - loss: 0.0089 - val_loss: 0.0080\n",
            "Epoch 20/20\n",
            "219/219 [==============================] - 4s 16ms/step - loss: 0.0085 - val_loss: 0.0103\n"
          ],
          "name": "stdout"
        }
      ]
    },
    {
      "cell_type": "code",
      "metadata": {
        "colab": {
          "base_uri": "https://localhost:8080/"
        },
        "id": "EDwchd1V3aCG",
        "outputId": "4a525c1f-c9f0-4313-8308-71e1acb921c0"
      },
      "source": [
        "model.summary()"
      ],
      "execution_count": null,
      "outputs": [
        {
          "output_type": "stream",
          "text": [
            "Model: \"sequential_2\"\n",
            "_________________________________________________________________\n",
            "Layer (type)                 Output Shape              Param #   \n",
            "=================================================================\n",
            "simple_rnn_4 (SimpleRNN)     (None, None, 20)          440       \n",
            "_________________________________________________________________\n",
            "simple_rnn_5 (SimpleRNN)     (None, 20)                820       \n",
            "_________________________________________________________________\n",
            "dense (Dense)                (None, 10)                210       \n",
            "=================================================================\n",
            "Total params: 1,470\n",
            "Trainable params: 1,470\n",
            "Non-trainable params: 0\n",
            "_________________________________________________________________\n"
          ],
          "name": "stdout"
        }
      ]
    },
    {
      "cell_type": "code",
      "metadata": {
        "id": "it1uO5rPqku-"
      },
      "source": [
        "series = generate_time_series(1, 50 + 10)\n",
        "X_new, Y_new = series[:, :50, :], series[:, -10:, :]\n",
        "Y_pred = model.predict(X_new)[..., np.newaxis]"
      ],
      "execution_count": null,
      "outputs": []
    },
    {
      "cell_type": "code",
      "metadata": {
        "colab": {
          "base_uri": "https://localhost:8080/"
        },
        "id": "bCC9GEbK69pI",
        "outputId": "21aaebef-b4e4-42dc-d99d-e5e2410f766b"
      },
      "source": [
        "y = model.predict(X_new)\n",
        "y[...,np.newaxis]"
      ],
      "execution_count": null,
      "outputs": [
        {
          "output_type": "execute_result",
          "data": {
            "text/plain": [
              "array([[[0.42001978],\n",
              "        [0.3471145 ],\n",
              "        [0.2928675 ],\n",
              "        [0.27238137],\n",
              "        [0.24055547],\n",
              "        [0.27829725],\n",
              "        [0.30267546],\n",
              "        [0.23284033],\n",
              "        [0.16495399],\n",
              "        [0.14005177]]], dtype=float32)"
            ]
          },
          "metadata": {
            "tags": []
          },
          "execution_count": 55
        }
      ]
    },
    {
      "cell_type": "code",
      "metadata": {
        "colab": {
          "base_uri": "https://localhost:8080/",
          "height": 289
        },
        "id": "xh6NBm9qqnIR",
        "outputId": "c7d6642e-3cea-40bc-8028-f0537c5bd7d9"
      },
      "source": [
        "plot_multiple_forecasts(X_new, Y_new, Y_pred)\n",
        "plt.show()"
      ],
      "execution_count": null,
      "outputs": [
        {
          "output_type": "display_data",
          "data": {
            "image/png": "[encoded data removed]",
            "text/plain": [
              "<Figure size 432x288 with 1 Axes>"
            ]
          },
          "metadata": {
            "tags": [],
            "needs_background": "light"
          }
        }
      ]
    },
    {
      "cell_type": "code",
      "metadata": {
        "colab": {
          "base_uri": "https://localhost:8080/"
        },
        "id": "QjFCWuCu3Y-k",
        "outputId": "91514195-dc07-4da4-9b52-9e721d34ed96"
      },
      "source": [
        "X_new.shape,Y_pred.shape, Y_new.shape"
      ],
      "execution_count": null,
      "outputs": [
        {
          "output_type": "execute_result",
          "data": {
            "text/plain": [
              "((1, 50, 1), (1, 10, 1), (1, 10, 1))"
            ]
          },
          "metadata": {
            "tags": []
          },
          "execution_count": 56
        }
      ]
    },
    {
      "cell_type": "code",
      "metadata": {
        "colab": {
          "base_uri": "https://localhost:8080/"
        },
        "id": "C0UHzMP7q56P",
        "outputId": "feb4df2f-ecec-4ded-bb76-919daad8bd48"
      },
      "source": [
        "model.evaluate(X_new,Y_pred)"
      ],
      "execution_count": null,
      "outputs": [
        {
          "output_type": "stream",
          "text": [
            "1/1 [==============================] - 0s 222ms/step - loss: 0.0000e+00\n"
          ],
          "name": "stdout"
        },
        {
          "output_type": "execute_result",
          "data": {
            "text/plain": [
              "0.0"
            ]
          },
          "metadata": {
            "tags": []
          },
          "execution_count": 31
        }
      ]
    },
    {
      "cell_type": "markdown",
      "metadata": {
        "id": "AVYt90qgrU-z"
      },
      "source": [
        "더 개선할 여지가 있다  \n",
        "\n",
        "시퀀스-투-벡터를 시퀀스-투-시퀀스로 바꾸는 것이다  \n",
        "더 많은 오차 그레이디언트가 모델에 흐르고 훈련을 안정적으로 만든다  \n"
      ]
    },
    {
      "cell_type": "code",
      "metadata": {
        "id": "DUQ4twSDxhBo"
      },
      "source": [
        "n_steps = 50\n",
        "series = generate_time_series(10000, n_steps + 10) # 10000,60,1\n",
        "X_train = series[:7000, :n_steps]\n",
        "X_valid = series[7000:9000, :n_steps]\n",
        "X_test = series[9000:, :n_steps]\n",
        "Y = np.empty((10000, n_steps, 10))\n",
        "for step_ahead in range(1, 10 + 1):\n",
        "    Y[..., step_ahead - 1] = series[..., step_ahead:step_ahead + n_steps, 0]\n",
        "Y_train = Y[:7000]\n",
        "Y_valid = Y[7000:9000]\n",
        "Y_test = Y[9000:]"
      ],
      "execution_count": null,
      "outputs": []
    },
    {
      "cell_type": "code",
      "metadata": {
        "colab": {
          "base_uri": "https://localhost:8080/"
        },
        "id": "xS1AB9Ik6xgS",
        "outputId": "bfb0b1a9-5279-4d6c-f6da-0963a7742df6"
      },
      "source": [
        "X_train.shape, Y_train.shape"
      ],
      "execution_count": null,
      "outputs": [
        {
          "output_type": "execute_result",
          "data": {
            "text/plain": [
              "((7000, 50, 1), (7000, 50, 10))"
            ]
          },
          "metadata": {
            "tags": []
          },
          "execution_count": 33
        }
      ]
    },
    {
      "cell_type": "code",
      "metadata": {
        "colab": {
          "base_uri": "https://localhost:8080/"
        },
        "id": "2AW8ckar7Nzr",
        "outputId": "32ad41ae-ac95-4082-bf20-49ea929e7e02"
      },
      "source": [
        "Y_train[0].shape"
      ],
      "execution_count": null,
      "outputs": [
        {
          "output_type": "execute_result",
          "data": {
            "text/plain": [
              "(50, 10)"
            ]
          },
          "metadata": {
            "tags": []
          },
          "execution_count": 39
        }
      ]
    },
    {
      "cell_type": "markdown",
      "metadata": {
        "id": "DV86xxVYBXfh"
      },
      "source": [
        "시퀀스-투-시퀀스 모델로 바꾸려면 모든 순환층에 retur_sequences=True를 지정해야한다.  \n",
        "그 다음 모든 타임 스텝에서 출력을 Dense층에 적용해야한다.  \n",
        "\n",
        "\n",
        "TimeDestributed설명  https://m.blog.naver.com/PostView.nhn?blogId=chunjein&logNo=221589624838&proxyReferer=https:%2F%2Fwww.google.com%2F"
      ]
    },
    {
      "cell_type": "code",
      "metadata": {
        "colab": {
          "base_uri": "https://localhost:8080/"
        },
        "id": "Gsb9-Ihr7nE6",
        "outputId": "91d43779-e8dd-4174-923d-7bb64b92a555"
      },
      "source": [
        "\n",
        "model = keras.models.Sequential([\n",
        "    keras.layers.SimpleRNN(20, return_sequences=True, input_shape=[None, 1]),\n",
        "    keras.layers.SimpleRNN(20, return_sequences=True),\n",
        "    keras.layers.TimeDistributed(keras.layers.Dense(10))\n",
        "])\n",
        "\n",
        "# 예측과 평가용으로 마지막 타임스텝의 출력만 사용해 평가\n",
        "def last_time_step_mse(Y_true, Y_pred):\n",
        "    return keras.metrics.mean_squared_error(Y_true[:, -1], Y_pred[:, -1])\n",
        "\n",
        "model.compile(loss=\"mse\", optimizer=keras.optimizers.Adam(lr=0.01), metrics=[last_time_step_mse])\n",
        "history = model.fit(X_train, Y_train, epochs=20,\n",
        "                    validation_data=(X_valid, Y_valid))"
      ],
      "execution_count": null,
      "outputs": [
        {
          "output_type": "stream",
          "text": [
            "Epoch 1/20\n",
            "219/219 [==============================] - 5s 17ms/step - loss: 0.0682 - last_time_step_mse: 0.0576 - val_loss: 0.0371 - val_last_time_step_mse: 0.0213\n",
            "Epoch 2/20\n",
            "219/219 [==============================] - 3s 15ms/step - loss: 0.0375 - last_time_step_mse: 0.0241 - val_loss: 0.0320 - val_last_time_step_mse: 0.0185\n",
            "Epoch 3/20\n",
            "219/219 [==============================] - 3s 15ms/step - loss: 0.0322 - last_time_step_mse: 0.0194 - val_loss: 0.0307 - val_last_time_step_mse: 0.0168\n",
            "Epoch 4/20\n",
            "219/219 [==============================] - 3s 15ms/step - loss: 0.0298 - last_time_step_mse: 0.0166 - val_loss: 0.0289 - val_last_time_step_mse: 0.0156\n",
            "Epoch 5/20\n",
            "219/219 [==============================] - 3s 15ms/step - loss: 0.0266 - last_time_step_mse: 0.0125 - val_loss: 0.0267 - val_last_time_step_mse: 0.0129\n",
            "Epoch 6/20\n",
            "219/219 [==============================] - 3s 15ms/step - loss: 0.0235 - last_time_step_mse: 0.0103 - val_loss: 0.0268 - val_last_time_step_mse: 0.0139\n",
            "Epoch 7/20\n",
            "219/219 [==============================] - 3s 15ms/step - loss: 0.0241 - last_time_step_mse: 0.0115 - val_loss: 0.0219 - val_last_time_step_mse: 0.0088\n",
            "Epoch 8/20\n",
            "219/219 [==============================] - 3s 15ms/step - loss: 0.0218 - last_time_step_mse: 0.0094 - val_loss: 0.0240 - val_last_time_step_mse: 0.0109\n",
            "Epoch 9/20\n",
            "219/219 [==============================] - 3s 15ms/step - loss: 0.0211 - last_time_step_mse: 0.0087 - val_loss: 0.0198 - val_last_time_step_mse: 0.0073\n",
            "Epoch 10/20\n",
            "219/219 [==============================] - 3s 15ms/step - loss: 0.0205 - last_time_step_mse: 0.0080 - val_loss: 0.0203 - val_last_time_step_mse: 0.0075\n",
            "Epoch 11/20\n",
            "219/219 [==============================] - 3s 15ms/step - loss: 0.0208 - last_time_step_mse: 0.0087 - val_loss: 0.0202 - val_last_time_step_mse: 0.0087\n",
            "Epoch 12/20\n",
            "219/219 [==============================] - 3s 15ms/step - loss: 0.0202 - last_time_step_mse: 0.0082 - val_loss: 0.0188 - val_last_time_step_mse: 0.0067\n",
            "Epoch 13/20\n",
            "219/219 [==============================] - 3s 15ms/step - loss: 0.0198 - last_time_step_mse: 0.0080 - val_loss: 0.0185 - val_last_time_step_mse: 0.0065\n",
            "Epoch 14/20\n",
            "219/219 [==============================] - 3s 15ms/step - loss: 0.0196 - last_time_step_mse: 0.0078 - val_loss: 0.0228 - val_last_time_step_mse: 0.0099\n",
            "Epoch 15/20\n",
            "219/219 [==============================] - 3s 15ms/step - loss: 0.0196 - last_time_step_mse: 0.0080 - val_loss: 0.0196 - val_last_time_step_mse: 0.0077\n",
            "Epoch 16/20\n",
            "219/219 [==============================] - 3s 15ms/step - loss: 0.0196 - last_time_step_mse: 0.0079 - val_loss: 0.0186 - val_last_time_step_mse: 0.0068\n",
            "Epoch 17/20\n",
            "219/219 [==============================] - 3s 15ms/step - loss: 0.0189 - last_time_step_mse: 0.0071 - val_loss: 0.0190 - val_last_time_step_mse: 0.0077\n",
            "Epoch 18/20\n",
            "219/219 [==============================] - 3s 15ms/step - loss: 0.0189 - last_time_step_mse: 0.0072 - val_loss: 0.0184 - val_last_time_step_mse: 0.0073\n",
            "Epoch 19/20\n",
            "219/219 [==============================] - 3s 15ms/step - loss: 0.0190 - last_time_step_mse: 0.0074 - val_loss: 0.0178 - val_last_time_step_mse: 0.0064\n",
            "Epoch 20/20\n",
            "219/219 [==============================] - 3s 15ms/step - loss: 0.0188 - last_time_step_mse: 0.0074 - val_loss: 0.0180 - val_last_time_step_mse: 0.0063\n"
          ],
          "name": "stdout"
        }
      ]
    },
    {
      "cell_type": "code",
      "metadata": {
        "id": "FGuierK0DNwa"
      },
      "source": [
        "series = generate_time_series(1, 50 + 10)\n",
        "X_new, Y_new = series[:, :50, :], series[:, 50:, :]\n",
        "Y_pred = model.predict(X_new)[:, -1][..., np.newaxis]"
      ],
      "execution_count": null,
      "outputs": []
    },
    {
      "cell_type": "code",
      "metadata": {
        "colab": {
          "base_uri": "https://localhost:8080/",
          "height": 288
        },
        "id": "hsqQNtU6DRP8",
        "outputId": "8692068c-2cf1-408e-9c71-3278aa22aa04"
      },
      "source": [
        "plot_multiple_forecasts(X_new, Y_new, Y_pred)\n",
        "plt.show()"
      ],
      "execution_count": null,
      "outputs": [
        {
          "output_type": "display_data",
          "data": {
            "image/png": "[encoded data removed]",
            "text/plain": [
              "<Figure size 432x288 with 1 Axes>"
            ]
          },
          "metadata": {
            "tags": [],
            "needs_background": "light"
          }
        }
      ]
    },
    {
      "cell_type": "markdown",
      "metadata": {
        "id": "5zGBwI3pDeQI"
      },
      "source": [
        "# 긴 시퀀스 다루기"
      ]
    },
    {
      "cell_type": "markdown",
      "metadata": {
        "id": "zoghFnQdDfsq"
      },
      "source": [
        "깊은 RNN은 그레이디언트 소실과 폭주 문제를 갖는다.  \n",
        "입력의 첫 부분을 조금씩 잊어버린다."
      ]
    },
    {
      "cell_type": "markdown",
      "metadata": {
        "id": "WAxbjz66DyF5"
      },
      "source": [
        "## 불안정한 그레이디언트 문제"
      ]
    },
    {
      "cell_type": "markdown",
      "metadata": {
        "id": "rBw7c3gF3MUN"
      },
      "source": [
        "\n",
        "RNN에 잘 맞는 정규화는 층 정규화이다.  \n",
        "배치정규화와 비슷하지만 배치차원에서 정규화 하는대신 특성차원에 대해 정규화한다.  "
      ]
    },
    {
      "cell_type": "markdown",
      "metadata": {
        "id": "yjSm-F3G7tao"
      },
      "source": [
        "![image.png](data:image/png;base64,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)"
      ]
    },
    {
      "cell_type": "code",
      "metadata": {
        "id": "U4kWSEPf7uZ-"
      },
      "source": [
        "from tensorflow.keras.layers import LayerNormalization"
      ],
      "execution_count": null,
      "outputs": []
    },
    {
      "cell_type": "code",
      "metadata": {
        "id": "pPp-gpvO9AbH"
      },
      "source": [
        "class LNSimpleRNNCell(keras.layers.Layer):\n",
        "    def __init__(self, units, activation=\"tanh\", **kwargs): # 유닛개수를 받는다.\n",
        "        super().__init__(**kwargs)\n",
        "        self.state_size = units # 은닉 states와 출력 수 같다.\n",
        "        self.output_size = units\n",
        "        # 활성화 함수를 수행하기 전에 층정규화를 수행하기 위해 활성화함수 정의하지않고 RNN만듬\n",
        "        self.simple_rnn_cell = keras.layers.SimpleRNNCell(units,\n",
        "                                                          activation=None)\n",
        "        self.layer_norm = LayerNormalization() # 층정규화\n",
        "        self.activation = keras.activations.get(activation) # 활성화 함수\n",
        "    def get_initial_state(self, inputs=None, batch_size=None, dtype=None):\n",
        "        if inputs is not None:\n",
        "            batch_size = tf.shape(inputs)[0]\n",
        "            dtype = inputs.dtype\n",
        "        return [tf.zeros([batch_size, self.state_size], dtype=dtype)]\n",
        "    def call(self, inputs, states): # 현재 타임스텝의 인풋과 이전 타임스텝의 은닉 states\n",
        "        outputs, new_states = self.simple_rnn_cell(inputs, states) # RNN을 거쳐 새 출력과, states 받는다.\n",
        "        norm_outputs = self.activation(self.layer_norm(outputs)) # 층 정규화를 한 후 활성화함수 취함\n",
        "        return norm_outputs, [norm_outputs]"
      ],
      "execution_count": null,
      "outputs": []
    },
    {
      "cell_type": "code",
      "metadata": {
        "colab": {
          "base_uri": "https://localhost:8080/"
        },
        "id": "3J2aFdO9-tF7",
        "outputId": "d49b8f0b-c244-4c12-9e13-bf8c24fa1534"
      },
      "source": [
        "np.random.seed(42)\n",
        "tf.random.set_seed(42)\n",
        "\n",
        "model = keras.models.Sequential([\n",
        "    keras.layers.RNN(LNSimpleRNNCell(20), return_sequences=True,\n",
        "                     input_shape=[None, 1]),\n",
        "    keras.layers.RNN(LNSimpleRNNCell(20), return_sequences=True),\n",
        "    keras.layers.TimeDistributed(keras.layers.Dense(10))\n",
        "])\n",
        "\n",
        "# 예측과 평가용으로 마지막 타임스텝의 출력만 사용해 평가\n",
        "def last_time_step_mse(Y_true, Y_pred):\n",
        "    return keras.metrics.mean_squared_error(Y_true[:, -1], Y_pred[:, -1])\n",
        "\n",
        "model.compile(loss=\"mse\", optimizer=\"adam\", metrics=[last_time_step_mse])\n",
        "history = model.fit(X_train, Y_train, epochs=20,\n",
        "                    validation_data=(X_valid, Y_valid))"
      ],
      "execution_count": null,
      "outputs": [
        {
          "output_type": "stream",
          "text": [
            "Epoch 1/20\n",
            "219/219 [==============================] - 12s 42ms/step - loss: 0.2828 - last_time_step_mse: 0.2865 - val_loss: 0.0714 - val_last_time_step_mse: 0.0572\n",
            "Epoch 2/20\n",
            "219/219 [==============================] - 9s 39ms/step - loss: 0.0665 - last_time_step_mse: 0.0531 - val_loss: 0.0562 - val_last_time_step_mse: 0.0426\n",
            "Epoch 3/20\n",
            "219/219 [==============================] - 9s 40ms/step - loss: 0.0557 - last_time_step_mse: 0.0421 - val_loss: 0.0498 - val_last_time_step_mse: 0.0354\n",
            "Epoch 4/20\n",
            "219/219 [==============================] - 9s 40ms/step - loss: 0.0495 - last_time_step_mse: 0.0342 - val_loss: 0.0449 - val_last_time_step_mse: 0.0298\n",
            "Epoch 5/20\n",
            "219/219 [==============================] - 9s 40ms/step - loss: 0.0451 - last_time_step_mse: 0.0308 - val_loss: 0.0418 - val_last_time_step_mse: 0.0270\n",
            "Epoch 6/20\n",
            "219/219 [==============================] - 9s 39ms/step - loss: 0.0415 - last_time_step_mse: 0.0267 - val_loss: 0.0385 - val_last_time_step_mse: 0.0233\n",
            "Epoch 7/20\n",
            "219/219 [==============================] - 9s 40ms/step - loss: 0.0396 - last_time_step_mse: 0.0247 - val_loss: 0.0392 - val_last_time_step_mse: 0.0259\n",
            "Epoch 8/20\n",
            "219/219 [==============================] - 9s 40ms/step - loss: 0.0380 - last_time_step_mse: 0.0241 - val_loss: 0.0345 - val_last_time_step_mse: 0.0198\n",
            "Epoch 9/20\n",
            "219/219 [==============================] - 9s 40ms/step - loss: 0.0346 - last_time_step_mse: 0.0202 - val_loss: 0.0334 - val_last_time_step_mse: 0.0190\n",
            "Epoch 10/20\n",
            "219/219 [==============================] - 9s 41ms/step - loss: 0.0334 - last_time_step_mse: 0.0189 - val_loss: 0.0333 - val_last_time_step_mse: 0.0193\n",
            "Epoch 11/20\n",
            "219/219 [==============================] - 9s 40ms/step - loss: 0.0328 - last_time_step_mse: 0.0188 - val_loss: 0.0311 - val_last_time_step_mse: 0.0171\n",
            "Epoch 12/20\n",
            "219/219 [==============================] - 9s 40ms/step - loss: 0.0314 - last_time_step_mse: 0.0174 - val_loss: 0.0342 - val_last_time_step_mse: 0.0222\n",
            "Epoch 13/20\n",
            "219/219 [==============================] - 9s 40ms/step - loss: 0.0381 - last_time_step_mse: 0.0261 - val_loss: 0.0309 - val_last_time_step_mse: 0.0178\n",
            "Epoch 14/20\n",
            "219/219 [==============================] - 9s 40ms/step - loss: 0.0314 - last_time_step_mse: 0.0178 - val_loss: 0.0298 - val_last_time_step_mse: 0.0169\n",
            "Epoch 15/20\n",
            "219/219 [==============================] - 9s 40ms/step - loss: 0.0300 - last_time_step_mse: 0.0171 - val_loss: 0.0296 - val_last_time_step_mse: 0.0166\n",
            "Epoch 16/20\n",
            "219/219 [==============================] - 9s 40ms/step - loss: 0.0308 - last_time_step_mse: 0.0174 - val_loss: 0.0297 - val_last_time_step_mse: 0.0166\n",
            "Epoch 17/20\n",
            "219/219 [==============================] - 9s 40ms/step - loss: 0.0297 - last_time_step_mse: 0.0164 - val_loss: 0.0290 - val_last_time_step_mse: 0.0152\n",
            "Epoch 18/20\n",
            "219/219 [==============================] - 9s 41ms/step - loss: 0.0291 - last_time_step_mse: 0.0156 - val_loss: 0.0293 - val_last_time_step_mse: 0.0162\n",
            "Epoch 19/20\n",
            "219/219 [==============================] - 9s 41ms/step - loss: 0.0304 - last_time_step_mse: 0.0177 - val_loss: 0.0287 - val_last_time_step_mse: 0.0157\n",
            "Epoch 20/20\n",
            "219/219 [==============================] - 9s 41ms/step - loss: 0.0287 - last_time_step_mse: 0.0161 - val_loss: 0.0279 - val_last_time_step_mse: 0.0145\n"
          ],
          "name": "stdout"
        }
      ]
    },
    {
      "cell_type": "code",
      "metadata": {
        "colab": {
          "base_uri": "https://localhost:8080/"
        },
        "id": "j1bQLvO7DBW6",
        "outputId": "3ea12a9e-1faa-4486-ccae-6cfa36a5853d"
      },
      "source": [
        "model.summary()"
      ],
      "execution_count": null,
      "outputs": [
        {
          "output_type": "stream",
          "text": [
            "Model: \"sequential_2\"\n",
            "_________________________________________________________________\n",
            "Layer (type)                 Output Shape              Param #   \n",
            "=================================================================\n",
            "rnn_4 (RNN)                  (None, None, 20)          480       \n",
            "_________________________________________________________________\n",
            "rnn_5 (RNN)                  (None, None, 20)          860       \n",
            "_________________________________________________________________\n",
            "time_distributed_2 (TimeDist (None, None, 10)          210       \n",
            "=================================================================\n",
            "Total params: 1,550\n",
            "Trainable params: 1,550\n",
            "Non-trainable params: 0\n",
            "_________________________________________________________________\n"
          ],
          "name": "stdout"
        }
      ]
    },
    {
      "cell_type": "code",
      "metadata": {
        "id": "aeem2xv4EBbH"
      },
      "source": [
        "series = generate_time_series(1, 50 + 10)\n",
        "X_new, Y_new = series[:, :50, :], series[:, 50:, :]\n",
        "Y_pred = model.predict(X_new)[:, -1][..., np.newaxis]"
      ],
      "execution_count": null,
      "outputs": []
    },
    {
      "cell_type": "code",
      "metadata": {
        "colab": {
          "base_uri": "https://localhost:8080/",
          "height": 288
        },
        "id": "Ny4L_L2DEEmG",
        "outputId": "8ab8b6c6-a49a-4857-8209-46a795bb627e"
      },
      "source": [
        "def plot_multiple_forecasts(X, Y, Y_pred):\n",
        "    n_steps = X.shape[1]\n",
        "    ahead = Y.shape[1]\n",
        "    plot_series(X[0, :, 0])\n",
        "    plt.plot(np.arange(n_steps, n_steps + ahead), Y[0, :, 0], \"ro-\", label=\"Actual\")\n",
        "    plt.plot(np.arange(n_steps, n_steps + ahead), Y_pred[0, :, 0], \"bx-\", label=\"Forecast\", markersize=10)\n",
        "    plt.axis([0, n_steps + ahead, -1, 1])\n",
        "    plt.legend(fontsize=14)\n",
        "plot_multiple_forecasts(X_new, Y_new, Y_pred)\n",
        "plt.show()"
      ],
      "execution_count": null,
      "outputs": [
        {
          "output_type": "display_data",
          "data": {
            "image/png": "[encoded data removed]",
            "text/plain": [
              "<Figure size 432x288 with 1 Axes>"
            ]
          },
          "metadata": {
            "tags": [],
            "needs_background": "light"
          }
        }
      ]
    },
    {
      "cell_type": "markdown",
      "metadata": {
        "id": "6Mm_RvhXDA_J"
      },
      "source": [
        "## 단기기억 문제\n",
        "어느정도 시간이 지나면 RNN의 상태는 사실상 첫 번재 입력의 흔적을 가지고 있지 않다.  \n",
        "장기 메모리를 가진 여러 종류의 셀이 연구됐었다.  \n"
      ]
    },
    {
      "cell_type": "markdown",
      "metadata": {
        "id": "4s3WyMHNFA-g"
      },
      "source": [
        "### LSTM셀\n",
        "LSTM(Long sohrt term memory)  \n",
        "훈련이 빠르게 수렴하고 데이터에 있는 장기간의 의존성을 감지할 것이다.  \n"
      ]
    },
    {
      "cell_type": "markdown",
      "metadata": {
        "id": "hwXAVvLdTdVG"
      },
      "source": [
        "아이디어는 네트워크가 장기 상태에 저장할 것, 버릴것, 읽어들일 것을 학습하는 것이다.  \n"
      ]
    },
    {
      "cell_type": "markdown",
      "metadata": {
        "id": "grrOixi2057S"
      },
      "source": [
        "LSTM셀은 중요한 입력을 인식하고(입력게이트역할), 장기 상태에 저장하고, 필요한 기간 동안 이를 보존하고(삭제게이트의 역할), 필요할 대마다 이를 추출하기 위해 학습한다.  \n",
        "LSTM셀은 시계열, 긴 텍스트, 오디오녹음 등에서 장기 패턴을 잡아내는데 놀라운 성과를 낸다  \n"
      ]
    },
    {
      "cell_type": "code",
      "metadata": {
        "id": "OwiL3KlP0FQx"
      },
      "source": [
        "# 예측과 평가용으로 마지막 타임스텝의 출력만 사용해 평가\n",
        "def last_time_step_mse(Y_true, Y_pred):\n",
        "    return keras.metrics.mean_squared_error(Y_true[:, -1], Y_pred[:, -1])"
      ],
      "execution_count": null,
      "outputs": []
    },
    {
      "cell_type": "code",
      "metadata": {
        "colab": {
          "base_uri": "https://localhost:8080/"
        },
        "id": "LQwlfO5uFb6Y",
        "outputId": "bad24730-1f85-4482-ab91-c8e8e660fcaf"
      },
      "source": [
        "model = keras.models.Sequential([\n",
        "    keras.layers.LSTM(20, return_sequences=True, input_shape=[None, 1]),\n",
        "    keras.layers.LSTM(20, return_sequences=True),\n",
        "    keras.layers.TimeDistributed(keras.layers.Dense(10))\n",
        "])\n",
        "\n",
        "model.compile(loss=\"mse\", optimizer=\"adam\", metrics=[last_time_step_mse])\n",
        "history = model.fit(X_train, Y_train, epochs=20,\n",
        "                    validation_data=(X_valid, Y_valid))"
      ],
      "execution_count": null,
      "outputs": [
        {
          "output_type": "stream",
          "text": [
            "Epoch 1/20\n",
            "219/219 [==============================] - 11s 37ms/step - loss: 0.0989 - last_time_step_mse: 0.0895 - val_loss: 0.0528 - val_last_time_step_mse: 0.0325\n",
            "Epoch 2/20\n",
            "219/219 [==============================] - 7s 32ms/step - loss: 0.0496 - last_time_step_mse: 0.0295 - val_loss: 0.0396 - val_last_time_step_mse: 0.0181\n",
            "Epoch 3/20\n",
            "219/219 [==============================] - 7s 32ms/step - loss: 0.0383 - last_time_step_mse: 0.0171 - val_loss: 0.0351 - val_last_time_step_mse: 0.0165\n",
            "Epoch 4/20\n",
            "219/219 [==============================] - 7s 32ms/step - loss: 0.0338 - last_time_step_mse: 0.0150 - val_loss: 0.0314 - val_last_time_step_mse: 0.0135\n",
            "Epoch 5/20\n",
            "219/219 [==============================] - 7s 32ms/step - loss: 0.0313 - last_time_step_mse: 0.0132 - val_loss: 0.0297 - val_last_time_step_mse: 0.0120\n",
            "Epoch 6/20\n",
            "219/219 [==============================] - 7s 32ms/step - loss: 0.0297 - last_time_step_mse: 0.0122 - val_loss: 0.0288 - val_last_time_step_mse: 0.0123\n",
            "Epoch 7/20\n",
            "219/219 [==============================] - 7s 32ms/step - loss: 0.0284 - last_time_step_mse: 0.0114 - val_loss: 0.0276 - val_last_time_step_mse: 0.0111\n",
            "Epoch 8/20\n",
            "219/219 [==============================] - 7s 31ms/step - loss: 0.0273 - last_time_step_mse: 0.0107 - val_loss: 0.0271 - val_last_time_step_mse: 0.0107\n",
            "Epoch 9/20\n",
            "219/219 [==============================] - 7s 32ms/step - loss: 0.0269 - last_time_step_mse: 0.0108 - val_loss: 0.0265 - val_last_time_step_mse: 0.0105\n",
            "Epoch 10/20\n",
            "219/219 [==============================] - 7s 32ms/step - loss: 0.0264 - last_time_step_mse: 0.0103 - val_loss: 0.0259 - val_last_time_step_mse: 0.0098\n",
            "Epoch 11/20\n",
            "219/219 [==============================] - 7s 32ms/step - loss: 0.0260 - last_time_step_mse: 0.0102 - val_loss: 0.0256 - val_last_time_step_mse: 0.0100\n",
            "Epoch 12/20\n",
            "219/219 [==============================] - 7s 32ms/step - loss: 0.0255 - last_time_step_mse: 0.0100 - val_loss: 0.0252 - val_last_time_step_mse: 0.0097\n",
            "Epoch 13/20\n",
            "219/219 [==============================] - 7s 32ms/step - loss: 0.0254 - last_time_step_mse: 0.0095 - val_loss: 0.0249 - val_last_time_step_mse: 0.0094\n",
            "Epoch 14/20\n",
            "219/219 [==============================] - 7s 32ms/step - loss: 0.0251 - last_time_step_mse: 0.0094 - val_loss: 0.0254 - val_last_time_step_mse: 0.0111\n",
            "Epoch 15/20\n",
            "219/219 [==============================] - 7s 31ms/step - loss: 0.0247 - last_time_step_mse: 0.0097 - val_loss: 0.0245 - val_last_time_step_mse: 0.0100\n",
            "Epoch 16/20\n",
            "219/219 [==============================] - 7s 32ms/step - loss: 0.0245 - last_time_step_mse: 0.0091 - val_loss: 0.0241 - val_last_time_step_mse: 0.0094\n",
            "Epoch 17/20\n",
            "219/219 [==============================] - 7s 32ms/step - loss: 0.0240 - last_time_step_mse: 0.0089 - val_loss: 0.0239 - val_last_time_step_mse: 0.0092\n",
            "Epoch 18/20\n",
            "219/219 [==============================] - 7s 32ms/step - loss: 0.0237 - last_time_step_mse: 0.0090 - val_loss: 0.0234 - val_last_time_step_mse: 0.0085\n",
            "Epoch 19/20\n",
            "219/219 [==============================] - 7s 32ms/step - loss: 0.0233 - last_time_step_mse: 0.0085 - val_loss: 0.0232 - val_last_time_step_mse: 0.0086\n",
            "Epoch 20/20\n",
            "219/219 [==============================] - 7s 32ms/step - loss: 0.0230 - last_time_step_mse: 0.0084 - val_loss: 0.0232 - val_last_time_step_mse: 0.0087\n"
          ],
          "name": "stdout"
        }
      ]
    },
    {
      "cell_type": "code",
      "metadata": {
        "colab": {
          "base_uri": "https://localhost:8080/"
        },
        "id": "CwEZ4V1Az3r3",
        "outputId": "8afbb84a-7ea8-4829-8eda-39d8d368369d"
      },
      "source": [
        "model.summary()"
      ],
      "execution_count": null,
      "outputs": [
        {
          "output_type": "stream",
          "text": [
            "Model: \"sequential_3\"\n",
            "_________________________________________________________________\n",
            "Layer (type)                 Output Shape              Param #   \n",
            "=================================================================\n",
            "lstm_2 (LSTM)                (None, None, 20)          1760      \n",
            "_________________________________________________________________\n",
            "lstm_3 (LSTM)                (None, None, 20)          3280      \n",
            "_________________________________________________________________\n",
            "time_distributed_1 (TimeDist (None, None, 10)          210       \n",
            "=================================================================\n",
            "Total params: 5,250\n",
            "Trainable params: 5,250\n",
            "Non-trainable params: 0\n",
            "_________________________________________________________________\n"
          ],
          "name": "stdout"
        }
      ]
    },
    {
      "cell_type": "code",
      "metadata": {
        "colab": {
          "base_uri": "https://localhost:8080/"
        },
        "id": "fg1m8viC2KCb",
        "outputId": "5442735d-77be-445e-edc8-3b35bede17dc"
      },
      "source": [
        "model.evaluate(X_valid, Y_valid)"
      ],
      "execution_count": null,
      "outputs": [
        {
          "output_type": "stream",
          "text": [
            "63/63 [==============================] - 0s 6ms/step - loss: 0.0232 - last_time_step_mse: 0.0087\n"
          ],
          "name": "stdout"
        },
        {
          "output_type": "execute_result",
          "data": {
            "text/plain": [
              "[0.02324882335960865, 0.00868389755487442]"
            ]
          },
          "metadata": {
            "tags": []
          },
          "execution_count": 16
        }
      ]
    },
    {
      "cell_type": "code",
      "metadata": {
        "colab": {
          "base_uri": "https://localhost:8080/",
          "height": 283
        },
        "id": "HvHAoT4n2kth",
        "outputId": "f7790344-0139-4bbd-e2fa-977bd9ec05e6"
      },
      "source": [
        "def plot_learning_curves(loss, val_loss):\n",
        "    plt.plot(np.arange(len(loss)) + 0.5, loss, \"b.-\", label=\"Training loss\")\n",
        "    plt.plot(np.arange(len(val_loss)) + 1, val_loss, \"r.-\", label=\"Validation loss\")\n",
        "    plt.gca().xaxis.set_major_locator(mpl.ticker.MaxNLocator(integer=True))\n",
        "    plt.axis([1, 20, 0, 0.05])\n",
        "    plt.legend(fontsize=14)\n",
        "    plt.xlabel(\"Epochs\")\n",
        "    plt.ylabel(\"Loss\")\n",
        "    plt.grid(True)\n",
        "plot_learning_curves(history.history[\"loss\"], history.history[\"val_loss\"])\n",
        "plt.show()"
      ],
      "execution_count": null,
      "outputs": [
        {
          "output_type": "display_data",
          "data": {
            "image/png": "[encoded data removed]",
            "text/plain": [
              "<Figure size 432x288 with 1 Axes>"
            ]
          },
          "metadata": {
            "tags": [],
            "needs_background": "light"
          }
        }
      ]
    },
    {
      "cell_type": "code",
      "metadata": {
        "colab": {
          "base_uri": "https://localhost:8080/",
          "height": 288
        },
        "id": "TYDNKbeD2q3p",
        "outputId": "b87f95cd-4e73-44d9-b5b0-986a31a82d46"
      },
      "source": [
        "series = generate_time_series(1, 50 + 10)\n",
        "X_new, Y_new = series[:, :50, :], series[:, 50:, :]\n",
        "Y_pred = model.predict(X_new)[:, -1][..., np.newaxis]\n",
        "\n",
        "plot_multiple_forecasts(X_new, Y_new, Y_pred)\n",
        "plt.show()"
      ],
      "execution_count": null,
      "outputs": [
        {
          "output_type": "display_data",
          "data": {
            "image/png": "[encoded data removed]",
            "text/plain": [
              "<Figure size 432x288 with 1 Axes>"
            ]
          },
          "metadata": {
            "tags": [],
            "needs_background": "light"
          }
        }
      ]
    },
    {
      "cell_type": "markdown",
      "metadata": {
        "id": "R8WFsjWG05rN"
      },
      "source": [
        "### GRU 셀\n",
        "게이트순환유닛(gated recurrent unit)"
      ]
    },
    {
      "cell_type": "markdown",
      "metadata": {
        "id": "wpRIdvUM3pvo"
      },
      "source": [
        "LSTM의 간소화된 버전이고 유사하게 작동한다."
      ]
    },
    {
      "cell_type": "code",
      "metadata": {
        "colab": {
          "base_uri": "https://localhost:8080/"
        },
        "id": "p7P9fmXZ45ab",
        "outputId": "04d68511-7a2c-4893-f799-b426cf5fa605"
      },
      "source": [
        "model = keras.models.Sequential([\n",
        "    keras.layers.GRU(20, return_sequences=True, input_shape=[None, 1]),\n",
        "    keras.layers.GRU(20, return_sequences=True),\n",
        "    keras.layers.TimeDistributed(keras.layers.Dense(10))\n",
        "])\n",
        "\n",
        "model.compile(loss=\"mse\", optimizer=\"adam\", metrics=[last_time_step_mse])\n",
        "history = model.fit(X_train, Y_train, epochs=20,\n",
        "                    validation_data=(X_valid, Y_valid))"
      ],
      "execution_count": null,
      "outputs": [
        {
          "output_type": "stream",
          "text": [
            "Epoch 1/20\n",
            "219/219 [==============================] - 12s 39ms/step - loss: 0.0997 - last_time_step_mse: 0.0958 - val_loss: 0.0523 - val_last_time_step_mse: 0.0414\n",
            "Epoch 2/20\n",
            "219/219 [==============================] - 8s 36ms/step - loss: 0.0499 - last_time_step_mse: 0.0398 - val_loss: 0.0429 - val_last_time_step_mse: 0.0318\n",
            "Epoch 3/20\n",
            "219/219 [==============================] - 8s 36ms/step - loss: 0.0425 - last_time_step_mse: 0.0317 - val_loss: 0.0391 - val_last_time_step_mse: 0.0276\n",
            "Epoch 4/20\n",
            "219/219 [==============================] - 8s 35ms/step - loss: 0.0392 - last_time_step_mse: 0.0272 - val_loss: 0.0352 - val_last_time_step_mse: 0.0214\n",
            "Epoch 5/20\n",
            "219/219 [==============================] - 8s 35ms/step - loss: 0.0348 - last_time_step_mse: 0.0207 - val_loss: 0.0321 - val_last_time_step_mse: 0.0172\n",
            "Epoch 6/20\n",
            "219/219 [==============================] - 8s 36ms/step - loss: 0.0319 - last_time_step_mse: 0.0169 - val_loss: 0.0297 - val_last_time_step_mse: 0.0146\n",
            "Epoch 7/20\n",
            "219/219 [==============================] - 8s 35ms/step - loss: 0.0299 - last_time_step_mse: 0.0150 - val_loss: 0.0284 - val_last_time_step_mse: 0.0139\n",
            "Epoch 8/20\n",
            "219/219 [==============================] - 8s 35ms/step - loss: 0.0285 - last_time_step_mse: 0.0138 - val_loss: 0.0273 - val_last_time_step_mse: 0.0128\n",
            "Epoch 9/20\n",
            "219/219 [==============================] - 8s 35ms/step - loss: 0.0274 - last_time_step_mse: 0.0129 - val_loss: 0.0266 - val_last_time_step_mse: 0.0123\n",
            "Epoch 10/20\n",
            "219/219 [==============================] - 8s 35ms/step - loss: 0.0270 - last_time_step_mse: 0.0126 - val_loss: 0.0259 - val_last_time_step_mse: 0.0117\n",
            "Epoch 11/20\n",
            "219/219 [==============================] - 8s 35ms/step - loss: 0.0262 - last_time_step_mse: 0.0120 - val_loss: 0.0259 - val_last_time_step_mse: 0.0122\n",
            "Epoch 12/20\n",
            "219/219 [==============================] - 8s 35ms/step - loss: 0.0257 - last_time_step_mse: 0.0120 - val_loss: 0.0250 - val_last_time_step_mse: 0.0112\n",
            "Epoch 13/20\n",
            "219/219 [==============================] - 8s 35ms/step - loss: 0.0253 - last_time_step_mse: 0.0118 - val_loss: 0.0248 - val_last_time_step_mse: 0.0113\n",
            "Epoch 14/20\n",
            "219/219 [==============================] - 8s 36ms/step - loss: 0.0250 - last_time_step_mse: 0.0113 - val_loss: 0.0244 - val_last_time_step_mse: 0.0110\n",
            "Epoch 15/20\n",
            "219/219 [==============================] - 8s 36ms/step - loss: 0.0245 - last_time_step_mse: 0.0109 - val_loss: 0.0244 - val_last_time_step_mse: 0.0113\n",
            "Epoch 16/20\n",
            "219/219 [==============================] - 8s 35ms/step - loss: 0.0244 - last_time_step_mse: 0.0110 - val_loss: 0.0242 - val_last_time_step_mse: 0.0111\n",
            "Epoch 17/20\n",
            "219/219 [==============================] - 8s 36ms/step - loss: 0.0241 - last_time_step_mse: 0.0108 - val_loss: 0.0236 - val_last_time_step_mse: 0.0103\n",
            "Epoch 18/20\n",
            "219/219 [==============================] - 8s 36ms/step - loss: 0.0240 - last_time_step_mse: 0.0105 - val_loss: 0.0236 - val_last_time_step_mse: 0.0105\n",
            "Epoch 19/20\n",
            "219/219 [==============================] - 8s 36ms/step - loss: 0.0237 - last_time_step_mse: 0.0103 - val_loss: 0.0235 - val_last_time_step_mse: 0.0104\n",
            "Epoch 20/20\n",
            "219/219 [==============================] - 8s 36ms/step - loss: 0.0237 - last_time_step_mse: 0.0102 - val_loss: 0.0231 - val_last_time_step_mse: 0.0101\n"
          ],
          "name": "stdout"
        }
      ]
    },
    {
      "cell_type": "code",
      "metadata": {
        "colab": {
          "base_uri": "https://localhost:8080/"
        },
        "id": "xW0Fx4Q25AgJ",
        "outputId": "827199ab-8743-43df-dfc1-f55a0c5355f8"
      },
      "source": [
        "model.summary()"
      ],
      "execution_count": null,
      "outputs": [
        {
          "output_type": "stream",
          "text": [
            "Model: \"sequential_5\"\n",
            "_________________________________________________________________\n",
            "Layer (type)                 Output Shape              Param #   \n",
            "=================================================================\n",
            "gru (GRU)                    (None, None, 20)          1380      \n",
            "_________________________________________________________________\n",
            "gru_1 (GRU)                  (None, None, 20)          2520      \n",
            "_________________________________________________________________\n",
            "time_distributed_3 (TimeDist (None, None, 10)          210       \n",
            "=================================================================\n",
            "Total params: 4,110\n",
            "Trainable params: 4,110\n",
            "Non-trainable params: 0\n",
            "_________________________________________________________________\n"
          ],
          "name": "stdout"
        }
      ]
    },
    {
      "cell_type": "code",
      "metadata": {
        "colab": {
          "base_uri": "https://localhost:8080/"
        },
        "id": "E4GqnbcD5DWY",
        "outputId": "67544a68-1582-40f9-9a5a-46c5ef807f09"
      },
      "source": [
        "model.evaluate(X_valid,Y_valid)"
      ],
      "execution_count": null,
      "outputs": [
        {
          "output_type": "stream",
          "text": [
            "63/63 [==============================] - 0s 7ms/step - loss: 0.0231 - last_time_step_mse: 0.0101\n"
          ],
          "name": "stdout"
        },
        {
          "output_type": "execute_result",
          "data": {
            "text/plain": [
              "[0.02314426377415657, 0.010082338005304337]"
            ]
          },
          "metadata": {
            "tags": []
          },
          "execution_count": 22
        }
      ]
    },
    {
      "cell_type": "code",
      "metadata": {
        "colab": {
          "base_uri": "https://localhost:8080/",
          "height": 283
        },
        "id": "VErtRFI35Hci",
        "outputId": "cca5717e-d86c-4428-d2ef-776ad6a8879e"
      },
      "source": [
        "plot_learning_curves(history.history['loss'], history.history['val_loss'])\n",
        "plt.show()"
      ],
      "execution_count": null,
      "outputs": [
        {
          "output_type": "display_data",
          "data": {
            "image/png": "[encoded data removed]",
            "text/plain": [
              "<Figure size 432x288 with 1 Axes>"
            ]
          },
          "metadata": {
            "tags": [],
            "needs_background": "light"
          }
        }
      ]
    },
    {
      "cell_type": "code",
      "metadata": {
        "colab": {
          "base_uri": "https://localhost:8080/",
          "height": 288
        },
        "id": "iwsKocEH5Ruf",
        "outputId": "8dd7ef53-fa14-4d94-927b-9f637689ed12"
      },
      "source": [
        "series = generate_time_series(1, 50 + 10)\n",
        "X_new, Y_new = series[:, :50, :], series[:, 50:, :]\n",
        "Y_pred = model.predict(X_new)[:, -1][..., np.newaxis]\n",
        "\n",
        "plot_multiple_forecasts(X_new, Y_new, Y_pred)\n",
        "plt.show()"
      ],
      "execution_count": null,
      "outputs": [
        {
          "output_type": "display_data",
          "data": {
            "image/png": "[encoded data removed]",
            "text/plain": [
              "<Figure size 432x288 with 1 Axes>"
            ]
          },
          "metadata": {
            "tags": [],
            "needs_background": "light"
          }
        }
      ]
    },
    {
      "cell_type": "markdown",
      "metadata": {
        "id": "ITwG4cBK52Ef"
      },
      "source": [
        "### 1D 합성곱층을 사용해 시퀀스 처리하기\n",
        "1D합성곱 층이 몇개의 커널을 시퀀스 위를 슬라이딩하여 커널마다 1D 특성맵을 출력한다.  \n",
        "각 커널은 매우 짧은 하나의 순차 패턴을 감지하도록 학습된다."
      ]
    },
    {
      "cell_type": "markdown",
      "metadata": {
        "id": "XgvUHvuw-t3G"
      },
      "source": [
        "모델이 중요하지 않은 세부 사항은 버리고 유용한 정보를 보전하도록 학습할 수 있다.   \n",
        "\n",
        "합성곱층으로 시퀀스 길이를 줄이면 GRU층이 더 긴 패턴을 감지하는데 도움이 된다."
      ]
    },
    {
      "cell_type": "markdown",
      "metadata": {
        "id": "-JmMOb70_R6c"
      },
      "source": [
        "\n",
        "1D conv layer with kernel size 4, stride 2, VALID padding:  \n",
        "```\n",
        "              |-----2-----|     |-----5---...------|     |-----23----|  \n",
        "        |-----1-----|     |-----4-----|   ...      |-----22----|  \n",
        "  |-----0----|      |-----3-----|     |---...|-----21----|  \n",
        "```\n",
        "X: 0  1  2  3  4  5  6  7  8  9  10 11 12 ... 42 43 44 45 46 47 48 49  \n",
        "Y: 1  2  3  4  5  6  7  8  9  10 11 12 13 ... 43 44 45 46 47 48 49 50  \n",
        "  /10 11 12 13 14 15 16 17 18 19 20 21 22 ... 52 53 54 55 56 57 58 59  \n",
        "\n",
        "Output:\n",
        "\n",
        "X:     0/3   2/5   4/7   6/9   8/11 10/13 .../43 42/45 44/47 46/49  \n",
        "Y:     4/13  6/15  8/17 10/19 12/21 14/23 .../53 46/55 48/57 50/59   "
      ]
    },
    {
      "cell_type": "code",
      "metadata": {
        "colab": {
          "base_uri": "https://localhost:8080/"
        },
        "id": "4G2EsyRJ_VrG",
        "outputId": "c41088cc-9400-45b2-8ee3-2f00d32c0336"
      },
      "source": [
        "model = keras.models.Sequential([\n",
        "    keras.layers.Conv1D(filters=20, kernel_size=4, strides=2, padding=\"valid\",\n",
        "                        input_shape=[None, 1]),\n",
        "    keras.layers.GRU(20, return_sequences=True),\n",
        "    keras.layers.GRU(20, return_sequences=True),\n",
        "    keras.layers.TimeDistributed(keras.layers.Dense(10))\n",
        "])\n",
        "\n",
        "model.compile(loss=\"mse\", optimizer=\"adam\", metrics=[last_time_step_mse])\n",
        "history = model.fit(X_train, Y_train[:, 3::2], epochs=20,\n",
        "                    validation_data=(X_valid, Y_valid[:, 3::2]))"
      ],
      "execution_count": null,
      "outputs": [
        {
          "output_type": "stream",
          "text": [
            "Epoch 1/20\n",
            "219/219 [==============================] - 8s 23ms/step - loss: 0.0927 - last_time_step_mse: 0.0870 - val_loss: 0.0462 - val_last_time_step_mse: 0.0375\n",
            "Epoch 2/20\n",
            "219/219 [==============================] - 4s 19ms/step - loss: 0.0438 - last_time_step_mse: 0.0369 - val_loss: 0.0363 - val_last_time_step_mse: 0.0303\n",
            "Epoch 3/20\n",
            "219/219 [==============================] - 4s 20ms/step - loss: 0.0343 - last_time_step_mse: 0.0272 - val_loss: 0.0292 - val_last_time_step_mse: 0.0202\n",
            "Epoch 4/20\n",
            "219/219 [==============================] - 4s 20ms/step - loss: 0.0283 - last_time_step_mse: 0.0191 - val_loss: 0.0255 - val_last_time_step_mse: 0.0148\n",
            "Epoch 5/20\n",
            "219/219 [==============================] - 4s 20ms/step - loss: 0.0249 - last_time_step_mse: 0.0144 - val_loss: 0.0237 - val_last_time_step_mse: 0.0127\n",
            "Epoch 6/20\n",
            "219/219 [==============================] - 4s 20ms/step - loss: 0.0235 - last_time_step_mse: 0.0130 - val_loss: 0.0225 - val_last_time_step_mse: 0.0114\n",
            "Epoch 7/20\n",
            "219/219 [==============================] - 4s 19ms/step - loss: 0.0227 - last_time_step_mse: 0.0118 - val_loss: 0.0221 - val_last_time_step_mse: 0.0112\n",
            "Epoch 8/20\n",
            "219/219 [==============================] - 4s 20ms/step - loss: 0.0219 - last_time_step_mse: 0.0113 - val_loss: 0.0216 - val_last_time_step_mse: 0.0107\n",
            "Epoch 9/20\n",
            "219/219 [==============================] - 4s 20ms/step - loss: 0.0217 - last_time_step_mse: 0.0111 - val_loss: 0.0213 - val_last_time_step_mse: 0.0106\n",
            "Epoch 10/20\n",
            "219/219 [==============================] - 4s 20ms/step - loss: 0.0213 - last_time_step_mse: 0.0107 - val_loss: 0.0206 - val_last_time_step_mse: 0.0098\n",
            "Epoch 11/20\n",
            "219/219 [==============================] - 4s 20ms/step - loss: 0.0208 - last_time_step_mse: 0.0100 - val_loss: 0.0204 - val_last_time_step_mse: 0.0101\n",
            "Epoch 12/20\n",
            "219/219 [==============================] - 4s 20ms/step - loss: 0.0206 - last_time_step_mse: 0.0101 - val_loss: 0.0200 - val_last_time_step_mse: 0.0095\n",
            "Epoch 13/20\n",
            "219/219 [==============================] - 4s 20ms/step - loss: 0.0203 - last_time_step_mse: 0.0098 - val_loss: 0.0200 - val_last_time_step_mse: 0.0096\n",
            "Epoch 14/20\n",
            "219/219 [==============================] - 4s 19ms/step - loss: 0.0201 - last_time_step_mse: 0.0097 - val_loss: 0.0196 - val_last_time_step_mse: 0.0092\n",
            "Epoch 15/20\n",
            "219/219 [==============================] - 4s 20ms/step - loss: 0.0198 - last_time_step_mse: 0.0092 - val_loss: 0.0193 - val_last_time_step_mse: 0.0089\n",
            "Epoch 16/20\n",
            "219/219 [==============================] - 4s 20ms/step - loss: 0.0196 - last_time_step_mse: 0.0092 - val_loss: 0.0193 - val_last_time_step_mse: 0.0092\n",
            "Epoch 17/20\n",
            "219/219 [==============================] - 4s 20ms/step - loss: 0.0194 - last_time_step_mse: 0.0090 - val_loss: 0.0193 - val_last_time_step_mse: 0.0094\n",
            "Epoch 18/20\n",
            "219/219 [==============================] - 4s 19ms/step - loss: 0.0192 - last_time_step_mse: 0.0089 - val_loss: 0.0190 - val_last_time_step_mse: 0.0088\n",
            "Epoch 19/20\n",
            "219/219 [==============================] - 4s 19ms/step - loss: 0.0193 - last_time_step_mse: 0.0088 - val_loss: 0.0186 - val_last_time_step_mse: 0.0084\n",
            "Epoch 20/20\n",
            "219/219 [==============================] - 4s 20ms/step - loss: 0.0188 - last_time_step_mse: 0.0086 - val_loss: 0.0185 - val_last_time_step_mse: 0.0084\n"
          ],
          "name": "stdout"
        }
      ]
    },
    {
      "cell_type": "code",
      "metadata": {
        "colab": {
          "base_uri": "https://localhost:8080/"
        },
        "id": "93gc2OyUAQXl",
        "outputId": "65461c9e-0dbc-4d2d-825f-9e50979b88ea"
      },
      "source": [
        "model.summary()"
      ],
      "execution_count": null,
      "outputs": [
        {
          "output_type": "stream",
          "text": [
            "Model: \"sequential_6\"\n",
            "_________________________________________________________________\n",
            "Layer (type)                 Output Shape              Param #   \n",
            "=================================================================\n",
            "conv1d (Conv1D)              (None, None, 20)          100       \n",
            "_________________________________________________________________\n",
            "gru_2 (GRU)                  (None, None, 20)          2520      \n",
            "_________________________________________________________________\n",
            "gru_3 (GRU)                  (None, None, 20)          2520      \n",
            "_________________________________________________________________\n",
            "time_distributed_4 (TimeDist (None, None, 10)          210       \n",
            "=================================================================\n",
            "Total params: 5,350\n",
            "Trainable params: 5,350\n",
            "Non-trainable params: 0\n",
            "_________________________________________________________________\n"
          ],
          "name": "stdout"
        }
      ]
    },
    {
      "cell_type": "code",
      "metadata": {
        "colab": {
          "base_uri": "https://localhost:8080/"
        },
        "id": "Q05fctYFASMn",
        "outputId": "abd2afc4-75e3-48f2-e413-75d785920e3f"
      },
      "source": [
        "model.evaluate(X_valid,Y_valid[:,3::2])"
      ],
      "execution_count": null,
      "outputs": [
        {
          "output_type": "stream",
          "text": [
            "63/63 [==============================] - 0s 4ms/step - loss: 0.0185 - last_time_step_mse: 0.0084\n"
          ],
          "name": "stdout"
        },
        {
          "output_type": "execute_result",
          "data": {
            "text/plain": [
              "[0.018489530310034752, 0.008405816741287708]"
            ]
          },
          "metadata": {
            "tags": []
          },
          "execution_count": 28
        }
      ]
    },
    {
      "cell_type": "markdown",
      "metadata": {
        "id": "RHASBX-3BBB_"
      },
      "source": [
        "## wavenet  \n",
        "이 네트워크는 층마다 팽창비율을 두배로 눌리는 1D 합성곱 층을 쌓았다.  \n",
        "\n",
        "첫번째 합성곱층이 한번에 2개의 타임스텝만 바라본다.  \n",
        "다음 층은 4개의 타임스텝을 보고  \n",
        "다음은 8개의 타임스텝을 보는 식이다.  \n",
        "\n",
        "이런식으로 하위층은 단기 패턴으 학습하고 상위층은 장기패턴을 학습한다.  "
      ]
    },
    {
      "cell_type": "code",
      "metadata": {
        "colab": {
          "base_uri": "https://localhost:8080/"
        },
        "id": "0WWWAU7ZHwGI",
        "outputId": "861e2a8e-e7af-4af5-bc04-2fdeb75d9546"
      },
      "source": [
        "\n",
        "model = keras.models.Sequential()\n",
        "model.add(keras.layers.InputLayer(input_shape=[None, 1]))\n",
        "# causal 패딩사용 -> 미래의 시퀀스 누수 막는다. 팽창비율 1,2,4,8 층 * 2\n",
        "# 패딩 덕분에 모든 합성곱층은 입력시퀀스의 길이와 동일한 시퀀스를 출력한다\n",
        "for rate in (1, 2, 4, 8) * 2:\n",
        "    model.add(keras.layers.Conv1D(filters=20, kernel_size=2, padding=\"causal\",\n",
        "                                  activation=\"relu\", dilation_rate=rate))\n",
        "model.add(keras.layers.Conv1D(filters=10, kernel_size=1))# 출력에 conv층 사용\n",
        "model.compile(loss=\"mse\", optimizer=\"adam\", metrics=[last_time_step_mse])\n",
        "history = model.fit(X_train, Y_train, epochs=20,\n",
        "                    validation_data=(X_valid, Y_valid))"
      ],
      "execution_count": null,
      "outputs": [
        {
          "output_type": "stream",
          "text": [
            "Epoch 1/20\n",
            "219/219 [==============================] - 4s 13ms/step - loss: 0.1010 - last_time_step_mse: 0.0938 - val_loss: 0.0379 - val_last_time_step_mse: 0.0234\n",
            "Epoch 2/20\n",
            "219/219 [==============================] - 3s 12ms/step - loss: 0.0356 - last_time_step_mse: 0.0213 - val_loss: 0.0304 - val_last_time_step_mse: 0.0167\n",
            "Epoch 3/20\n",
            "219/219 [==============================] - 3s 12ms/step - loss: 0.0301 - last_time_step_mse: 0.0163 - val_loss: 0.0277 - val_last_time_step_mse: 0.0139\n",
            "Epoch 4/20\n",
            "219/219 [==============================] - 3s 12ms/step - loss: 0.0277 - last_time_step_mse: 0.0141 - val_loss: 0.0268 - val_last_time_step_mse: 0.0132\n",
            "Epoch 5/20\n",
            "219/219 [==============================] - 3s 12ms/step - loss: 0.0265 - last_time_step_mse: 0.0131 - val_loss: 0.0258 - val_last_time_step_mse: 0.0129\n",
            "Epoch 6/20\n",
            "219/219 [==============================] - 3s 12ms/step - loss: 0.0254 - last_time_step_mse: 0.0123 - val_loss: 0.0242 - val_last_time_step_mse: 0.0111\n",
            "Epoch 7/20\n",
            "219/219 [==============================] - 3s 12ms/step - loss: 0.0244 - last_time_step_mse: 0.0112 - val_loss: 0.0235 - val_last_time_step_mse: 0.0105\n",
            "Epoch 8/20\n",
            "219/219 [==============================] - 3s 12ms/step - loss: 0.0240 - last_time_step_mse: 0.0111 - val_loss: 0.0226 - val_last_time_step_mse: 0.0098\n",
            "Epoch 9/20\n",
            "219/219 [==============================] - 3s 12ms/step - loss: 0.0225 - last_time_step_mse: 0.0098 - val_loss: 0.0220 - val_last_time_step_mse: 0.0095\n",
            "Epoch 10/20\n",
            "219/219 [==============================] - 3s 12ms/step - loss: 0.0217 - last_time_step_mse: 0.0094 - val_loss: 0.0212 - val_last_time_step_mse: 0.0084\n",
            "Epoch 11/20\n",
            "219/219 [==============================] - 3s 12ms/step - loss: 0.0214 - last_time_step_mse: 0.0089 - val_loss: 0.0209 - val_last_time_step_mse: 0.0086\n",
            "Epoch 12/20\n",
            "219/219 [==============================] - 3s 12ms/step - loss: 0.0210 - last_time_step_mse: 0.0084 - val_loss: 0.0211 - val_last_time_step_mse: 0.0088\n",
            "Epoch 13/20\n",
            "219/219 [==============================] - 3s 12ms/step - loss: 0.0207 - last_time_step_mse: 0.0081 - val_loss: 0.0208 - val_last_time_step_mse: 0.0085\n",
            "Epoch 14/20\n",
            "219/219 [==============================] - 3s 12ms/step - loss: 0.0202 - last_time_step_mse: 0.0078 - val_loss: 0.0197 - val_last_time_step_mse: 0.0073\n",
            "Epoch 15/20\n",
            "219/219 [==============================] - 3s 12ms/step - loss: 0.0199 - last_time_step_mse: 0.0076 - val_loss: 0.0199 - val_last_time_step_mse: 0.0074\n",
            "Epoch 16/20\n",
            "219/219 [==============================] - 3s 12ms/step - loss: 0.0196 - last_time_step_mse: 0.0072 - val_loss: 0.0196 - val_last_time_step_mse: 0.0075\n",
            "Epoch 17/20\n",
            "219/219 [==============================] - 3s 12ms/step - loss: 0.0194 - last_time_step_mse: 0.0071 - val_loss: 0.0192 - val_last_time_step_mse: 0.0071\n",
            "Epoch 18/20\n",
            "219/219 [==============================] - 3s 13ms/step - loss: 0.0192 - last_time_step_mse: 0.0070 - val_loss: 0.0189 - val_last_time_step_mse: 0.0067\n",
            "Epoch 19/20\n",
            "219/219 [==============================] - 3s 12ms/step - loss: 0.0192 - last_time_step_mse: 0.0070 - val_loss: 0.0187 - val_last_time_step_mse: 0.0067\n",
            "Epoch 20/20\n",
            "219/219 [==============================] - 3s 12ms/step - loss: 0.0189 - last_time_step_mse: 0.0068 - val_loss: 0.0189 - val_last_time_step_mse: 0.0066\n"
          ],
          "name": "stdout"
        }
      ]
    }
  ]
}