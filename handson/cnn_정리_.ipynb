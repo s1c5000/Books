{
  "nbformat": 4,
  "nbformat_minor": 0,
  "metadata": {
    "colab": {
      "name": "cnn_정리_.ipynb",
      "provenance": [],
      "collapsed_sections": [],
      "toc_visible": true,
      "authorship_tag": "ABX9TyP1qd89xSmPISjL+4/mx2Me",
      "include_colab_link": true
    },
    "kernelspec": {
      "name": "python3",
      "display_name": "Python 3"
    },
    "language_info": {
      "name": "python"
    },
    "accelerator": "GPU",
    "widgets": {
      "application/vnd.jupyter.widget-state+json": {
        "085a2f661a3841979ce4c2aeb491eca1": {
          "model_module": "@jupyter-widgets/controls",
          "model_name": "HBoxModel",
          "state": {
            "_view_name": "HBoxView",
            "_dom_classes": [],
            "_model_name": "HBoxModel",
            "_view_module": "@jupyter-widgets/controls",
            "_model_module_version": "1.5.0",
            "_view_count": null,
            "_view_module_version": "1.5.0",
            "box_style": "",
            "layout": "IPY_MODEL_e3b6957382fe454781f48b58a40e47f5",
            "_model_module": "@jupyter-widgets/controls",
            "children": [
              "IPY_MODEL_83f2ef29b680491eaebdf67c88eda4fd",
              "IPY_MODEL_0b36d7ca8bf74c1fa7530cd6d5a640aa"
            ]
          }
        },
        "e3b6957382fe454781f48b58a40e47f5": {
          "model_module": "@jupyter-widgets/base",
          "model_name": "LayoutModel",
          "state": {
            "_view_name": "LayoutView",
            "grid_template_rows": null,
            "right": null,
            "justify_content": null,
            "_view_module": "@jupyter-widgets/base",
            "overflow": null,
            "_model_module_version": "1.2.0",
            "_view_count": null,
            "flex_flow": null,
            "width": null,
            "min_width": null,
            "border": null,
            "align_items": null,
            "bottom": null,
            "_model_module": "@jupyter-widgets/base",
            "top": null,
            "grid_column": null,
            "overflow_y": null,
            "overflow_x": null,
            "grid_auto_flow": null,
            "grid_area": null,
            "grid_template_columns": null,
            "flex": null,
            "_model_name": "LayoutModel",
            "justify_items": null,
            "grid_row": null,
            "max_height": null,
            "align_content": null,
            "visibility": null,
            "align_self": null,
            "height": null,
            "min_height": null,
            "padding": null,
            "grid_auto_rows": null,
            "grid_gap": null,
            "max_width": null,
            "order": null,
            "_view_module_version": "1.2.0",
            "grid_template_areas": null,
            "object_position": null,
            "object_fit": null,
            "grid_auto_columns": null,
            "margin": null,
            "display": null,
            "left": null
          }
        },
        "83f2ef29b680491eaebdf67c88eda4fd": {
          "model_module": "@jupyter-widgets/controls",
          "model_name": "FloatProgressModel",
          "state": {
            "_view_name": "ProgressView",
            "style": "IPY_MODEL_ac7c02ecdcc542af8c88076a064ddd5a",
            "_dom_classes": [],
            "description": "Dl Completed...: 100%",
            "_model_name": "FloatProgressModel",
            "bar_style": "success",
            "max": 5,
            "_view_module": "@jupyter-widgets/controls",
            "_model_module_version": "1.5.0",
            "value": 5,
            "_view_count": null,
            "_view_module_version": "1.5.0",
            "orientation": "horizontal",
            "min": 0,
            "description_tooltip": null,
            "_model_module": "@jupyter-widgets/controls",
            "layout": "IPY_MODEL_8c2e08a391ba4702821e9344c5278a0d"
          }
        },
        "0b36d7ca8bf74c1fa7530cd6d5a640aa": {
          "model_module": "@jupyter-widgets/controls",
          "model_name": "HTMLModel",
          "state": {
            "_view_name": "HTMLView",
            "style": "IPY_MODEL_8395b756ed634d49936602a4dae80f5d",
            "_dom_classes": [],
            "description": "",
            "_model_name": "HTMLModel",
            "placeholder": "​",
            "_view_module": "@jupyter-widgets/controls",
            "_model_module_version": "1.5.0",
            "value": " 5/5 [00:11&lt;00:00,  2.29s/ file]",
            "_view_count": null,
            "_view_module_version": "1.5.0",
            "description_tooltip": null,
            "_model_module": "@jupyter-widgets/controls",
            "layout": "IPY_MODEL_9e602760f3bc4e3e8c73f424c21a3a0b"
          }
        },
        "ac7c02ecdcc542af8c88076a064ddd5a": {
          "model_module": "@jupyter-widgets/controls",
          "model_name": "ProgressStyleModel",
          "state": {
            "_view_name": "StyleView",
            "_model_name": "ProgressStyleModel",
            "description_width": "initial",
            "_view_module": "@jupyter-widgets/base",
            "_model_module_version": "1.5.0",
            "_view_count": null,
            "_view_module_version": "1.2.0",
            "bar_color": null,
            "_model_module": "@jupyter-widgets/controls"
          }
        },
        "8c2e08a391ba4702821e9344c5278a0d": {
          "model_module": "@jupyter-widgets/base",
          "model_name": "LayoutModel",
          "state": {
            "_view_name": "LayoutView",
            "grid_template_rows": null,
            "right": null,
            "justify_content": null,
            "_view_module": "@jupyter-widgets/base",
            "overflow": null,
            "_model_module_version": "1.2.0",
            "_view_count": null,
            "flex_flow": null,
            "width": null,
            "min_width": null,
            "border": null,
            "align_items": null,
            "bottom": null,
            "_model_module": "@jupyter-widgets/base",
            "top": null,
            "grid_column": null,
            "overflow_y": null,
            "overflow_x": null,
            "grid_auto_flow": null,
            "grid_area": null,
            "grid_template_columns": null,
            "flex": null,
            "_model_name": "LayoutModel",
            "justify_items": null,
            "grid_row": null,
            "max_height": null,
            "align_content": null,
            "visibility": null,
            "align_self": null,
            "height": null,
            "min_height": null,
            "padding": null,
            "grid_auto_rows": null,
            "grid_gap": null,
            "max_width": null,
            "order": null,
            "_view_module_version": "1.2.0",
            "grid_template_areas": null,
            "object_position": null,
            "object_fit": null,
            "grid_auto_columns": null,
            "margin": null,
            "display": null,
            "left": null
          }
        },
        "8395b756ed634d49936602a4dae80f5d": {
          "model_module": "@jupyter-widgets/controls",
          "model_name": "DescriptionStyleModel",
          "state": {
            "_view_name": "StyleView",
            "_model_name": "DescriptionStyleModel",
            "description_width": "",
            "_view_module": "@jupyter-widgets/base",
            "_model_module_version": "1.5.0",
            "_view_count": null,
            "_view_module_version": "1.2.0",
            "_model_module": "@jupyter-widgets/controls"
          }
        },
        "9e602760f3bc4e3e8c73f424c21a3a0b": {
          "model_module": "@jupyter-widgets/base",
          "model_name": "LayoutModel",
          "state": {
            "_view_name": "LayoutView",
            "grid_template_rows": null,
            "right": null,
            "justify_content": null,
            "_view_module": "@jupyter-widgets/base",
            "overflow": null,
            "_model_module_version": "1.2.0",
            "_view_count": null,
            "flex_flow": null,
            "width": null,
            "min_width": null,
            "border": null,
            "align_items": null,
            "bottom": null,
            "_model_module": "@jupyter-widgets/base",
            "top": null,
            "grid_column": null,
            "overflow_y": null,
            "overflow_x": null,
            "grid_auto_flow": null,
            "grid_area": null,
            "grid_template_columns": null,
            "flex": null,
            "_model_name": "LayoutModel",
            "justify_items": null,
            "grid_row": null,
            "max_height": null,
            "align_content": null,
            "visibility": null,
            "align_self": null,
            "height": null,
            "min_height": null,
            "padding": null,
            "grid_auto_rows": null,
            "grid_gap": null,
            "max_width": null,
            "order": null,
            "_view_module_version": "1.2.0",
            "grid_template_areas": null,
            "object_position": null,
            "object_fit": null,
            "grid_auto_columns": null,
            "margin": null,
            "display": null,
            "left": null
          }
        }
      }
    }
  },
  "cells": [
    {
      "cell_type": "markdown",
      "metadata": {
        "id": "view-in-github",
        "colab_type": "text"
      },
      "source": [
        "<a href=\"https://colab.research.google.com/github/s1c5000/Books/blob/main/handson/cnn_%EC%A0%95%EB%A6%AC_.ipynb\" target=\"_parent\"><img src=\"https://colab.research.google.com/assets/colab-badge.svg\" alt=\"Open In Colab\"/></a>"
      ]
    },
    {
      "cell_type": "markdown",
      "metadata": {
        "id": "G7el26Owvhx1"
      },
      "source": [
        "컨볼루션의 구조와 주요논문들을 설명한다.  \n",
        "분류, 위치추정방법 모두 흐름을 바탕으로 이해하는 것이 좋다  \n",
        "들어가는 이미지의 형태와 변화되는 모습도 확인해보며 그려볼수 있어야한다.  "
      ]
    },
    {
      "cell_type": "code",
      "metadata": {
        "id": "YakyEvP4vtAO"
      },
      "source": [
        "import tensorflow as tf\n",
        "from tensorflow import keras\n",
        "import numpy as np\n",
        "import matplotlib.pyplot as plt\n",
        "%matplotlib inline\n",
        "np.random.seed(42)\n"
      ],
      "execution_count": null,
      "outputs": []
    },
    {
      "cell_type": "code",
      "metadata": {
        "id": "na3yva5VyDB_"
      },
      "source": [
        "def plot_image(image):\n",
        "    plt.imshow(image, cmap=\"gray\", interpolation=\"nearest\")\n",
        "    plt.axis(\"off\")\n",
        "\n",
        "def plot_color_image(image):\n",
        "    plt.imshow(image, interpolation=\"nearest\")\n",
        "    plt.axis(\"off\")"
      ],
      "execution_count": null,
      "outputs": []
    },
    {
      "cell_type": "code",
      "metadata": {
        "colab": {
          "base_uri": "https://localhost:8080/",
          "height": 283
        },
        "id": "gJsHV5hCyO3S",
        "outputId": "0bd3380c-2908-4bf3-db4d-93640e25a4ad"
      },
      "source": [
        "from sklearn.datasets import load_sample_image\n",
        "\n",
        "# Load sample images\n",
        "china = load_sample_image(\"china.jpg\") / 255\n",
        "flower = load_sample_image(\"flower.jpg\") / 255\n",
        "images = np.array([china, flower])\n",
        "batch_size, height, width, channels = images.shape\n",
        "print(images.shape) # (2, 427, 640, 3)\n",
        "\n",
        "# Create 2 filters\n",
        "filters = np.zeros(shape=(7, 7, channels, 2), dtype=np.float32) # 7*7  3채널 필터 2개\n",
        "filters[:, 3, :, 0] = 1  # vertical line  열부분 중간을 1로\n",
        "filters[3, :, :, 1] = 1  # horizontal line  행부분 중간을 1로\n",
        "print(filters.shape) # (7, 7, 3, 2)  # 7*7  3채널 필터 2개\n",
        "\n",
        "outputs = tf.nn.conv2d(images, filters, strides=1, padding=\"SAME\")\n",
        "\n",
        "plt.imshow(outputs[0, :, :, 1], cmap=\"gray\") # 수평필터를 적용\n",
        "plt.axis(\"off\") # Not shown in the book\n",
        "plt.show()"
      ],
      "execution_count": null,
      "outputs": [
        {
          "output_type": "stream",
          "text": [
            "(2, 427, 640, 3)\n",
            "(7, 7, 3, 2)\n"
          ],
          "name": "stdout"
        },
        {
          "output_type": "display_data",
          "data": {
            "image/png": "[encoded data removed]",
            "text/plain": [
              "<Figure size 432x288 with 1 Axes>"
            ]
          },
          "metadata": {
            "tags": [],
            "needs_background": "light"
          }
        }
      ]
    },
    {
      "cell_type": "code",
      "metadata": {
        "colab": {
          "base_uri": "https://localhost:8080/",
          "height": 247
        },
        "id": "j_XL8OjODO_X",
        "outputId": "f5defbb9-50a4-4e48-c36a-3ba4e02652da"
      },
      "source": [
        "for image_index in (0, 1):# 각각 수직 수평 필터 적용\n",
        "    for feature_map_index in (0, 1):\n",
        "        plt.subplot(2, 2, image_index * 2 + feature_map_index + 1)\n",
        "        plot_image(outputs[image_index, :, :, feature_map_index])\n",
        "\n",
        "plt.show() # 각각 필터를 거쳐나온 특성맵 들이다. 필터하나당 특성맵 하나생성"
      ],
      "execution_count": null,
      "outputs": [
        {
          "output_type": "display_data",
          "data": {
            "image/png": "[encoded data removed]",
            "text/plain": [
              "<Figure size 432x288 with 4 Axes>"
            ]
          },
          "metadata": {
            "tags": [],
            "needs_background": "light"
          }
        }
      ]
    },
    {
      "cell_type": "code",
      "metadata": {
        "colab": {
          "base_uri": "https://localhost:8080/",
          "height": 300
        },
        "id": "W4xg3G1DyYNV",
        "outputId": "07110dc5-4d30-49b2-fa4f-ea4c78d7a937"
      },
      "source": [
        "# print(filters[:,:,:,0]) print로 출력해서 나오는 모양은 7*3행렬이 7개 나온다.\n",
        "print(filters[:,:,:,0].shape) # 7*7*3\n",
        "plt.imshow(filters[:,:,:,0], cmap=\"gray\") # image로 출력하면 (행,열,채널) 로 인식"
      ],
      "execution_count": null,
      "outputs": [
        {
          "output_type": "stream",
          "text": [
            "(7, 7, 3)\n"
          ],
          "name": "stdout"
        },
        {
          "output_type": "execute_result",
          "data": {
            "text/plain": [
              "<matplotlib.image.AxesImage at 0x7f096d8d1250>"
            ]
          },
          "metadata": {
            "tags": []
          },
          "execution_count": 18
        },
        {
          "output_type": "display_data",
          "data": {
            "image/png": "[encoded data removed]",
            "text/plain": [
              "<Figure size 432x288 with 1 Axes>"
            ]
          },
          "metadata": {
            "tags": [],
            "needs_background": "light"
          }
        }
      ]
    },
    {
      "cell_type": "code",
      "metadata": {
        "colab": {
          "base_uri": "https://localhost:8080/",
          "height": 282
        },
        "id": "SI8UTYbO1VIT",
        "outputId": "573faf07-1656-4738-cea1-2b9c9537dd9b"
      },
      "source": [
        "plt.imshow(filters[:,:,:,1], cmap=\"gray\")"
      ],
      "execution_count": null,
      "outputs": [
        {
          "output_type": "execute_result",
          "data": {
            "text/plain": [
              "<matplotlib.image.AxesImage at 0x7f096da986d0>"
            ]
          },
          "metadata": {
            "tags": []
          },
          "execution_count": 14
        },
        {
          "output_type": "display_data",
          "data": {
            "image/png": "[encoded data removed]",
            "text/plain": [
              "<Figure size 432x288 with 1 Axes>"
            ]
          },
          "metadata": {
            "tags": [],
            "needs_background": "light"
          }
        }
      ]
    },
    {
      "cell_type": "code",
      "metadata": {
        "id": "DaqEQ8d8Bz4r"
      },
      "source": [
        "def crop(images): # 필터 효과 잘 보기위해 자른다.\n",
        "    return images[150:220, 130:250]"
      ],
      "execution_count": null,
      "outputs": []
    },
    {
      "cell_type": "code",
      "metadata": {
        "colab": {
          "base_uri": "https://localhost:8080/",
          "height": 644
        },
        "id": "jV86HolhB7Hf",
        "outputId": "726f439a-63f1-439d-f5ad-2f5ab29d31af"
      },
      "source": [
        "plot_image(crop(images[0, :, :, 0]))\n",
        "#save_fig(\"china_original\", tight_layout=False)\n",
        "plt.show()\n",
        "\n",
        "for feature_map_index, filename in enumerate([\"china_vertical\", \"china_horizontal\"]):\n",
        "    plot_image(crop(outputs[0, :, :, feature_map_index]))\n",
        "    #save_fig(filename, tight_layout=False)\n",
        "    plt.show() # 각각 특성맵이다."
      ],
      "execution_count": null,
      "outputs": [
        {
          "output_type": "display_data",
          "data": {
            "image/png": "[encoded data removed]",
            "text/plain": [
              "<Figure size 432x288 with 1 Axes>"
            ]
          },
          "metadata": {
            "tags": [],
            "needs_background": "light"
          }
        },
        {
          "output_type": "display_data",
          "data": {
            "image/png": "[encoded data removed]",
            "text/plain": [
              "<Figure size 432x288 with 1 Axes>"
            ]
          },
          "metadata": {
            "tags": [],
            "needs_background": "light"
          }
        },
        {
          "output_type": "display_data",
          "data": {
            "image/png": "[encoded data removed]",
            "text/plain": [
              "<Figure size 432x288 with 1 Axes>"
            ]
          },
          "metadata": {
            "tags": [],
            "needs_background": "light"
          }
        }
      ]
    },
    {
      "cell_type": "markdown",
      "metadata": {
        "id": "jAiqdvqb2aLd"
      },
      "source": [
        "보통 필터를 직접 만들기보다 keras.layers.Conv2D를 사용한다.\n"
      ]
    },
    {
      "cell_type": "markdown",
      "metadata": {
        "id": "rvSUfDsmI0IG"
      },
      "source": [
        "## conv 층"
      ]
    },
    {
      "cell_type": "code",
      "metadata": {
        "id": "6x22ZVDH_9sq"
      },
      "source": [
        "conv = keras.layers.Conv2D(filters=32, kernel_size=3, strides=1,\n",
        "                           padding=\"SAME\", activation=\"relu\")"
      ],
      "execution_count": null,
      "outputs": []
    },
    {
      "cell_type": "markdown",
      "metadata": {
        "id": "tzpSco7L_-Ly"
      },
      "source": [
        "padding='valid' 패딩없음(크기 줄어듬)  \n",
        "padding='same' 패딩 알아서 생김  \n",
        "strides = 얼만큼 뛸지지"
      ]
    },
    {
      "cell_type": "markdown",
      "metadata": {
        "id": "pTvrTNK1Fb8s"
      },
      "source": [
        "cnn은 메모리를 많이 잡아먹는다  \n",
        "오차역전파를위해 정방향에서 계산됬던 모든 값이 보존되어야한다.  \n",
        "각층에서 필요한 RAM양의 전체 합 만큼은 필요하다"
      ]
    },
    {
      "cell_type": "markdown",
      "metadata": {
        "id": "fKQ7nmrMIAJV"
      },
      "source": [
        "## 풀링 층"
      ]
    },
    {
      "cell_type": "markdown",
      "metadata": {
        "id": "Y9iSV6HhI5vr"
      },
      "source": [
        "이미지의 축소판을 만든다."
      ]
    },
    {
      "cell_type": "markdown",
      "metadata": {
        "id": "4iM10cN9JIYG"
      },
      "source": [
        "## CNN\n"
      ]
    },
    {
      "cell_type": "markdown",
      "metadata": {
        "id": "0xXC8-3iJi2b"
      },
      "source": [
        "합성곱층에 너무 큰 커널(필터)를 사용하면 안된다. 5* 5 합성곱 층보다 3* 3 커널2개를 쌓는것이 계산량이 적고 성능도 좋다  \n",
        "예외적으로 입력층은 큰 커널을 사용한다. 너무 많은 정보를 잃지않기 위해서이다."
      ]
    },
    {
      "cell_type": "code",
      "metadata": {
        "colab": {
          "base_uri": "https://localhost:8080/"
        },
        "id": "t49Pd1osJ-3i",
        "outputId": "3d6e58a9-06a6-4715-a403-6636fa4e8c41"
      },
      "source": [
        "\n",
        "(X_train_full, y_train_full), (X_test, y_test) = keras.datasets.fashion_mnist.load_data()\n",
        "X_train, X_valid = X_train_full[:-5000], X_train_full[-5000:]\n",
        "y_train, y_valid = y_train_full[:-5000], y_train_full[-5000:]\n",
        "print(X_train.shape)\n",
        "\n",
        "X_mean = X_train.mean(axis=0, keepdims=True)\n",
        "X_std = X_train.std(axis=0, keepdims=True) + 1e-7\n",
        "X_train = (X_train - X_mean) / X_std\n",
        "X_valid = (X_valid - X_mean) / X_std\n",
        "X_test = (X_test - X_mean) / X_std\n",
        "print(X_train.shape)\n",
        "\n",
        "X_train = X_train[..., np.newaxis] # 차원 추가_test = (X_test - X_mean) / X_std\n",
        "print(X_train.shape)\n",
        "\n",
        "X_train = X_train[..., np.newaxis] # 차원 추가\n",
        "X_valid = X_valid[..., np.newaxis]\n",
        "X_test = X_test[..., np.newaxis]\n",
        "print(X_train.shape)\n",
        "X_valid = X_valid[..., np.newaxis]\n",
        "X_test = X_test[..., np.newaxis]\n",
        "print(X_train.shape)"
      ],
      "execution_count": null,
      "outputs": [
        {
          "output_type": "stream",
          "text": [
            "Downloading data from https://storage.googleapis.com/tensorflow/tf-keras-datasets/train-labels-idx1-ubyte.gz\n",
            "32768/29515 [=================================] - 0s 0us/step\n",
            "Downloading data from https://storage.googleapis.com/tensorflow/tf-keras-datasets/train-images-idx3-ubyte.gz\n",
            "26427392/26421880 [==============================] - 0s 0us/step\n",
            "Downloading data from https://storage.googleapis.com/tensorflow/tf-keras-datasets/t10k-labels-idx1-ubyte.gz\n",
            "8192/5148 [===============================================] - 0s 0us/step\n",
            "Downloading data from https://storage.googleapis.com/tensorflow/tf-keras-datasets/t10k-images-idx3-ubyte.gz\n",
            "4423680/4422102 [==============================] - 0s 0us/step\n",
            "(55000, 28, 28)\n",
            "(55000, 28, 28)\n",
            "(55000, 28, 28, 1)\n",
            "(55000, 28, 28, 1, 1)\n",
            "(55000, 28, 28, 1, 1)\n"
          ],
          "name": "stdout"
        }
      ]
    },
    {
      "cell_type": "markdown",
      "metadata": {
        "id": "lsn0taeuv1Dx"
      },
      "source": [
        "파라미터의 수와 출력의 모양을 계산해보는것이 흐름을 이해햐는데 도움이 된다"
      ]
    },
    {
      "cell_type": "code",
      "metadata": {
        "id": "ixiRO4GJK-ky"
      },
      "source": [
        "from functools import partial\n",
        "\n",
        "DefaultConv2D = partial(keras.layers.Conv2D,\n",
        "                        kernel_size=3, activation='relu', padding=\"SAME\")\n",
        "\n",
        "model = keras.models.Sequential([\n",
        "    DefaultConv2D(filters=64, kernel_size=7, input_shape=[28, 28, 1]), # 7*7 크기의 필터 사용, 7*7*1(필터깊이)*64+64 = 3200(파라미터 수)\n",
        "    keras.layers.MaxPooling2D(pool_size=2),\n",
        "    DefaultConv2D(filters=128), # 3*3 * 64(필터깊이) * 128 + 128 = 73856\n",
        "    DefaultConv2D(filters=128), # 3*3 * 128 * 128 + 128 = 147584\n",
        "    keras.layers.MaxPooling2D(pool_size=2),\n",
        "    DefaultConv2D(filters=256), # CNN에선 필터수를 차차늘리는게 일반적, 적은수의 저수준 특성을 많은 고수준 특성과 연결, 3*3 * 128 * 256 + 256 = 295168\n",
        "    DefaultConv2D(filters=256), # 풀링층에서 공간차원을 절반으로 줄이므로 필터수를 2배로 늘리는게 일반적\n",
        "    keras.layers.MaxPooling2D(pool_size=2), # 파라미터개수, 메모리, 계산비용을 크게 늘리지않고 특성맵 개수를 두배로 늘릴 수 있다.\n",
        "    keras.layers.Flatten(), # 쫙 펴버린다, 3 * 3 * 256 ( 특성맵 가로 * 세로 * 깊이)= 2304(아웃풋)\n",
        "    keras.layers.Dense(units=128, activation='relu'), # 2304 * 128 + 128 = 295040\n",
        "    keras.layers.Dropout(0.5),\n",
        "    keras.layers.Dense(units=64, activation='relu'), # 128 * 64 + 64 = 8256\n",
        "    keras.layers.Dropout(0.5),\n",
        "    keras.layers.Dense(units=10, activation='softmax'), # 64 * 10 + 10 = 650\n",
        "])"
      ],
      "execution_count": null,
      "outputs": []
    },
    {
      "cell_type": "code",
      "metadata": {
        "colab": {
          "base_uri": "https://localhost:8080/"
        },
        "id": "Y3XeINtECrLY",
        "outputId": "094de6b7-49bd-446a-e9b7-009a2291eea8"
      },
      "source": [
        "model.summary()"
      ],
      "execution_count": null,
      "outputs": [
        {
          "output_type": "stream",
          "text": [
            "Model: \"sequential\"\n",
            "_________________________________________________________________\n",
            "Layer (type)                 Output Shape              Param #   \n",
            "=================================================================\n",
            "conv2d (Conv2D)              (None, 28, 28, 64)        3200      \n",
            "_________________________________________________________________\n",
            "max_pooling2d (MaxPooling2D) (None, 14, 14, 64)        0         \n",
            "_________________________________________________________________\n",
            "conv2d_1 (Conv2D)            (None, 14, 14, 128)       73856     \n",
            "_________________________________________________________________\n",
            "conv2d_2 (Conv2D)            (None, 14, 14, 128)       147584    \n",
            "_________________________________________________________________\n",
            "max_pooling2d_1 (MaxPooling2 (None, 7, 7, 128)         0         \n",
            "_________________________________________________________________\n",
            "conv2d_3 (Conv2D)            (None, 7, 7, 256)         295168    \n",
            "_________________________________________________________________\n",
            "conv2d_4 (Conv2D)            (None, 7, 7, 256)         590080    \n",
            "_________________________________________________________________\n",
            "max_pooling2d_2 (MaxPooling2 (None, 3, 3, 256)         0         \n",
            "_________________________________________________________________\n",
            "flatten (Flatten)            (None, 2304)              0         \n",
            "_________________________________________________________________\n",
            "dense (Dense)                (None, 128)               295040    \n",
            "_________________________________________________________________\n",
            "dropout (Dropout)            (None, 128)               0         \n",
            "_________________________________________________________________\n",
            "dense_1 (Dense)              (None, 64)                8256      \n",
            "_________________________________________________________________\n",
            "dropout_1 (Dropout)          (None, 64)                0         \n",
            "_________________________________________________________________\n",
            "dense_2 (Dense)              (None, 10)                650       \n",
            "=================================================================\n",
            "Total params: 1,413,834\n",
            "Trainable params: 1,413,834\n",
            "Non-trainable params: 0\n",
            "_________________________________________________________________\n"
          ],
          "name": "stdout"
        }
      ]
    },
    {
      "cell_type": "code",
      "metadata": {
        "id": "CzhXhMIr9i5R"
      },
      "source": [
        "# model.compile(loss=\"sparse_categorical_crossentropy\", optimizer=\"nadam\", metrics=[\"accuracy\"])\n",
        "# history = model.fit(X_train, y_train, epochs=10, validation_data=(X_valid, y_valid))\n",
        "# score = model.evaluate(X_test, y_test)\n",
        "# X_new = X_test[:10] # pretend we have new images\n",
        "# y_pred = model.predict(X_new)"
      ],
      "execution_count": null,
      "outputs": []
    },
    {
      "cell_type": "markdown",
      "metadata": {
        "id": "zKpsUZD4NcbC"
      },
      "source": [
        "## 주요 CNN모델들의 비교"
      ]
    },
    {
      "cell_type": "markdown",
      "metadata": {
        "id": "tP7JvJlpTYv6"
      },
      "source": [
        "### LeNet-5"
      ]
    },
    {
      "cell_type": "markdown",
      "metadata": {
        "id": "LsYJbTzhTgaX"
      },
      "source": [
        "보통 처음 CNN을 처음 배울때 사용되는 구조와 비슷  \n",
        "mnist인식에 널리사용  \n",
        "\n",
        "입력 -> 합성곱 -> 평균풀링 -> 합성곱 -> 평균풀링 -> 합성곱 -> 완전연결 -> 출력  "
      ]
    },
    {
      "cell_type": "markdown",
      "metadata": {
        "id": "T-1HQpAiUXTG"
      },
      "source": [
        "### AlexNet\n",
        "top-5에러율이 17%로 이미지넷(2012)에서 우승  \n",
        "처음으로 합성곱 층 위에 풀링층을 쌓지 않았다.  \n",
        "\n",
        "입력 -> 합성곱 -> 최대풀링 -> 합성곱 -> 최대풀링 -> 합성곱 -> 합성곱 -> 합성곱 -> 최대풀링 -> 완전연결 -> 완전연결 -> 출력  \n",
        "\n",
        "과대적합을 막기위해 \n",
        "완전연결층 사이를 드롭아웃 50프로 주었다\n",
        "데이터 증식 사용  \n",
        "처음 두번의 합성곱 층에서 LRN 층을 사용  \n",
        "LRN : 가장 강하게 활성화된 뉴런이 다른 특성 맵에 있는 같은 위치의 뉴련을 억제 -> 더 다양한 특징을 탐색하도록 만든다(실제 생물학적 뉴련에서도 관측됨)  \n",
        "\n",
        "AlexNet의 변종으로 2013년 우승"
      ]
    },
    {
      "cell_type": "markdown",
      "metadata": {
        "id": "_Vx7yP1bfbZ8"
      },
      "source": [
        "### GoogLeNet\n",
        "2014년도 이미지넷에서 우승, top-5 에러율 7%로 줄임  \n",
        "기존 CNN보다 매우 깊음  \n",
        "인셉션모듈이라는 서브 네트워크를 가지고 있다  \n",
        "파라미터를 매우 효과적으로 사용한다 ( AlexNet보다 10배나 적은 파라미터사용(600만개)  "
      ]
    },
    {
      "cell_type": "markdown",
      "metadata": {
        "id": "D5lxMT4efcCV"
      },
      "source": [
        "인셉션모듈  \n",
        "입력이 복사되어 네개의 다른 층에 주입  \n",
        "각각 다른 크기의 커널크기를 사용하여 여러 특성을 찾는다"
      ]
    },
    {
      "cell_type": "markdown",
      "metadata": {
        "id": "oGrIdjmRfv8W"
      },
      "source": [
        "9개의 인셉션모듈이 사용되었다  \n",
        "인셉션 모듈로 들어가기 전 두번의 최대풀링으로 공간크기를 줄여놓았다. -> 계산속도 높임  \n"
      ]
    },
    {
      "cell_type": "markdown",
      "metadata": {
        "id": "xYB8_Ctyjj-G"
      },
      "source": [
        "### VGGNet\n",
        "같은 2014년도 2등을 함  \n",
        "매우 단순  \n",
        "2개나 3개의 합성곱 층 뒤에 풀링 층이 나온다 위 구조를 반복  \n",
        "3*3 필터만 사용한다"
      ]
    },
    {
      "cell_type": "markdown",
      "metadata": {
        "id": "__y74dnvkXAQ"
      },
      "source": [
        "### ResNet\n",
        "이미지넷 2015 승리, top-5에러율 3.6%  \n",
        "152개의 층으로 구성된 CNN사용  \n",
        "더 적은 파라미터로 더 깊은 네트워크를 만드는 트렌드를 만듬  \n",
        "깊은 네트워크를 훈련시킬 수 있는 핵심요소는 ***스킵연결(숏컷연결)*** 때문이다  \n",
        "https://ganghee-lee.tistory.com/41  \n",
        "\n",
        "기존의 신경망은 입력값 x를 타겟값 y로 매핑하는 함수 H(x)를 얻는 것이 목적이었다.  \n",
        "그러나 ResNet은 H(x) = F(x) + x를 최소화하는 것을 목적으로 한다.  \n",
        "( F(x)는 잔차유닛 사이층의 목적함수)  \n",
        "F(x) = H(x) - x 이므로 F(x)를 최소로 해준다는 것은 H(x) - x를 최소로 해주는 것과 동일한 의미를 지닌다.  \n",
        " \n",
        "즉, 잔차를 최소로 해주는 것이므로 ResNet이란 이름이 붙게 된다. \n"
      ]
    },
    {
      "cell_type": "markdown",
      "metadata": {
        "id": "wbQscNlhpxyp"
      },
      "source": [
        "미분을 해도 x자체는 미분값 1을 갖기 때문에  \n",
        "각 layer마다 최소 gradient로 1은 갖도록 한 것이다 -> 그레이디언트 소실완화"
      ]
    },
    {
      "cell_type": "markdown",
      "metadata": {
        "id": "aVE8avx6eoL2"
      },
      "source": [
        "### SENet\n",
        "이미지넷 2017 우승, top-5 에러율 2.25%  \n",
        "인셉션 네트워크와 ResNet 같은 기존구조를 확장   \n",
        "인셉션 네트워크와 ResNet을 확장한 버전을 각각 SE-Inception과 SE-ResNet이라고 부른다.   \n",
        "SE블록 이라는 작은 신경망을 추가항 성능 향상  \n"
      ]
    },
    {
      "cell_type": "markdown",
      "metadata": {
        "id": "815LfMZ2txSv"
      },
      "source": [
        "## ResNet-34구현"
      ]
    },
    {
      "cell_type": "code",
      "metadata": {
        "id": "gTZzqKDuH_at"
      },
      "source": [
        "DefaultConv2D = partial(keras.layers.Conv2D, kernel_size=3, strides=1,\n",
        "                        padding=\"SAME\", use_bias=False)\n",
        "\n",
        "class ResidualUnit(keras.layers.Layer):\n",
        "    def __init__(self, filters, strides=1, activation=\"relu\", **kwargs): # **kwargs : 인자가 dict형태로 입력\n",
        "        super().__init__(**kwargs)\n",
        "        self.activation = keras.activations.get(activation) # keras.activation.get()으로 relu가져옴\n",
        "        self.main_layers = [\n",
        "            DefaultConv2D(filters, strides=strides), # 잔차유닛의 첫번째층은 stride가 2가 될수 도 있기때문에 인자로 지정\n",
        "            keras.layers.BatchNormalization(), # 배치정규화\n",
        "            self.activation, # 활성화함수 relu\n",
        "            DefaultConv2D(filters), # 잔차유닛의 2번째 층\n",
        "            keras.layers.BatchNormalization()] # 배치 정규화\n",
        "        self.skip_layers = [] # 스킵연결(숏컷연결)\n",
        "        if strides > 1: # 잔차유닛마다 공간이 절반이되고 특성맵수는 두배로 늘어서 입력과 출력이 다르게된다.\n",
        "                        # 이를 맞추기위해 스트라이드 2 이고 출력 특성맵의 수가 같은 1*1 합성곱 층으로 입력을 통과시킴\n",
        "            self.skip_layers = [\n",
        "                DefaultConv2D(filters, kernel_size=1, strides=strides),\n",
        "                keras.layers.BatchNormalization()]\n",
        "\n",
        "    def call(self, inputs): # 객체 호출시 실행\n",
        "        Z = inputs # super()로 kwargs들 초기화했으므로 keras.layers.Layer의 input이 된다.\n",
        "        for layer in self.main_layers: # main_layers의 각 층\n",
        "            Z = layer(Z) # 층으로 부터 받은 입력, f(x)\n",
        "        skip_Z = inputs # 각 층으로 들어오는 입력, x\n",
        "        for layer in self.skip_layers: # 입력과 출력의 크기가 달라서 stride = 2 일때만 skip_Z층을 바꾼다.\n",
        "            skip_Z = layer(skip_Z)\n",
        "        return self.activation(Z + skip_Z) # relu(x + f(x))"
      ],
      "execution_count": null,
      "outputs": []
    },
    {
      "cell_type": "code",
      "metadata": {
        "id": "kj55ZsIpKJpo"
      },
      "source": [
        "model = keras.models.Sequential()\n",
        "model.add(DefaultConv2D(64, kernel_size=7, strides=2, input_shape=[224,224,3]))\n",
        "model.add(keras.layers.BatchNormalization())\n",
        "model.add(keras.layers.Activation('relu'))\n",
        "model.add(keras.layers.MaxPool2D(pool_size = 3, strides =2, padding = 'SAME'))\n",
        "prev_filters = 64\n",
        "for filters in [64] * 3 + [128] * 4 + [256] * 6 + [512] * 3:\n",
        "  strides = 1 if filters == prev_filters else 2 # 출력과 입력의 크기를 맞춰주기위해 \n",
        "  model.add(ResidualUnit(filters, strides = strides))\n",
        "  prev_filters = filters # 입력과 출력의 크기가 다를때만 stride를 2로 하기위해 prev_filters update\n",
        "model.add(keras.layers.GlobalAvgPool2D())\n",
        "model.add(keras.layers.Flatten())\n",
        "model.add(keras.layers.Dense(10, activation = 'softmax'))"
      ],
      "execution_count": null,
      "outputs": []
    },
    {
      "cell_type": "code",
      "metadata": {
        "colab": {
          "base_uri": "https://localhost:8080/"
        },
        "id": "xI7LZF-aLQCs",
        "outputId": "be8b6a4e-2df7-459d-ee32-099fcf7afdbd"
      },
      "source": [
        "model.summary()"
      ],
      "execution_count": null,
      "outputs": [
        {
          "output_type": "stream",
          "text": [
            "Model: \"sequential_3\"\n",
            "_________________________________________________________________\n",
            "Layer (type)                 Output Shape              Param #   \n",
            "=================================================================\n",
            "conv2d_77 (Conv2D)           (None, 112, 112, 64)      9408      \n",
            "_________________________________________________________________\n",
            "batch_normalization_72 (Batc (None, 112, 112, 64)      256       \n",
            "_________________________________________________________________\n",
            "activation_2 (Activation)    (None, 112, 112, 64)      0         \n",
            "_________________________________________________________________\n",
            "max_pooling2d_5 (MaxPooling2 (None, 56, 56, 64)        0         \n",
            "_________________________________________________________________\n",
            "residual_unit_32 (ResidualUn (None, 56, 56, 64)        74240     \n",
            "_________________________________________________________________\n",
            "residual_unit_33 (ResidualUn (None, 56, 56, 64)        74240     \n",
            "_________________________________________________________________\n",
            "residual_unit_34 (ResidualUn (None, 56, 56, 64)        74240     \n",
            "_________________________________________________________________\n",
            "residual_unit_35 (ResidualUn (None, 28, 28, 128)       230912    \n",
            "_________________________________________________________________\n",
            "residual_unit_36 (ResidualUn (None, 28, 28, 128)       295936    \n",
            "_________________________________________________________________\n",
            "residual_unit_37 (ResidualUn (None, 28, 28, 128)       295936    \n",
            "_________________________________________________________________\n",
            "residual_unit_38 (ResidualUn (None, 28, 28, 128)       295936    \n",
            "_________________________________________________________________\n",
            "residual_unit_39 (ResidualUn (None, 14, 14, 256)       920576    \n",
            "_________________________________________________________________\n",
            "residual_unit_40 (ResidualUn (None, 14, 14, 256)       1181696   \n",
            "_________________________________________________________________\n",
            "residual_unit_41 (ResidualUn (None, 14, 14, 256)       1181696   \n",
            "_________________________________________________________________\n",
            "residual_unit_42 (ResidualUn (None, 14, 14, 256)       1181696   \n",
            "_________________________________________________________________\n",
            "residual_unit_43 (ResidualUn (None, 14, 14, 256)       1181696   \n",
            "_________________________________________________________________\n",
            "residual_unit_44 (ResidualUn (None, 14, 14, 256)       1181696   \n",
            "_________________________________________________________________\n",
            "residual_unit_45 (ResidualUn (None, 7, 7, 512)         3676160   \n",
            "_________________________________________________________________\n",
            "residual_unit_46 (ResidualUn (None, 7, 7, 512)         4722688   \n",
            "_________________________________________________________________\n",
            "residual_unit_47 (ResidualUn (None, 7, 7, 512)         4722688   \n",
            "_________________________________________________________________\n",
            "global_average_pooling2d_2 ( (None, 512)               0         \n",
            "_________________________________________________________________\n",
            "flatten_3 (Flatten)          (None, 512)               0         \n",
            "_________________________________________________________________\n",
            "dense_5 (Dense)              (None, 10)                5130      \n",
            "=================================================================\n",
            "Total params: 21,306,826\n",
            "Trainable params: 21,289,802\n",
            "Non-trainable params: 17,024\n",
            "_________________________________________________________________\n"
          ],
          "name": "stdout"
        }
      ]
    },
    {
      "cell_type": "markdown",
      "metadata": {
        "id": "sRJP1McegiR7"
      },
      "source": [
        "## 케라스에서 제공하는 사전훈련된 모델 사용"
      ]
    },
    {
      "cell_type": "code",
      "metadata": {
        "colab": {
          "base_uri": "https://localhost:8080/"
        },
        "id": "OI8iqUKdyxCL",
        "outputId": "aeb7b0ea-dfb7-4f50-fb61-e865b8383c6e"
      },
      "source": [
        "[i for i in dir(keras.applications)] # 사용할 수 있는 사전훈련된 가중치, 뒤져보면 재미있는거 많음"
      ],
      "execution_count": null,
      "outputs": [
        {
          "output_type": "execute_result",
          "data": {
            "text/plain": [
              "['DenseNet121',\n",
              " 'DenseNet169',\n",
              " 'DenseNet201',\n",
              " 'EfficientNetB0',\n",
              " 'EfficientNetB1',\n",
              " 'EfficientNetB2',\n",
              " 'EfficientNetB3',\n",
              " 'EfficientNetB4',\n",
              " 'EfficientNetB5',\n",
              " 'EfficientNetB6',\n",
              " 'EfficientNetB7',\n",
              " 'InceptionResNetV2',\n",
              " 'InceptionV3',\n",
              " 'MobileNet',\n",
              " 'MobileNetV2',\n",
              " 'MobileNetV3Large',\n",
              " 'MobileNetV3Small',\n",
              " 'NASNetLarge',\n",
              " 'NASNetMobile',\n",
              " 'ResNet101',\n",
              " 'ResNet101V2',\n",
              " 'ResNet152',\n",
              " 'ResNet152V2',\n",
              " 'ResNet50',\n",
              " 'ResNet50V2',\n",
              " 'VGG16',\n",
              " 'VGG19',\n",
              " 'Xception',\n",
              " '__builtins__',\n",
              " '__cached__',\n",
              " '__doc__',\n",
              " '__file__',\n",
              " '__loader__',\n",
              " '__name__',\n",
              " '__package__',\n",
              " '__path__',\n",
              " '__spec__',\n",
              " '_sys',\n",
              " 'densenet',\n",
              " 'efficientnet',\n",
              " 'imagenet_utils',\n",
              " 'inception_resnet_v2',\n",
              " 'inception_v3',\n",
              " 'mobilenet',\n",
              " 'mobilenet_v2',\n",
              " 'mobilenet_v3',\n",
              " 'nasnet',\n",
              " 'resnet',\n",
              " 'resnet50',\n",
              " 'resnet_v2',\n",
              " 'vgg16',\n",
              " 'vgg19',\n",
              " 'xception']"
            ]
          },
          "metadata": {
            "tags": []
          },
          "execution_count": 4
        }
      ]
    },
    {
      "cell_type": "code",
      "metadata": {
        "colab": {
          "base_uri": "https://localhost:8080/"
        },
        "id": "3O78OhmmyI0I",
        "outputId": "bc3a0a5f-2aba-46dd-e5d0-59d1531f3b11"
      },
      "source": [
        "model = keras.applications.resnet50.ResNet50(weights = 'imagenet')"
      ],
      "execution_count": null,
      "outputs": [
        {
          "output_type": "stream",
          "text": [
            "Downloading data from https://storage.googleapis.com/tensorflow/keras-applications/resnet/resnet50_weights_tf_dim_ordering_tf_kernels.h5\n",
            "102973440/102967424 [==============================] - 1s 0us/step\n"
          ],
          "name": "stdout"
        }
      ]
    },
    {
      "cell_type": "code",
      "metadata": {
        "colab": {
          "base_uri": "https://localhost:8080/"
        },
        "id": "R46lpu9odeKr",
        "outputId": "6b06d96f-010b-4610-bb70-b0a1f2cc79ad"
      },
      "source": [
        "model.layers"
      ],
      "execution_count": null,
      "outputs": [
        {
          "output_type": "execute_result",
          "data": {
            "text/plain": [
              "[<tensorflow.python.keras.engine.input_layer.InputLayer at 0x7fecf50b5510>,\n",
              " <tensorflow.python.keras.layers.convolutional.ZeroPadding2D at 0x7fecf4c3dfd0>,\n",
              " <tensorflow.python.keras.layers.convolutional.Conv2D at 0x7fecf2bee990>,\n",
              " <tensorflow.python.keras.layers.normalization_v2.BatchNormalization at 0x7fecf2ba8c90>,\n",
              " <tensorflow.python.keras.layers.core.Activation at 0x7fecf2b5a2d0>,\n",
              " <tensorflow.python.keras.layers.convolutional.ZeroPadding2D at 0x7fecf2bee4d0>,\n",
              " <tensorflow.python.keras.layers.pooling.MaxPooling2D at 0x7fecf2b22fd0>,\n",
              " <tensorflow.python.keras.layers.convolutional.Conv2D at 0x7fecf2bee310>,\n",
              " <tensorflow.python.keras.layers.normalization_v2.BatchNormalization at 0x7fecf2b39150>,\n",
              " <tensorflow.python.keras.layers.core.Activation at 0x7fecf2b45fd0>,\n",
              " <tensorflow.python.keras.layers.convolutional.Conv2D at 0x7fecf2b3bf90>,\n",
              " <tensorflow.python.keras.layers.normalization_v2.BatchNormalization at 0x7fecf2ac8fd0>,\n",
              " <tensorflow.python.keras.layers.core.Activation at 0x7fecf2ad5f90>,\n",
              " <tensorflow.python.keras.layers.convolutional.Conv2D at 0x7fecf2b27c90>,\n",
              " <tensorflow.python.keras.layers.convolutional.Conv2D at 0x7fecf2ace810>,\n",
              " <tensorflow.python.keras.layers.normalization_v2.BatchNormalization at 0x7fecf2b2db10>,\n",
              " <tensorflow.python.keras.layers.normalization_v2.BatchNormalization at 0x7fecf2adea90>,\n",
              " <tensorflow.python.keras.layers.merge.Add at 0x7fecf2ae7d10>,\n",
              " <tensorflow.python.keras.layers.core.Activation at 0x7fecf2aeb890>,\n",
              " <tensorflow.python.keras.layers.convolutional.Conv2D at 0x7fecf2ad9dd0>,\n",
              " <tensorflow.python.keras.layers.normalization_v2.BatchNormalization at 0x7fecf2af6990>,\n",
              " <tensorflow.python.keras.layers.core.Activation at 0x7fecf2b024d0>,\n",
              " <tensorflow.python.keras.layers.convolutional.Conv2D at 0x7fecf2af1f10>,\n",
              " <tensorflow.python.keras.layers.normalization_v2.BatchNormalization at 0x7fecf2b05c50>,\n",
              " <tensorflow.python.keras.layers.core.Activation at 0x7fecff2e93d0>,\n",
              " <tensorflow.python.keras.layers.convolutional.Conv2D at 0x7fecf2a89e90>,\n",
              " <tensorflow.python.keras.layers.normalization_v2.BatchNormalization at 0x7fecf2a9bb10>,\n",
              " <tensorflow.python.keras.layers.merge.Add at 0x7fecf2aa5110>,\n",
              " <tensorflow.python.keras.layers.core.Activation at 0x7fecf2a9e950>,\n",
              " <tensorflow.python.keras.layers.convolutional.Conv2D at 0x7fecf2aae810>,\n",
              " <tensorflow.python.keras.layers.normalization_v2.BatchNormalization at 0x7fecf2ab2c10>,\n",
              " <tensorflow.python.keras.layers.core.Activation at 0x7fecf2aa5cd0>,\n",
              " <tensorflow.python.keras.layers.convolutional.Conv2D at 0x7fecf2aae410>,\n",
              " <tensorflow.python.keras.layers.normalization_v2.BatchNormalization at 0x7fecf2ac2d10>,\n",
              " <tensorflow.python.keras.layers.core.Activation at 0x7fecf2a9e610>,\n",
              " <tensorflow.python.keras.layers.convolutional.Conv2D at 0x7fecf2ac2ed0>,\n",
              " <tensorflow.python.keras.layers.normalization_v2.BatchNormalization at 0x7fecf2a56f50>,\n",
              " <tensorflow.python.keras.layers.merge.Add at 0x7fecf2a61250>,\n",
              " <tensorflow.python.keras.layers.core.Activation at 0x7fecf2a61210>,\n",
              " <tensorflow.python.keras.layers.convolutional.Conv2D at 0x7fecf2a76a90>,\n",
              " <tensorflow.python.keras.layers.normalization_v2.BatchNormalization at 0x7fecf2a66dd0>,\n",
              " <tensorflow.python.keras.layers.core.Activation at 0x7fecf2a87090>,\n",
              " <tensorflow.python.keras.layers.convolutional.Conv2D at 0x7fecf2a7d290>,\n",
              " <tensorflow.python.keras.layers.normalization_v2.BatchNormalization at 0x7fecf2a56090>,\n",
              " <tensorflow.python.keras.layers.core.Activation at 0x7fecf2a4c250>,\n",
              " <tensorflow.python.keras.layers.convolutional.Conv2D at 0x7fecf2a628d0>,\n",
              " <tensorflow.python.keras.layers.convolutional.Conv2D at 0x7fecf2abe150>,\n",
              " <tensorflow.python.keras.layers.normalization_v2.BatchNormalization at 0x7fecf2a71bd0>,\n",
              " <tensorflow.python.keras.layers.normalization_v2.BatchNormalization at 0x7fecf2a83ad0>,\n",
              " <tensorflow.python.keras.layers.merge.Add at 0x7fecf2a8e850>,\n",
              " <tensorflow.python.keras.layers.core.Activation at 0x7fecf2b029d0>,\n",
              " <tensorflow.python.keras.layers.convolutional.Conv2D at 0x7fecf2a61690>,\n",
              " <tensorflow.python.keras.layers.normalization_v2.BatchNormalization at 0x7fecf2ae7050>,\n",
              " <tensorflow.python.keras.layers.core.Activation at 0x7fecf2b388d0>,\n",
              " <tensorflow.python.keras.layers.convolutional.Conv2D at 0x7fecf2ad5190>,\n",
              " <tensorflow.python.keras.layers.normalization_v2.BatchNormalization at 0x7fecf2b32d50>,\n",
              " <tensorflow.python.keras.layers.core.Activation at 0x7fecf2a99f90>,\n",
              " <tensorflow.python.keras.layers.convolutional.Conv2D at 0x7fecf2a12810>,\n",
              " <tensorflow.python.keras.layers.normalization_v2.BatchNormalization at 0x7fecf2a15a50>,\n",
              " <tensorflow.python.keras.layers.merge.Add at 0x7fecf2a1ffd0>,\n",
              " <tensorflow.python.keras.layers.core.Activation at 0x7fecf2ac8110>,\n",
              " <tensorflow.python.keras.layers.convolutional.Conv2D at 0x7fecf2a236d0>,\n",
              " <tensorflow.python.keras.layers.normalization_v2.BatchNormalization at 0x7fecf2a2fa10>,\n",
              " <tensorflow.python.keras.layers.core.Activation at 0x7fecf2a39e50>,\n",
              " <tensorflow.python.keras.layers.convolutional.Conv2D at 0x7fecf2a32990>,\n",
              " <tensorflow.python.keras.layers.normalization_v2.BatchNormalization at 0x7fecf2a3cdd0>,\n",
              " <tensorflow.python.keras.layers.core.Activation at 0x7fecf2a1fd90>,\n",
              " <tensorflow.python.keras.layers.convolutional.Conv2D at 0x7fecf29c8d10>,\n",
              " <tensorflow.python.keras.layers.normalization_v2.BatchNormalization at 0x7fecf29cbfd0>,\n",
              " <tensorflow.python.keras.layers.merge.Add at 0x7fecf29dca90>,\n",
              " <tensorflow.python.keras.layers.core.Activation at 0x7fecf29dcb90>,\n",
              " <tensorflow.python.keras.layers.convolutional.Conv2D at 0x7fecf29e4990>,\n",
              " <tensorflow.python.keras.layers.normalization_v2.BatchNormalization at 0x7fecf29eaf50>,\n",
              " <tensorflow.python.keras.layers.core.Activation at 0x7fecf29f6f50>,\n",
              " <tensorflow.python.keras.layers.convolutional.Conv2D at 0x7fecf29eac90>,\n",
              " <tensorflow.python.keras.layers.normalization_v2.BatchNormalization at 0x7fecf29f8c50>,\n",
              " <tensorflow.python.keras.layers.core.Activation at 0x7fecf29fc250>,\n",
              " <tensorflow.python.keras.layers.convolutional.Conv2D at 0x7fecf2a02750>,\n",
              " <tensorflow.python.keras.layers.normalization_v2.BatchNormalization at 0x7fecf298add0>,\n",
              " <tensorflow.python.keras.layers.merge.Add at 0x7fecf2999e50>,\n",
              " <tensorflow.python.keras.layers.core.Activation at 0x7fecf2995c90>,\n",
              " <tensorflow.python.keras.layers.convolutional.Conv2D at 0x7fecf29af490>,\n",
              " <tensorflow.python.keras.layers.normalization_v2.BatchNormalization at 0x7fecf2999390>,\n",
              " <tensorflow.python.keras.layers.core.Activation at 0x7fecf2a02250>,\n",
              " <tensorflow.python.keras.layers.convolutional.Conv2D at 0x7fecf29f6850>,\n",
              " <tensorflow.python.keras.layers.normalization_v2.BatchNormalization at 0x7fecf2a057d0>,\n",
              " <tensorflow.python.keras.layers.core.Activation at 0x7fecf2a3c650>,\n",
              " <tensorflow.python.keras.layers.convolutional.Conv2D at 0x7fecf299ec10>,\n",
              " <tensorflow.python.keras.layers.convolutional.Conv2D at 0x7fecf29c8390>,\n",
              " <tensorflow.python.keras.layers.normalization_v2.BatchNormalization at 0x7fecf29a4d90>,\n",
              " <tensorflow.python.keras.layers.normalization_v2.BatchNormalization at 0x7fecf2a23590>,\n",
              " <tensorflow.python.keras.layers.merge.Add at 0x7fecf29d4d90>,\n",
              " <tensorflow.python.keras.layers.core.Activation at 0x7fecf2ace0d0>,\n",
              " <tensorflow.python.keras.layers.convolutional.Conv2D at 0x7fecf2aa5d10>,\n",
              " <tensorflow.python.keras.layers.normalization_v2.BatchNormalization at 0x7fecf2a32e10>,\n",
              " <tensorflow.python.keras.layers.core.Activation at 0x7fecf2b02190>,\n",
              " <tensorflow.python.keras.layers.convolutional.Conv2D at 0x7fecf2aa8ed0>,\n",
              " <tensorflow.python.keras.layers.normalization_v2.BatchNormalization at 0x7fecf2a613d0>,\n",
              " <tensorflow.python.keras.layers.core.Activation at 0x7fecf2995f10>,\n",
              " <tensorflow.python.keras.layers.convolutional.Conv2D at 0x7fecf29bac50>,\n",
              " <tensorflow.python.keras.layers.normalization_v2.BatchNormalization at 0x7fecf29bff90>,\n",
              " <tensorflow.python.keras.layers.merge.Add at 0x7fecf29ba7d0>,\n",
              " <tensorflow.python.keras.layers.core.Activation at 0x7fecf29c1e10>,\n",
              " <tensorflow.python.keras.layers.convolutional.Conv2D at 0x7fecf29c1dd0>,\n",
              " <tensorflow.python.keras.layers.normalization_v2.BatchNormalization at 0x7fecf294eb10>,\n",
              " <tensorflow.python.keras.layers.core.Activation at 0x7fecf298acd0>,\n",
              " <tensorflow.python.keras.layers.convolutional.Conv2D at 0x7fecf295b590>,\n",
              " <tensorflow.python.keras.layers.normalization_v2.BatchNormalization at 0x7fecf2962550>,\n",
              " <tensorflow.python.keras.layers.core.Activation at 0x7fecf29c6690>,\n",
              " <tensorflow.python.keras.layers.convolutional.Conv2D at 0x7fecf2968d50>,\n",
              " <tensorflow.python.keras.layers.normalization_v2.BatchNormalization at 0x7fecf29733d0>,\n",
              " <tensorflow.python.keras.layers.merge.Add at 0x7fecf295b7d0>,\n",
              " <tensorflow.python.keras.layers.core.Activation at 0x7fecf2977e90>,\n",
              " <tensorflow.python.keras.layers.convolutional.Conv2D at 0x7fecf297ec90>,\n",
              " <tensorflow.python.keras.layers.normalization_v2.BatchNormalization at 0x7fecf2984710>,\n",
              " <tensorflow.python.keras.layers.core.Activation at 0x7fecf297d610>,\n",
              " <tensorflow.python.keras.layers.convolutional.Conv2D at 0x7fecf2913e90>,\n",
              " <tensorflow.python.keras.layers.normalization_v2.BatchNormalization at 0x7fecf291a310>,\n",
              " <tensorflow.python.keras.layers.core.Activation at 0x7fecf291eb50>,\n",
              " <tensorflow.python.keras.layers.convolutional.Conv2D at 0x7fecf292e490>,\n",
              " <tensorflow.python.keras.layers.normalization_v2.BatchNormalization at 0x7fecf2931850>,\n",
              " <tensorflow.python.keras.layers.merge.Add at 0x7fecf291ed90>,\n",
              " <tensorflow.python.keras.layers.core.Activation at 0x7fecf293b5d0>,\n",
              " <tensorflow.python.keras.layers.convolutional.Conv2D at 0x7fecf2947590>,\n",
              " <tensorflow.python.keras.layers.normalization_v2.BatchNormalization at 0x7fecf2940290>,\n",
              " <tensorflow.python.keras.layers.core.Activation at 0x7fecf2931150>,\n",
              " <tensorflow.python.keras.layers.convolutional.Conv2D at 0x7fecf29136d0>,\n",
              " <tensorflow.python.keras.layers.normalization_v2.BatchNormalization at 0x7fecf297e390>,\n",
              " <tensorflow.python.keras.layers.core.Activation at 0x7fecf292ac10>,\n",
              " <tensorflow.python.keras.layers.convolutional.Conv2D at 0x7fecf2973090>,\n",
              " <tensorflow.python.keras.layers.normalization_v2.BatchNormalization at 0x7fecf2953190>,\n",
              " <tensorflow.python.keras.layers.merge.Add at 0x7fecf2973cd0>,\n",
              " <tensorflow.python.keras.layers.core.Activation at 0x7fecf2a4f210>,\n",
              " <tensorflow.python.keras.layers.convolutional.Conv2D at 0x7fecf29dc0d0>,\n",
              " <tensorflow.python.keras.layers.normalization_v2.BatchNormalization at 0x7fecf29cb9d0>,\n",
              " <tensorflow.python.keras.layers.core.Activation at 0x7fecf29bd4d0>,\n",
              " <tensorflow.python.keras.layers.convolutional.Conv2D at 0x7fecf28d36d0>,\n",
              " <tensorflow.python.keras.layers.normalization_v2.BatchNormalization at 0x7fecf28d7a10>,\n",
              " <tensorflow.python.keras.layers.core.Activation at 0x7fecf28d06d0>,\n",
              " <tensorflow.python.keras.layers.convolutional.Conv2D at 0x7fecf28da750>,\n",
              " <tensorflow.python.keras.layers.normalization_v2.BatchNormalization at 0x7fecf28e4c90>,\n",
              " <tensorflow.python.keras.layers.merge.Add at 0x7fecf28e4e50>,\n",
              " <tensorflow.python.keras.layers.core.Activation at 0x7fecf28e0e90>,\n",
              " <tensorflow.python.keras.layers.convolutional.Conv2D at 0x7fecf28f0cd0>,\n",
              " <tensorflow.python.keras.layers.normalization_v2.BatchNormalization at 0x7fecf29069d0>,\n",
              " <tensorflow.python.keras.layers.core.Activation at 0x7fecf288bd10>,\n",
              " <tensorflow.python.keras.layers.convolutional.Conv2D at 0x7fecf2903fd0>,\n",
              " <tensorflow.python.keras.layers.normalization_v2.BatchNormalization at 0x7fecf2897a10>,\n",
              " <tensorflow.python.keras.layers.core.Activation at 0x7fecf28a1f50>,\n",
              " <tensorflow.python.keras.layers.convolutional.Conv2D at 0x7fecf28f4e90>,\n",
              " <tensorflow.python.keras.layers.convolutional.Conv2D at 0x7fecf28979d0>,\n",
              " <tensorflow.python.keras.layers.normalization_v2.BatchNormalization at 0x7fecf28fa8d0>,\n",
              " <tensorflow.python.keras.layers.normalization_v2.BatchNormalization at 0x7fecf28a8790>,\n",
              " <tensorflow.python.keras.layers.merge.Add at 0x7fecf28aebd0>,\n",
              " <tensorflow.python.keras.layers.core.Activation at 0x7fecf28afe90>,\n",
              " <tensorflow.python.keras.layers.convolutional.Conv2D at 0x7fecf28b9e50>,\n",
              " <tensorflow.python.keras.layers.normalization_v2.BatchNormalization at 0x7fecf28c1750>,\n",
              " <tensorflow.python.keras.layers.core.Activation at 0x7fecf28c1ed0>,\n",
              " <tensorflow.python.keras.layers.convolutional.Conv2D at 0x7fecf28bec90>,\n",
              " <tensorflow.python.keras.layers.normalization_v2.BatchNormalization at 0x7fecf2854f50>,\n",
              " <tensorflow.python.keras.layers.core.Activation at 0x7fecf285d0d0>,\n",
              " <tensorflow.python.keras.layers.convolutional.Conv2D at 0x7fecf2858c50>,\n",
              " <tensorflow.python.keras.layers.normalization_v2.BatchNormalization at 0x7fecf2869a10>,\n",
              " <tensorflow.python.keras.layers.merge.Add at 0x7fecf2870190>,\n",
              " <tensorflow.python.keras.layers.core.Activation at 0x7fecf286c750>,\n",
              " <tensorflow.python.keras.layers.convolutional.Conv2D at 0x7fecf2849250>,\n",
              " <tensorflow.python.keras.layers.normalization_v2.BatchNormalization at 0x7fecf28b9e90>,\n",
              " <tensorflow.python.keras.layers.core.Activation at 0x7fecf2906d10>,\n",
              " <tensorflow.python.keras.layers.convolutional.Conv2D at 0x7fecf28b98d0>,\n",
              " <tensorflow.python.keras.layers.normalization_v2.BatchNormalization at 0x7fecf288ebd0>,\n",
              " <tensorflow.python.keras.layers.core.Activation at 0x7fecf28daa10>,\n",
              " <tensorflow.python.keras.layers.convolutional.Conv2D at 0x7fecf28fa990>,\n",
              " <tensorflow.python.keras.layers.normalization_v2.BatchNormalization at 0x7fecf2a39e10>,\n",
              " <tensorflow.python.keras.layers.merge.Add at 0x7fecf296cd90>,\n",
              " <tensorflow.python.keras.layers.core.Activation at 0x7fecf294e050>,\n",
              " <tensorflow.python.keras.layers.pooling.GlobalAveragePooling2D at 0x7fecf29474d0>,\n",
              " <tensorflow.python.keras.layers.core.Dense at 0x7fecf287fe50>]"
            ]
          },
          "metadata": {
            "tags": []
          },
          "execution_count": 16
        }
      ]
    },
    {
      "cell_type": "markdown",
      "metadata": {
        "id": "Eq_tkE1PyUxf"
      },
      "source": [
        "ResNet-50의 가중치를 다운받았다."
      ]
    },
    {
      "cell_type": "code",
      "metadata": {
        "colab": {
          "base_uri": "https://localhost:8080/"
        },
        "id": "EDs8abq1y7Xi",
        "outputId": "9b87d879-71cc-4514-9baa-dc5f6735fbc8"
      },
      "source": [
        "model.layers[0].input # ResNet-50 은 224*224*3 이미지를 인풋으로 받는다."
      ],
      "execution_count": null,
      "outputs": [
        {
          "output_type": "execute_result",
          "data": {
            "text/plain": [
              "<KerasTensor: shape=(None, 224, 224, 3) dtype=float32 (created by layer 'input_1')>"
            ]
          },
          "metadata": {
            "tags": []
          },
          "execution_count": 6
        }
      ]
    },
    {
      "cell_type": "code",
      "metadata": {
        "id": "SxkCB-_XXut3"
      },
      "source": [
        "# 사전 훈련된 모델은 이미지가 적절한 방식으로 전처리 되었다고 가정한다.\n",
        "# 0에서 1사이 -1에서 1 사이 등 모델마다 기대하는 입력이 다르다\n",
        "# preprocess_input()을 사용하면 모델마다 적절한 이미지 전처리를 해준다\n",
        "inputs = keras.applications.resnet50.preprocess_input(images_resized * 255)\n",
        "# 위에서 255를 나눠줘서 픽셀이 0에서 1 사이의 값이다. 따라서 255를 곱해 0 에서 255사이의 값으로 변형"
      ],
      "execution_count": null,
      "outputs": []
    },
    {
      "cell_type": "markdown",
      "metadata": {
        "id": "7he-krR8dBEk"
      },
      "source": [
        "## 사전훈련된 모델 전이학습"
      ]
    },
    {
      "cell_type": "code",
      "metadata": {
        "colab": {
          "base_uri": "https://localhost:8080/",
          "height": 228,
          "referenced_widgets": [
            "085a2f661a3841979ce4c2aeb491eca1",
            "e3b6957382fe454781f48b58a40e47f5",
            "83f2ef29b680491eaebdf67c88eda4fd",
            "0b36d7ca8bf74c1fa7530cd6d5a640aa",
            "ac7c02ecdcc542af8c88076a064ddd5a",
            "8c2e08a391ba4702821e9344c5278a0d",
            "8395b756ed634d49936602a4dae80f5d",
            "9e602760f3bc4e3e8c73f424c21a3a0b"
          ]
        },
        "id": "E6WfxpINdHd_",
        "outputId": "71a9d18c-4a73-4ed2-f923-928160f19883"
      },
      "source": [
        "import tensorflow_datasets as tfds # tensorflow_datasets 임포트\n",
        "\n",
        "#with_info=True로 저장하면 데이터셋의 정보 얻을 수 있다.\n",
        "dataset, info = tfds.load(\"tf_flowers\", as_supervised=True, with_info=True) "
      ],
      "execution_count": null,
      "outputs": [
        {
          "output_type": "stream",
          "text": [
            "\u001b[1mDownloading and preparing dataset tf_flowers/3.0.1 (download: 218.21 MiB, generated: 221.83 MiB, total: 440.05 MiB) to /root/tensorflow_datasets/tf_flowers/3.0.1...\u001b[0m\n"
          ],
          "name": "stdout"
        },
        {
          "output_type": "stream",
          "text": [
            "WARNING:absl:Dataset tf_flowers is hosted on GCS. It will automatically be downloaded to your\n",
            "local data directory. If you'd instead prefer to read directly from our public\n",
            "GCS bucket (recommended if you're running on GCP), you can instead pass\n",
            "`try_gcs=True` to `tfds.load` or set `data_dir=gs://tfds-data/datasets`.\n",
            "\n"
          ],
          "name": "stderr"
        },
        {
          "output_type": "display_data",
          "data": {
            "application/vnd.jupyter.widget-view+json": {
              "model_id": "085a2f661a3841979ce4c2aeb491eca1",
              "version_minor": 0,
              "version_major": 2
            },
            "text/plain": [
              "HBox(children=(FloatProgress(value=0.0, description='Dl Completed...', max=5.0, style=ProgressStyle(descriptio…"
            ]
          },
          "metadata": {
            "tags": []
          }
        },
        {
          "output_type": "stream",
          "text": [
            "\n",
            "\n",
            "\u001b[1mDataset tf_flowers downloaded and prepared to /root/tensorflow_datasets/tf_flowers/3.0.1. Subsequent calls will reuse this data.\u001b[0m\n"
          ],
          "name": "stdout"
        }
      ]
    },
    {
      "cell_type": "code",
      "metadata": {
        "colab": {
          "base_uri": "https://localhost:8080/"
        },
        "id": "qg0O6vHBfr4j",
        "outputId": "03b841c2-c88c-4bda-a0f7-4451819095d2"
      },
      "source": [
        "info # train세트만 있다."
      ],
      "execution_count": null,
      "outputs": [
        {
          "output_type": "execute_result",
          "data": {
            "text/plain": [
              "tfds.core.DatasetInfo(\n",
              "    name='tf_flowers',\n",
              "    version=3.0.1,\n",
              "    description='A large set of images of flowers',\n",
              "    homepage='https://www.tensorflow.org/tutorials/load_data/images',\n",
              "    features=FeaturesDict({\n",
              "        'image': Image(shape=(None, None, 3), dtype=tf.uint8),\n",
              "        'label': ClassLabel(shape=(), dtype=tf.int64, num_classes=5),\n",
              "    }),\n",
              "    total_num_examples=3670,\n",
              "    splits={\n",
              "        'train': 3670,\n",
              "    },\n",
              "    supervised_keys=('image', 'label'),\n",
              "    citation=\"\"\"@ONLINE {tfflowers,\n",
              "    author = \"The TensorFlow Team\",\n",
              "    title = \"Flowers\",\n",
              "    month = \"jan\",\n",
              "    year = \"2019\",\n",
              "    url = \"http://download.tensorflow.org/example_images/flower_photos.tgz\" }\"\"\",\n",
              "    redistribution_info=,\n",
              ")"
            ]
          },
          "metadata": {
            "tags": []
          },
          "execution_count": 22
        }
      ]
    },
    {
      "cell_type": "code",
      "metadata": {
        "colab": {
          "base_uri": "https://localhost:8080/"
        },
        "id": "p-YR4bCKf6xB",
        "outputId": "8c2c8043-d620-46d3-aeef-4fc608051536"
      },
      "source": [
        "class_names = info.features[\"label\"].names\n",
        "class_names"
      ],
      "execution_count": null,
      "outputs": [
        {
          "output_type": "execute_result",
          "data": {
            "text/plain": [
              "['dandelion', 'daisy', 'tulips', 'sunflowers', 'roses']"
            ]
          },
          "metadata": {
            "tags": []
          },
          "execution_count": 6
        }
      ]
    },
    {
      "cell_type": "code",
      "metadata": {
        "id": "F-3sdIhdpWhL"
      },
      "source": [
        "n_classes = info.features[\"label\"].num_classes"
      ],
      "execution_count": null,
      "outputs": []
    },
    {
      "cell_type": "code",
      "metadata": {
        "colab": {
          "base_uri": "https://localhost:8080/"
        },
        "id": "cOlDiRzCpXY1",
        "outputId": "15c9d996-148e-44e5-b158-b133c2e433a4"
      },
      "source": [
        "dataset_size = info.splits[\"train\"].num_examples\n",
        "dataset_size"
      ],
      "execution_count": null,
      "outputs": [
        {
          "output_type": "execute_result",
          "data": {
            "text/plain": [
              "3670"
            ]
          },
          "metadata": {
            "tags": []
          },
          "execution_count": 8
        }
      ]
    },
    {
      "cell_type": "code",
      "metadata": {
        "id": "43fHkDedplWb"
      },
      "source": [
        "# train만 있으므로 나눠야한다.\n",
        "# test를 처음 10프로, valid를 그 다음 15%, train을 뒤의 75%로 나눔\n",
        "test_set_raw, valid_set_raw, train_set_raw = tfds.load(\n",
        "    \"tf_flowers\",\n",
        "    split=[\"train[:10%]\", \"train[10%:25%]\", \"train[25%:]\"],\n",
        "    as_supervised=True)"
      ],
      "execution_count": null,
      "outputs": []
    },
    {
      "cell_type": "code",
      "metadata": {
        "id": "q3dPJwM2hUwl"
      },
      "source": [
        "# 인풋형식에 맞춰 preprocess한다.\n",
        "def preprocess(image, label):\n",
        "    resized_image = tf.image.resize(image, [224, 224]) # xception의 인풋크기에 맞춰 resize\n",
        "    final_image = keras.applications.xception.preprocess_input(resized_image) # xception의 입력 픽셀에 맞춰 preprocess_input\n",
        "    return final_image, label"
      ],
      "execution_count": null,
      "outputs": []
    },
    {
      "cell_type": "code",
      "metadata": {
        "id": "k3zu6Hx5imIt"
      },
      "source": [
        "# train, test, valid 각각 preprocess 적용하고 배치크기를 지정한다.\n",
        "# 속도 향샹을 위해 prefetch도 해준다.\n",
        "from functools import partial\n",
        "batch_size = 32\n",
        "train_set = train_set_raw.shuffle(1000).repeat() # 훈련셋 셔플\n",
        "train_set = train_set.map(preprocess).batch(batch_size).prefetch(1) # 배치 크기를 지정하고 prefetch적용한다\n",
        "valid_set = valid_set_raw.map(preprocess).batch(batch_size).prefetch(1) # prefetch는 s가 훈련중일때 s+1을 가져와서\n",
        "test_set = test_set_raw.map(preprocess).batch(batch_size).prefetch(1) # 훈련 속도를 높인다."
      ],
      "execution_count": null,
      "outputs": []
    },
    {
      "cell_type": "code",
      "metadata": {
        "colab": {
          "base_uri": "https://localhost:8080/"
        },
        "id": "Va2QK14uirT2",
        "outputId": "296a4fd8-59d7-4bff-eba3-135626ff4193"
      },
      "source": [
        "type(train_set)"
      ],
      "execution_count": null,
      "outputs": [
        {
          "output_type": "execute_result",
          "data": {
            "text/plain": [
              "tensorflow.python.data.ops.dataset_ops.PrefetchDataset"
            ]
          },
          "metadata": {
            "tags": []
          },
          "execution_count": 20
        }
      ]
    },
    {
      "cell_type": "code",
      "metadata": {
        "colab": {
          "base_uri": "https://localhost:8080/"
        },
        "id": "PoqF-RN1iYuG",
        "outputId": "00eacfed-003c-4a05-a1a6-7e05e36faa35"
      },
      "source": [
        " # batch를 지정해서 한번에 32 개를 리턴한다.\n",
        " # take(n)으로 원하는 배치만큼 가져올 수 있다.\n",
        " # repeat(n) 으로 반복횟수 설정\n",
        "\n",
        " # batch와 repeat 둘다 순서는 랜험하게 반환\n",
        "for i , sets in enumerate(train_set):\n",
        "  x, y  = sets[0], sets[1]\n",
        "  print(y)\n",
        "  if i == 4:\n",
        "    break\n",
        "\n",
        "print()\n",
        "for a, b in train_set.take(2).repeat(2):\n",
        "  print(b)"
      ],
      "execution_count": null,
      "outputs": [
        {
          "output_type": "stream",
          "text": [
            "tf.Tensor([4 0 3 3 2 2 1 1 0 4 2 2 4 1 2 0 0 0 0 1 0 3 0 4 3 4 4 0 4 0 2 4], shape=(32,), dtype=int64)\n",
            "tf.Tensor([1 2 0 3 1 1 4 0 1 2 2 3 4 0 1 2 2 2 2 4 0 1 4 4 1 2 0 3 4 0 0 0], shape=(32,), dtype=int64)\n",
            "tf.Tensor([3 1 1 0 1 0 0 4 2 2 0 0 2 4 3 3 0 4 3 3 0 1 0 0 3 3 2 4 2 3 0 1], shape=(32,), dtype=int64)\n",
            "tf.Tensor([0 3 1 2 1 0 3 3 2 0 2 2 4 2 2 2 4 0 4 2 3 0 4 3 4 0 1 0 4 3 1 4], shape=(32,), dtype=int64)\n",
            "tf.Tensor([3 4 3 4 4 2 1 0 0 3 2 2 2 0 2 3 2 2 4 2 4 3 3 1 0 2 3 3 0 3 3 3], shape=(32,), dtype=int64)\n",
            "\n",
            "tf.Tensor([2 2 3 1 1 2 4 3 1 2 3 4 2 0 2 4 3 1 0 4 2 2 2 3 4 1 3 3 3 2 0 2], shape=(32,), dtype=int64)\n",
            "tf.Tensor([2 2 0 4 3 3 4 4 4 1 3 1 2 3 1 3 2 1 3 4 1 4 0 1 0 1 4 0 4 4 3 4], shape=(32,), dtype=int64)\n",
            "tf.Tensor([0 1 3 2 1 1 0 0 0 4 2 0 4 0 1 4 1 1 1 0 0 4 4 3 0 2 3 3 3 4 1 4], shape=(32,), dtype=int64)\n",
            "tf.Tensor([1 2 3 0 0 4 3 0 0 0 0 2 2 4 3 1 2 0 4 2 3 0 4 1 0 0 0 1 0 2 0 0], shape=(32,), dtype=int64)\n"
          ],
          "name": "stdout"
        }
      ]
    },
    {
      "cell_type": "code",
      "metadata": {
        "colab": {
          "base_uri": "https://localhost:8080/"
        },
        "id": "ESpSXCMNmNvC",
        "outputId": "4d637135-51e4-468f-e7c1-a74bbe6fc570"
      },
      "source": [
        "# 모델 임포트\n",
        "base_model = keras.applications.xception.Xception(weights=\"imagenet\",\n",
        "                                                  include_top=False)\n",
        "avg = keras.layers.GlobalAveragePooling2D()(base_model.output)\n",
        "output = keras.layers.Dense(n_classes, activation=\"softmax\")(avg)\n",
        "model = keras.models.Model(inputs=base_model.input, outputs=output)"
      ],
      "execution_count": null,
      "outputs": [
        {
          "output_type": "stream",
          "text": [
            "Downloading data from https://storage.googleapis.com/tensorflow/keras-applications/xception/xception_weights_tf_dim_ordering_tf_kernels_notop.h5\n",
            "83689472/83683744 [==============================] - 2s 0us/step\n"
          ],
          "name": "stdout"
        }
      ]
    },
    {
      "cell_type": "code",
      "metadata": {
        "colab": {
          "base_uri": "https://localhost:8080/"
        },
        "id": "2MM6cLbTogaF",
        "outputId": "cb133c94-0357-4609-d09a-e93c8c42dbb9"
      },
      "source": [
        "# base_model 층\n",
        "for index, layer in enumerate(base_model.layers):\n",
        "    print(index, layer.name)"
      ],
      "execution_count": null,
      "outputs": [
        {
          "output_type": "stream",
          "text": [
            "0 input_2\n",
            "1 block1_conv1\n",
            "2 block1_conv1_bn\n",
            "3 block1_conv1_act\n",
            "4 block1_conv2\n",
            "5 block1_conv2_bn\n",
            "6 block1_conv2_act\n",
            "7 block2_sepconv1\n",
            "8 block2_sepconv1_bn\n",
            "9 block2_sepconv2_act\n",
            "10 block2_sepconv2\n",
            "11 block2_sepconv2_bn\n",
            "12 conv2d\n",
            "13 block2_pool\n",
            "14 batch_normalization\n",
            "15 add\n",
            "16 block3_sepconv1_act\n",
            "17 block3_sepconv1\n",
            "18 block3_sepconv1_bn\n",
            "19 block3_sepconv2_act\n",
            "20 block3_sepconv2\n",
            "21 block3_sepconv2_bn\n",
            "22 conv2d_1\n",
            "23 block3_pool\n",
            "24 batch_normalization_1\n",
            "25 add_1\n",
            "26 block4_sepconv1_act\n",
            "27 block4_sepconv1\n",
            "28 block4_sepconv1_bn\n",
            "29 block4_sepconv2_act\n",
            "30 block4_sepconv2\n",
            "31 block4_sepconv2_bn\n",
            "32 conv2d_2\n",
            "33 block4_pool\n",
            "34 batch_normalization_2\n",
            "35 add_2\n",
            "36 block5_sepconv1_act\n",
            "37 block5_sepconv1\n",
            "38 block5_sepconv1_bn\n",
            "39 block5_sepconv2_act\n",
            "40 block5_sepconv2\n",
            "41 block5_sepconv2_bn\n",
            "42 block5_sepconv3_act\n",
            "43 block5_sepconv3\n",
            "44 block5_sepconv3_bn\n",
            "45 add_3\n",
            "46 block6_sepconv1_act\n",
            "47 block6_sepconv1\n",
            "48 block6_sepconv1_bn\n",
            "49 block6_sepconv2_act\n",
            "50 block6_sepconv2\n",
            "51 block6_sepconv2_bn\n",
            "52 block6_sepconv3_act\n",
            "53 block6_sepconv3\n",
            "54 block6_sepconv3_bn\n",
            "55 add_4\n",
            "56 block7_sepconv1_act\n",
            "57 block7_sepconv1\n",
            "58 block7_sepconv1_bn\n",
            "59 block7_sepconv2_act\n",
            "60 block7_sepconv2\n",
            "61 block7_sepconv2_bn\n",
            "62 block7_sepconv3_act\n",
            "63 block7_sepconv3\n",
            "64 block7_sepconv3_bn\n",
            "65 add_5\n",
            "66 block8_sepconv1_act\n",
            "67 block8_sepconv1\n",
            "68 block8_sepconv1_bn\n",
            "69 block8_sepconv2_act\n",
            "70 block8_sepconv2\n",
            "71 block8_sepconv2_bn\n",
            "72 block8_sepconv3_act\n",
            "73 block8_sepconv3\n",
            "74 block8_sepconv3_bn\n",
            "75 add_6\n",
            "76 block9_sepconv1_act\n",
            "77 block9_sepconv1\n",
            "78 block9_sepconv1_bn\n",
            "79 block9_sepconv2_act\n",
            "80 block9_sepconv2\n",
            "81 block9_sepconv2_bn\n",
            "82 block9_sepconv3_act\n",
            "83 block9_sepconv3\n",
            "84 block9_sepconv3_bn\n",
            "85 add_7\n",
            "86 block10_sepconv1_act\n",
            "87 block10_sepconv1\n",
            "88 block10_sepconv1_bn\n",
            "89 block10_sepconv2_act\n",
            "90 block10_sepconv2\n",
            "91 block10_sepconv2_bn\n",
            "92 block10_sepconv3_act\n",
            "93 block10_sepconv3\n",
            "94 block10_sepconv3_bn\n",
            "95 add_8\n",
            "96 block11_sepconv1_act\n",
            "97 block11_sepconv1\n",
            "98 block11_sepconv1_bn\n",
            "99 block11_sepconv2_act\n",
            "100 block11_sepconv2\n",
            "101 block11_sepconv2_bn\n",
            "102 block11_sepconv3_act\n",
            "103 block11_sepconv3\n",
            "104 block11_sepconv3_bn\n",
            "105 add_9\n",
            "106 block12_sepconv1_act\n",
            "107 block12_sepconv1\n",
            "108 block12_sepconv1_bn\n",
            "109 block12_sepconv2_act\n",
            "110 block12_sepconv2\n",
            "111 block12_sepconv2_bn\n",
            "112 block12_sepconv3_act\n",
            "113 block12_sepconv3\n",
            "114 block12_sepconv3_bn\n",
            "115 add_10\n",
            "116 block13_sepconv1_act\n",
            "117 block13_sepconv1\n",
            "118 block13_sepconv1_bn\n",
            "119 block13_sepconv2_act\n",
            "120 block13_sepconv2\n",
            "121 block13_sepconv2_bn\n",
            "122 conv2d_3\n",
            "123 block13_pool\n",
            "124 batch_normalization_3\n",
            "125 add_11\n",
            "126 block14_sepconv1\n",
            "127 block14_sepconv1_bn\n",
            "128 block14_sepconv1_act\n",
            "129 block14_sepconv2\n",
            "130 block14_sepconv2_bn\n",
            "131 block14_sepconv2_act\n"
          ],
          "name": "stdout"
        }
      ]
    },
    {
      "cell_type": "code",
      "metadata": {
        "colab": {
          "base_uri": "https://localhost:8080/"
        },
        "id": "1gHFIVE_mpBB",
        "outputId": "63d06bf5-d4b9-4fc2-e337-da30f1b38c63"
      },
      "source": [
        "# 전이학습으로 만든 층 , base_model과의 차이점은 마지막에 평균풀링과 출력층이 추가되었다.\n",
        "for index, layer in enumerate(model.layers):\n",
        "    print(index, layer.name)"
      ],
      "execution_count": null,
      "outputs": [
        {
          "output_type": "stream",
          "text": [
            "0 input_2\n",
            "1 block1_conv1\n",
            "2 block1_conv1_bn\n",
            "3 block1_conv1_act\n",
            "4 block1_conv2\n",
            "5 block1_conv2_bn\n",
            "6 block1_conv2_act\n",
            "7 block2_sepconv1\n",
            "8 block2_sepconv1_bn\n",
            "9 block2_sepconv2_act\n",
            "10 block2_sepconv2\n",
            "11 block2_sepconv2_bn\n",
            "12 conv2d\n",
            "13 block2_pool\n",
            "14 batch_normalization\n",
            "15 add\n",
            "16 block3_sepconv1_act\n",
            "17 block3_sepconv1\n",
            "18 block3_sepconv1_bn\n",
            "19 block3_sepconv2_act\n",
            "20 block3_sepconv2\n",
            "21 block3_sepconv2_bn\n",
            "22 conv2d_1\n",
            "23 block3_pool\n",
            "24 batch_normalization_1\n",
            "25 add_1\n",
            "26 block4_sepconv1_act\n",
            "27 block4_sepconv1\n",
            "28 block4_sepconv1_bn\n",
            "29 block4_sepconv2_act\n",
            "30 block4_sepconv2\n",
            "31 block4_sepconv2_bn\n",
            "32 conv2d_2\n",
            "33 block4_pool\n",
            "34 batch_normalization_2\n",
            "35 add_2\n",
            "36 block5_sepconv1_act\n",
            "37 block5_sepconv1\n",
            "38 block5_sepconv1_bn\n",
            "39 block5_sepconv2_act\n",
            "40 block5_sepconv2\n",
            "41 block5_sepconv2_bn\n",
            "42 block5_sepconv3_act\n",
            "43 block5_sepconv3\n",
            "44 block5_sepconv3_bn\n",
            "45 add_3\n",
            "46 block6_sepconv1_act\n",
            "47 block6_sepconv1\n",
            "48 block6_sepconv1_bn\n",
            "49 block6_sepconv2_act\n",
            "50 block6_sepconv2\n",
            "51 block6_sepconv2_bn\n",
            "52 block6_sepconv3_act\n",
            "53 block6_sepconv3\n",
            "54 block6_sepconv3_bn\n",
            "55 add_4\n",
            "56 block7_sepconv1_act\n",
            "57 block7_sepconv1\n",
            "58 block7_sepconv1_bn\n",
            "59 block7_sepconv2_act\n",
            "60 block7_sepconv2\n",
            "61 block7_sepconv2_bn\n",
            "62 block7_sepconv3_act\n",
            "63 block7_sepconv3\n",
            "64 block7_sepconv3_bn\n",
            "65 add_5\n",
            "66 block8_sepconv1_act\n",
            "67 block8_sepconv1\n",
            "68 block8_sepconv1_bn\n",
            "69 block8_sepconv2_act\n",
            "70 block8_sepconv2\n",
            "71 block8_sepconv2_bn\n",
            "72 block8_sepconv3_act\n",
            "73 block8_sepconv3\n",
            "74 block8_sepconv3_bn\n",
            "75 add_6\n",
            "76 block9_sepconv1_act\n",
            "77 block9_sepconv1\n",
            "78 block9_sepconv1_bn\n",
            "79 block9_sepconv2_act\n",
            "80 block9_sepconv2\n",
            "81 block9_sepconv2_bn\n",
            "82 block9_sepconv3_act\n",
            "83 block9_sepconv3\n",
            "84 block9_sepconv3_bn\n",
            "85 add_7\n",
            "86 block10_sepconv1_act\n",
            "87 block10_sepconv1\n",
            "88 block10_sepconv1_bn\n",
            "89 block10_sepconv2_act\n",
            "90 block10_sepconv2\n",
            "91 block10_sepconv2_bn\n",
            "92 block10_sepconv3_act\n",
            "93 block10_sepconv3\n",
            "94 block10_sepconv3_bn\n",
            "95 add_8\n",
            "96 block11_sepconv1_act\n",
            "97 block11_sepconv1\n",
            "98 block11_sepconv1_bn\n",
            "99 block11_sepconv2_act\n",
            "100 block11_sepconv2\n",
            "101 block11_sepconv2_bn\n",
            "102 block11_sepconv3_act\n",
            "103 block11_sepconv3\n",
            "104 block11_sepconv3_bn\n",
            "105 add_9\n",
            "106 block12_sepconv1_act\n",
            "107 block12_sepconv1\n",
            "108 block12_sepconv1_bn\n",
            "109 block12_sepconv2_act\n",
            "110 block12_sepconv2\n",
            "111 block12_sepconv2_bn\n",
            "112 block12_sepconv3_act\n",
            "113 block12_sepconv3\n",
            "114 block12_sepconv3_bn\n",
            "115 add_10\n",
            "116 block13_sepconv1_act\n",
            "117 block13_sepconv1\n",
            "118 block13_sepconv1_bn\n",
            "119 block13_sepconv2_act\n",
            "120 block13_sepconv2\n",
            "121 block13_sepconv2_bn\n",
            "122 conv2d_3\n",
            "123 block13_pool\n",
            "124 batch_normalization_3\n",
            "125 add_11\n",
            "126 block14_sepconv1\n",
            "127 block14_sepconv1_bn\n",
            "128 block14_sepconv1_act\n",
            "129 block14_sepconv2\n",
            "130 block14_sepconv2_bn\n",
            "131 block14_sepconv2_act\n",
            "132 global_average_pooling2d\n",
            "133 dense\n"
          ],
          "name": "stdout"
        }
      ]
    },
    {
      "cell_type": "code",
      "metadata": {
        "id": "35F_Oq7MpE06"
      },
      "source": [
        "#base_model의 가중치를 동결\n",
        "for layer in base_model.layers:\n",
        "    layer.trainable = False"
      ],
      "execution_count": null,
      "outputs": []
    },
    {
      "cell_type": "code",
      "metadata": {
        "colab": {
          "base_uri": "https://localhost:8080/"
        },
        "id": "60XrvEbipKCV",
        "outputId": "1c056b48-6762-497f-980b-12579996196e"
      },
      "source": [
        "# gpu로 바꾸고 실행\n",
        "optimizer = keras.optimizers.SGD(lr=0.2, momentum=0.9, decay=0.01)\n",
        "model.compile(loss=\"sparse_categorical_crossentropy\", optimizer=optimizer,\n",
        "              metrics=[\"accuracy\"])\n",
        "history = model.fit(train_set,\n",
        "                    steps_per_epoch=int(0.75 * dataset_size / batch_size),\n",
        "                    validation_data=valid_set,\n",
        "                    validation_steps=int(0.15 * dataset_size / batch_size),\n",
        "                    epochs=5)"
      ],
      "execution_count": null,
      "outputs": [
        {
          "output_type": "stream",
          "text": [
            "Epoch 1/5\n",
            "86/86 [==============================] - 13s 102ms/step - loss: 2.5368 - accuracy: 0.6648 - val_loss: 1.4973 - val_accuracy: 0.8309\n",
            "Epoch 2/5\n",
            "86/86 [==============================] - 8s 91ms/step - loss: 0.7030 - accuracy: 0.9016 - val_loss: 1.0429 - val_accuracy: 0.8732\n",
            "Epoch 3/5\n",
            "86/86 [==============================] - 8s 90ms/step - loss: 0.2756 - accuracy: 0.9414 - val_loss: 0.9774 - val_accuracy: 0.8566\n",
            "Epoch 4/5\n",
            "86/86 [==============================] - 8s 91ms/step - loss: 0.1700 - accuracy: 0.9578 - val_loss: 0.8394 - val_accuracy: 0.8768\n",
            "Epoch 5/5\n",
            "86/86 [==============================] - 8s 91ms/step - loss: 0.0943 - accuracy: 0.9713 - val_loss: 0.8729 - val_accuracy: 0.8658\n"
          ],
          "name": "stdout"
        }
      ]
    },
    {
      "cell_type": "code",
      "metadata": {
        "colab": {
          "base_uri": "https://localhost:8080/"
        },
        "id": "qAJNRrxNpgH1",
        "outputId": "cd52dfc0-af4f-49bc-9612-23d6bcdf4b21"
      },
      "source": [
        "# 이제 동결을 해제하고 학습.\n",
        "for layer in base_model.layers:\n",
        "    layer.trainable = True\n",
        "\n",
        "optimizer = keras.optimizers.SGD(learning_rate=0.01, momentum=0.9,\n",
        "                                 nesterov=True, decay=0.001)\n",
        "model.compile(loss=\"sparse_categorical_crossentropy\", optimizer=optimizer,\n",
        "              metrics=[\"accuracy\"])\n",
        "history = model.fit(train_set,\n",
        "                    steps_per_epoch=int(0.75 * dataset_size / batch_size),\n",
        "                    validation_data=valid_set,\n",
        "                    validation_steps=int(0.15 * dataset_size / batch_size),\n",
        "                    epochs=10) # 더 학습해도 되지만 10번만하겠다"
      ],
      "execution_count": null,
      "outputs": [
        {
          "output_type": "stream",
          "text": [
            "Epoch 1/10\n",
            "86/86 [==============================] - 38s 400ms/step - loss: 0.1814 - accuracy: 0.9473 - val_loss: 0.7778 - val_accuracy: 0.8511\n",
            "Epoch 2/10\n",
            "86/86 [==============================] - 33s 389ms/step - loss: 0.0636 - accuracy: 0.9834 - val_loss: 0.3377 - val_accuracy: 0.9154\n",
            "Epoch 3/10\n",
            "86/86 [==============================] - 33s 388ms/step - loss: 0.0261 - accuracy: 0.9903 - val_loss: 0.2890 - val_accuracy: 0.9191\n",
            "Epoch 4/10\n",
            "86/86 [==============================] - 33s 389ms/step - loss: 0.0159 - accuracy: 0.9962 - val_loss: 0.2948 - val_accuracy: 0.9210\n",
            "Epoch 5/10\n",
            "86/86 [==============================] - 33s 389ms/step - loss: 0.0188 - accuracy: 0.9933 - val_loss: 0.2890 - val_accuracy: 0.9191\n",
            "Epoch 6/10\n",
            "86/86 [==============================] - 33s 389ms/step - loss: 0.0103 - accuracy: 0.9988 - val_loss: 0.2603 - val_accuracy: 0.9246\n",
            "Epoch 7/10\n",
            "86/86 [==============================] - 33s 389ms/step - loss: 0.0031 - accuracy: 0.9997 - val_loss: 0.2702 - val_accuracy: 0.9301\n",
            "Epoch 8/10\n",
            "86/86 [==============================] - 33s 389ms/step - loss: 0.0050 - accuracy: 0.9983 - val_loss: 0.2880 - val_accuracy: 0.9320\n",
            "Epoch 9/10\n",
            "86/86 [==============================] - 33s 390ms/step - loss: 0.0081 - accuracy: 0.9956 - val_loss: 0.2488 - val_accuracy: 0.9485\n",
            "Epoch 10/10\n",
            "86/86 [==============================] - 33s 390ms/step - loss: 0.0037 - accuracy: 0.9991 - val_loss: 0.2730 - val_accuracy: 0.9320\n"
          ],
          "name": "stdout"
        }
      ]
    },
    {
      "cell_type": "markdown",
      "metadata": {
        "id": "q0Dw0ovnq8u3"
      },
      "source": [
        "## 분류와 위치 추정"
      ]
    },
    {
      "cell_type": "markdown",
      "metadata": {
        "id": "l3TiKl0xrESF"
      },
      "source": [
        "바운딩박스를 예측하는 일반적인 방법은 물체 중심의 수평, 수직 좌표의 높이, 너비를 예측하는 것이다.  \n",
        "네 개의 숫자를 예측해야한다.  \n",
        "네 개의 유닛을 가진 두번째 밀집출력층을 추가하고 MSE 손실을 사용해 훈련한다  "
      ]
    },
    {
      "cell_type": "code",
      "metadata": {
        "id": "pWZtqYAASKPu"
      },
      "source": [
        "base_model = keras.applications.xception.Xception(weights=\"imagenet\",\n",
        "                                                  include_top=False)\n",
        "avg = keras.layers.GlobalAveragePooling2D()(base_model.output) # 평균풀링\n",
        "class_output = keras.layers.Dense(n_classes, activation=\"softmax\")(avg) # 클래스 예측\n",
        "loc_output = keras.layers.Dense(4)(avg) # 디텍션박스 예측\n",
        "model = keras.models.Model(inputs=base_model.input,\n",
        "                           outputs=[class_output, loc_output]) # 출력을 2개로\n",
        "\n",
        "optimizer = keras.optimizers.SGD(lr=0.2, momentum=0.9, decay=0.01)\n",
        "model.compile(loss=[\"sparse_categorical_crossentropy\", \"mse\"],\n",
        "              loss_weights=[0.8, 0.2], # depends on what you care most about\n",
        "              optimizer=optimizer, metrics=[\"accuracy\"])"
      ],
      "execution_count": null,
      "outputs": []
    },
    {
      "cell_type": "markdown",
      "metadata": {
        "id": "ZkZkUE2bWyfi"
      },
      "source": [
        "MSE는 모델을 훈련하기 위한 손실함수로 사용할 수 있지만   모델이 바운딩 박스를 얼마나 잘 예측하는지 평가하는 데는 좋은 지표가 아니다  \n",
        "IoU(interaction over union)를 사용한다  \n",
        "IoU는 중첩되는 영역을 예측과 레이블의 합집합으로 나눈다.  \n"
      ]
    },
    {
      "cell_type": "markdown",
      "metadata": {
        "id": "Nw9LpgOgnPxk"
      },
      "source": [
        "## 객체탐지\n",
        "꽤 오래 사용되던 방법은 하나의 물체를 분류하고 위치를 찾는 분류기를 훈련한 다음 이미지를 모두 훑는 것이다.  \n",
        "\n",
        "흔히 사용하는 방법은 NMS이다.  \n",
        "1. CNN에 또 다른 꽃이 이미지에 존재하는지 확률을 추정하기위해 존재여부 출력을 추가한다.  \n",
        "꽃이 들어있지 않은 바운딩 박스가 모두 삭제될 것이다.\n",
        "\n",
        "2. 존재여부가 가장 높은 바운딩 박스를 찾고 이 박스와 많이 중첩된 다른 바운딩 박스를 모두 제거한다.  \n",
        "그리고 제거할 바운딩 박스가 없을때까지 반복한다"
      ]
    },
    {
      "cell_type": "markdown",
      "metadata": {
        "id": "oJCwB6ZZr-F0"
      },
      "source": [
        "해당 방법은 잘 작동하지만 CNN을 여러번 실행시켜야 해서 느리다. 다행히 ***완전 합성곱 신경망(FCN)*** 을 사용하면 CNN을 훨씬 빠르게 이미지에 슬라이딩 시킬 수 있다."
      ]
    },
    {
      "cell_type": "markdown",
      "metadata": {
        "id": "e8L-PvZbtF8Q"
      },
      "source": [
        "### 완전 합성곱 신경망"
      ]
    },
    {
      "cell_type": "markdown",
      "metadata": {
        "id": "ie8QRvSFtLcN"
      },
      "source": [
        "CNN 맨 위의 밀집층을 합성곱 층으로 바꿀수 있다.  \n",
        "그렇게 되면 모든 층이 convolution 층이 되는데  \n",
        "이를 FCN(fully convolutional network)라 한다.  \n"
      ]
    },
    {
      "cell_type": "markdown",
      "metadata": {
        "id": "rKCAgzAm92-A"
      },
      "source": [
        "\n",
        "7 * 7( 특성맵의 크기) 크기 특성맵 100개를 출력하는 합성곱층 위에 뉴런이 200개 있는 밀집층이 있다.  \n",
        "뉴런마다 하나의 값이나오기 때문에 200개의 값이 생긴다.     \n"
      ]
    },
    {
      "cell_type": "markdown",
      "metadata": {
        "id": "6wrIvfbWKs0h"
      },
      "source": [
        "![image.png](data:image/png;base64,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)"
      ]
    },
    {
      "cell_type": "markdown",
      "metadata": {
        "id": "dQ2EWy8yKrYe"
      },
      "source": [
        "\n",
        "이 밀집층을 7 * 7 크기의 필터 200 개와 valid 패딩을 사용하는 합성곱층으로 바꿔보자  \n",
        "이 층은 1 * 1 크기의 특성맵 200개를 출력할 것이다.  \n",
        "\n",
        "이는 밀집층과 마찬가지로 200개의 숫자가 출력된다  "
      ]
    },
    {
      "cell_type": "markdown",
      "metadata": {
        "id": "QFRUSgCfPfPW"
      },
      "source": [
        "![image.png](data:image/png;base64,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)"
      ]
    },
    {
      "cell_type": "markdown",
      "metadata": {
        "id": "CqpBXzK7G1RE"
      },
      "source": [
        "\n",
        "FCN는 합성곱 층만 가지므로 어떤 크기의 이미지에서도 훈련할 수 있다  \n"
      ]
    },
    {
      "cell_type": "markdown",
      "metadata": {
        "id": "oEmv6mnLUBZT"
      },
      "source": [
        "FCN은 전체 이미지를 딱 한번 처리   \n",
        "각 셀(10개의 특성맵에서 같은 위치에 높인 배열의 원소)은 10개의 숫자(5개 클래스 확률, 1개의 존재여부 점수, 4개의 바운딩 박스 좌표)를 담고있다.   \n",
        "이는 원래 CNN이 NMS방식으로 슬라이딩 하는 것과 같다."
      ]
    },
    {
      "cell_type": "markdown",
      "metadata": {
        "id": "3X30Mi9fVk-C"
      },
      "source": [
        "FCN 층은 물체의 위치에 대한 정보도 가지고있다.  \n",
        "각 출력물은 하나의 클래스를 대표한다.  \n",
        "대략적인 특성맵들의 크기를 원래 이미지 크기대로 복원 해줄 필요가 있다. -> 디컨볼루션(업샘플링)  \n"
      ]
    },
    {
      "cell_type": "markdown",
      "metadata": {
        "id": "7M4_7jcwGdWm"
      },
      "source": [
        "### 시맨틱 분할\n",
        "픽셀이 속한 객체의 클래스로 분류된다.  \n",
        "이미지가 CNN을 통과할때 점진적으로 위치정보를 잃는다.    \n",
        "사전 훈련된 CNN을 FCN으로 변환한다.   \n",
        "마지막 층이 입력 이미지보다 32배나 작은 특성맵을 출력  \n",
        "\n",
        "해상도를 32배로 늘리는 업샘플링(디컨볼루션) 필요  \n",
        "\n",
        "\n"
      ]
    },
    {
      "cell_type": "markdown",
      "metadata": {
        "id": "G9-HP3wJLl0F"
      },
      "source": [
        "아래쪽 층에서부터 시킵연결을 추가.  \n",
        "출력 이미지를 업샘츨링하고 아래층의 출력을 더하여 해상도를 두배로 키운다.   \n",
        "그 후 18배로 늘려서 업샘플링하면 최종적으로 32배의 업샘플링을 달성한다.  \n",
        "이 방식은 풀링 킁에서 잃은 일부 공간 정보를 복원한다.  \n",
        "이를 초해상도 라고 부른다.  \n",
        "\n"
      ]
    },
    {
      "cell_type": "markdown",
      "metadata": {
        "id": "9RqVbthbX-RW"
      },
      "source": [
        "### YOLO\n",
        "https://mickael-k.tistory.com/27  \n",
        "YOLO(you only look once)는 딱 한번만 본다는 의미이다.(FCN은 아님)  \n",
        "매우 빨라서 실시간비디오에도 적용이 가능  \n",
        "YOLOv3는 앞에서 설명한 구조와 비슷하지만 중요한 차이점이 있다.  \n",
        "* 각 격자셀마다 1개가 아니라 5개의 바운딩 박스를 출력한다. 바운딩 박스 마다 하나의 존재여부 점수가 부여된다.   \n",
        "20개의 클래스가 있는 데이터셋에서 훈련되었기때문에 격자 셀마다 20개의 클래스 확률을 출력한다.  \n",
        "따라서 격자 셀 마다 총 45개의 숫자가 출력된다.  \n",
        "각각 4개의 좌표를 가진 5개의 바운딩박스, 5개의 존재여부, 20개의 클래스 확률  \n",
        "YOLO초기모델은 바운딩박스당 클래스 확률을 갖지만 YOLOv3에선 셀당 클래스 확률을 갖는다\n",
        "\n",
        "\n",
        "* 바운딩박스당 나온 클래스들의 확률과 존재여부를 곱하여 7 * 7 * 5 개의 Class-specific confidence score를 갖게된다. NMS(Non Maximum Suppression)을 통해 중복되는 박스를 없앤다.  \n",
        "Class confidence score(존재확률) 기준으로 박스를 정렬  \n",
        "그 후 score가 제일 높은 박스를 기준으로 다른 박스를 순서대로 비교하며 NMS를 진행  \n",
        "최종 박스 그리기\n",
        "\n",
        "\n"
      ]
    },
    {
      "cell_type": "markdown",
      "metadata": {
        "id": "m-apru79mKre"
      },
      "source": [
        "\n",
        "\n",
        "\n",
        "\n",
        "* YOLOv3은 바운딩박스 중심의 절대 좌표를 예측하는 대신 격자 셀에 대한 상대 좌표를 예측한다.  \n",
        "각 격자셀에 대해 바운딩박스의 중심이 격자 셀 안에 높인 것만을 예측하도록 훈련,(바운딩 박스 자체는 격자 셀 밖으로 넘어갈 수 있다.  \n",
        "\n",
        "* v3의 경우 앵커박스개념을 도입했다. \n",
        "anchor가 없다면 초기학습에서 아무런 정보없이 object의 크기를 예측해야하므로 학습이 오래걸린다.  \n",
        "v3는 k-평균을 사용해 바운딩 박스의 크기를 정한다. 이를 anchor라 한다.\n",
        "\n",
        "* 훈련하는 동안 몇 번의 배치마다 랜덤하게 새로운 이미지 차원을 선택(330 * 330 ~ 608 * 608) 까지.  \n",
        "이를 통해 다른 스케일의 객체를 감지하는 방법을 학습한다."
      ]
    },
    {
      "cell_type": "markdown",
      "metadata": {
        "id": "K-Oy881RO35z"
      },
      "source": [
        "이미지 -> CNN -> FC -> PT(Prediction Tensor)  \n",
        "pt = (x,y,w,h,s) * B + class별 예측  \n",
        "> s = ConfidenceScore(존재여부점수)  \n",
        " = (존재확률 * IOU) \n",
        " B = 바운딩박스 개수  \n",
        "\n",
        "물체가 존재하지 않으면 loss주지않고 그냥 넘어간다 -> 계산속도 높임   \n",
        "https://mickael-k.tistory.com/27\n",
        "\n",
        "\n"
      ]
    },
    {
      "cell_type": "code",
      "metadata": {
        "id": "Ujk4cXOXNeeQ"
      },
      "source": [
        ""
      ],
      "execution_count": null,
      "outputs": []
    }
  ]
}